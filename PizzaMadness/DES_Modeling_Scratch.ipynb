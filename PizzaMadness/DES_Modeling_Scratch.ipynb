{
 "metadata": {
  "name": "",
  "signature": "sha256:4565e2ab79f044d3b3d8bf366b02dc914341a2843bcf864e83ce0c8069730d5d"
 },
 "nbformat": 3,
 "nbformat_minor": 0,
 "worksheets": [
  {
   "cells": [
    {
     "cell_type": "code",
     "collapsed": false,
     "input": [
      "from PizzaManager import *\n",
      "import seaborn as sns\n",
      "%matplotlib inline\n",
      "#from sklearn import ensemble"
     ],
     "language": "python",
     "metadata": {},
     "outputs": [],
     "prompt_number": 2
    },
    {
     "cell_type": "code",
     "collapsed": false,
     "input": [
      "df = getTrainingData()\n",
      "addTextLen(df)\n",
      "addPostHour(df)"
     ],
     "language": "python",
     "metadata": {},
     "outputs": [],
     "prompt_number": 11
    },
    {
     "cell_type": "code",
     "collapsed": false,
     "input": [
      "X_train,y_train = getNumericTraining(df)"
     ],
     "language": "python",
     "metadata": {},
     "outputs": [],
     "prompt_number": 12
    },
    {
     "cell_type": "code",
     "collapsed": false,
     "input": [
      "scaling = sk.preprocessing.StandardScaler()\n",
      "X_train = scaling.fit_transform(X_train)"
     ],
     "language": "python",
     "metadata": {},
     "outputs": [],
     "prompt_number": 4
    },
    {
     "cell_type": "code",
     "collapsed": false,
     "input": [
      "pizzaSVM = svm.SVC(kernel='linear', C=.1)\n",
      "scores = cross_validation.cross_val_score(pizzaSVM, X_train, y_train, cv=10,scoring='f1')\n",
      "pizzaSVM.fit(X_train,y_train)\n",
      "print(\"Accuracy: %0.2f (+/- %0.2f)\" % (scores.mean(), scores.std() * 2))"
     ],
     "language": "python",
     "metadata": {},
     "outputs": [
      {
       "output_type": "stream",
       "stream": "stdout",
       "text": [
        "Accuracy: 0.03 (+/- 0.06)\n"
       ]
      },
      {
       "output_type": "stream",
       "stream": "stderr",
       "text": [
        "/opt/local/Library/Frameworks/Python.framework/Versions/2.7/lib/python2.7/site-packages/sklearn/metrics/metrics.py:1771: UndefinedMetricWarning: F-score is ill-defined and being set to 0.0 due to no predicted samples.\n",
        "  'precision', 'predicted', average, warn_for)\n"
       ]
      }
     ],
     "prompt_number": 5
    },
    {
     "cell_type": "code",
     "collapsed": false,
     "input": [
      "pizzaSVM2 = svm.SVC(kernel='linear', C=.01)\n",
      "scores = cross_validation.cross_val_score(pizzaSVM2, X_train, y_train, cv=10,scoring='f1')\n",
      "pizzaSVM2.fit(X_train,y_train)\n",
      "print(\"Accuracy: %0.2f (+/- %0.2f)\" % (scores.mean(), scores.std() * 2))"
     ],
     "language": "python",
     "metadata": {},
     "outputs": [
      {
       "output_type": "stream",
       "stream": "stdout",
       "text": [
        "Accuracy: 0.02 (+/- 0.04)\n"
       ]
      }
     ],
     "prompt_number": 16
    },
    {
     "cell_type": "code",
     "collapsed": false,
     "input": [
      "pizzaTree = sk.ensemble.RandomForestClassifier(n_estimators = 10)\n",
      "scores = cross_validation.cross_val_score(pizzaTree, X_train, y_train, cv=10,scoring='f1')\n",
      "pizzaTree.fit(X_train,y_train)\n",
      "print(\"Accuracy: %0.2f (+/- %0.2f)\" % (scores.mean(), scores.std() * 2))"
     ],
     "language": "python",
     "metadata": {},
     "outputs": [
      {
       "output_type": "stream",
       "stream": "stdout",
       "text": [
        "Accuracy: 0.16 (+/- 0.07)\n"
       ]
      }
     ],
     "prompt_number": 35
    },
    {
     "cell_type": "code",
     "collapsed": false,
     "input": [
      "pizzaTree2 = sk.ensemble.RandomForestClassifier(n_estimators = 100)\n",
      "scores = cross_validation.cross_val_score(pizzaTree2, X_train, y_train, cv=10,scoring='f1')\n",
      "pizzaTree2.fit(X_train,y_train)\n",
      "print(\"Accuracy: %0.2f (+/- %0.2f)\" % (scores.mean(), scores.std() * 2))"
     ],
     "language": "python",
     "metadata": {},
     "outputs": [
      {
       "output_type": "stream",
       "stream": "stdout",
       "text": [
        "Accuracy: 0.19 (+/- 0.09)\n"
       ]
      }
     ],
     "prompt_number": 36
    },
    {
     "cell_type": "code",
     "collapsed": false,
     "input": [
      "pizzaLog = sk.linear_model.LogisticRegression(penalty='l2',C=.1)\n",
      "scores = cross_validation.cross_val_score(pizzaLog, X_train, y_train, cv=10,scoring='f1')\n",
      "pizzaLog.fit(X_train,y_train)\n",
      "print(\"Accuracy: %0.2f (+/- %0.2f)\" % (scores.mean(), scores.std() * 2))"
     ],
     "language": "python",
     "metadata": {},
     "outputs": [
      {
       "output_type": "stream",
       "stream": "stdout",
       "text": [
        "Accuracy: 0.12 (+/- 0.10)\n"
       ]
      }
     ],
     "prompt_number": 19
    },
    {
     "cell_type": "code",
     "collapsed": false,
     "input": [
      "pizzaLog2 = sk.linear_model.LogisticRegression(penalty='l2',C=.0001)\n",
      "scores = cross_validation.cross_val_score(pizzaLog2, X_train, y_train, cv=10,scoring='f1')\n",
      "pizzaLog2.fit(X_train,y_train)\n",
      "print(\"Accuracy: %0.2f (+/- %0.2f)\" % (scores.mean(), scores.std() * 2))"
     ],
     "language": "python",
     "metadata": {},
     "outputs": [
      {
       "output_type": "stream",
       "stream": "stdout",
       "text": [
        "Accuracy: 0.14 (+/- 0.10)\n"
       ]
      }
     ],
     "prompt_number": 16
    },
    {
     "cell_type": "code",
     "collapsed": false,
     "input": [
      "predicted = pizzaLog2.predict(X_train)\n",
      "print(sk.metrics.confusion_matrix(y_train, predicted))\n",
      "print(sk.metrics.classification_report(y_train, predicted)) "
     ],
     "language": "python",
     "metadata": {},
     "outputs": [
      {
       "output_type": "stream",
       "stream": "stdout",
       "text": [
        "[[2974   72]\n",
        " [ 906   88]]\n",
        "             precision    recall  f1-score   support\n",
        "\n",
        "          0       0.77      0.98      0.86      3046\n",
        "          1       0.55      0.09      0.15       994\n",
        "\n",
        "avg / total       0.71      0.76      0.69      4040\n",
        "\n"
       ]
      }
     ],
     "prompt_number": 17
    },
    {
     "cell_type": "code",
     "collapsed": false,
     "input": [
      "predicted = pizzaTree.predict(X_train)"
     ],
     "language": "python",
     "metadata": {},
     "outputs": [],
     "prompt_number": 21
    },
    {
     "cell_type": "code",
     "collapsed": false,
     "input": [
      "print(sk.metrics.confusion_matrix(y_train, predicted))"
     ],
     "language": "python",
     "metadata": {},
     "outputs": [
      {
       "output_type": "stream",
       "stream": "stdout",
       "text": [
        "[[3046    0]\n",
        " [ 103  891]]\n"
       ]
      }
     ],
     "prompt_number": 22
    },
    {
     "cell_type": "code",
     "collapsed": false,
     "input": [
      "print(sk.metrics.classification_report(y_train, predicted))"
     ],
     "language": "python",
     "metadata": {},
     "outputs": [
      {
       "output_type": "stream",
       "stream": "stdout",
       "text": [
        "             precision    recall  f1-score   support\n",
        "\n",
        "          0       0.97      1.00      0.98      3046\n",
        "          1       1.00      0.90      0.95       994\n",
        "\n",
        "avg / total       0.98      0.97      0.97      4040\n",
        "\n"
       ]
      }
     ],
     "prompt_number": 23
    },
    {
     "cell_type": "code",
     "collapsed": false,
     "input": [],
     "language": "python",
     "metadata": {},
     "outputs": [],
     "prompt_number": 23
    },
    {
     "cell_type": "code",
     "collapsed": false,
     "input": [
      "testdf = getTestData()\n",
      "addTextLen(testdf)\n",
      "addPostHour(testdf)\n",
      "X_test = getNumericTest(testdf)\n",
      "X_test = scaling.transform(X_test)"
     ],
     "language": "python",
     "metadata": {},
     "outputs": [],
     "prompt_number": 26
    },
    {
     "cell_type": "code",
     "collapsed": false,
     "input": [],
     "language": "python",
     "metadata": {},
     "outputs": []
    },
    {
     "cell_type": "code",
     "collapsed": false,
     "input": [
      "testdf = pd.read_json('test.json')\n",
      "testcheat = (testdf.giver_username_if_known!='N/A').values"
     ],
     "language": "python",
     "metadata": {},
     "outputs": [],
     "prompt_number": 13
    },
    {
     "cell_type": "code",
     "collapsed": false,
     "input": [
      "df = pd.read_json('train.json')\n",
      "cheat = (df.giver_username_if_known!='N/A').values"
     ],
     "language": "python",
     "metadata": {},
     "outputs": [],
     "prompt_number": 28
    },
    {
     "cell_type": "code",
     "collapsed": false,
     "input": [
      "fixed = np.logical_and(cheat,np.logical_not(predicted))\n",
      "np.sum(fixed)"
     ],
     "language": "python",
     "metadata": {},
     "outputs": [
      {
       "metadata": {},
       "output_type": "pyout",
       "prompt_number": 29,
       "text": [
        "28"
       ]
      }
     ],
     "prompt_number": 29
    },
    {
     "cell_type": "code",
     "collapsed": false,
     "input": [
      "np.sum(testcheat)"
     ],
     "language": "python",
     "metadata": {},
     "outputs": [
      {
       "metadata": {},
       "output_type": "pyout",
       "prompt_number": 14,
       "text": [
        "113"
       ]
      }
     ],
     "prompt_number": 14
    },
    {
     "cell_type": "code",
     "collapsed": false,
     "input": [
      "predicted = pizzaTree2.predict(X_test)"
     ],
     "language": "python",
     "metadata": {},
     "outputs": [],
     "prompt_number": 31
    },
    {
     "cell_type": "code",
     "collapsed": false,
     "input": [
      "fixed = np.logical_and(testcheat,np.logical_not(predicted))\n",
      "np.sum(fixed)"
     ],
     "language": "python",
     "metadata": {},
     "outputs": [
      {
       "metadata": {},
       "output_type": "pyout",
       "prompt_number": 32,
       "text": [
        "99"
       ]
      }
     ],
     "prompt_number": 32
    },
    {
     "cell_type": "code",
     "collapsed": false,
     "input": [
      "np.mean(predicted)"
     ],
     "language": "python",
     "metadata": {},
     "outputs": [
      {
       "metadata": {},
       "output_type": "pyout",
       "prompt_number": 33,
       "text": [
        "0.056407112201103615"
       ]
      }
     ],
     "prompt_number": 33
    },
    {
     "cell_type": "code",
     "collapsed": false,
     "input": [
      "np.mean(y_train)"
     ],
     "language": "python",
     "metadata": {},
     "outputs": [
      {
       "metadata": {},
       "output_type": "pyout",
       "prompt_number": 34,
       "text": [
        "0.24603960396039604"
       ]
      }
     ],
     "prompt_number": 34
    },
    {
     "cell_type": "code",
     "collapsed": false,
     "input": [
      "writeSolution(predicted,\"submitDS_treeScale1\")"
     ],
     "language": "python",
     "metadata": {},
     "outputs": [],
     "prompt_number": 41
    },
    {
     "cell_type": "code",
     "collapsed": false,
     "input": [
      "predictedCheat = np.logical_or(predicted,testcheat).astype(int)"
     ],
     "language": "python",
     "metadata": {},
     "outputs": [],
     "prompt_number": 51
    },
    {
     "cell_type": "code",
     "collapsed": false,
     "input": [
      "writeSolution(predictedCheat,\"submitDS_treeScaleCheat1\")"
     ],
     "language": "python",
     "metadata": {},
     "outputs": [],
     "prompt_number": 52
    },
    {
     "cell_type": "code",
     "collapsed": false,
     "input": [],
     "language": "python",
     "metadata": {},
     "outputs": []
    },
    {
     "cell_type": "code",
     "collapsed": false,
     "input": [],
     "language": "python",
     "metadata": {},
     "outputs": []
    },
    {
     "cell_type": "heading",
     "level": 3,
     "metadata": {},
     "source": [
      "Word2vec data"
     ]
    },
    {
     "cell_type": "code",
     "collapsed": false,
     "input": [
      "df = pd.read_csv(\"/Users/dstuck/projects/AlliedMastercomputer/PizzaMadness/newDiffVecDF.csv\",na_filter=False)\n",
      "#df.drop([u'total_text'],axis=1,inplace=True)\n",
      "#numdf = df.drop([u'requester_number_of_posts_on_raop_at_request',u'requester_number_of_subreddits_at_request',u'requester_upvotes_minus_downvotes_at_request', u'post_hour_utc',u'request_id', u'request_text_edit_aware', u'request_title', u'requester_subreddits_at_request', u'requester_username'],axis=1)\n",
      "#cols = list(numdf)\n",
      "#cols.insert(0, cols.pop(cols.index('requester_received_pizza'))) \n",
      "#numdf = numdf.ix[:, cols]\n",
      "#numdf.dropna(inplace=True)\n",
      "#trainData=numdf.values\n",
      "#X_train=trainData[0::,1::].astype(float)\n",
      "#y_train=trainData[0::,0]==u'True'\n",
      "X_train,y_train = getNumericTraining(df)\n",
      "X_train = X_train[:,1:-60]"
     ],
     "language": "python",
     "metadata": {},
     "outputs": [],
     "prompt_number": 23
    },
    {
     "cell_type": "code",
     "collapsed": false,
     "input": [
      "testdf = pd.read_csv(\"/Users/dstuck/projects/AlliedMastercomputer/PizzaMadness/newDiffVecTest.csv\",na_filter=False)\n",
      "#testdf.drop([u'total_text'],axis=1,inplace=True)\n",
      "#testdf.drop([u'request_text_edit_aware'],axis=1,inplace=True)\n",
      "#testnumdf = testdf\n",
      "#dropList = [u'total_text',u'request_id', u'request_text_edit_aware', u'request_title', u'requester_subreddits_at_request', u'requester_username',u'giver_username_if_known']\n",
      "#for item in dropList:\n",
      "#    if item in testnumdf:\n",
      "#        testnumdf.drop(item,axis=1,inplace=True)    \n",
      "#testData=testnumdf.values\n",
      "#X_test=testData[0::,0::].astype(float)\n",
      "X_test = getNumericTest(testdf)"
     ],
     "language": "python",
     "metadata": {},
     "outputs": [],
     "prompt_number": 24
    },
    {
     "cell_type": "code",
     "collapsed": false,
     "input": [
      "print X_train.shape\n",
      "print X_test.shape"
     ],
     "language": "python",
     "metadata": {},
     "outputs": [
      {
       "output_type": "stream",
       "stream": "stdout",
       "text": [
        "(4040, 53)\n",
        "(1631, 53)\n"
       ]
      }
     ],
     "prompt_number": 25
    },
    {
     "cell_type": "code",
     "collapsed": false,
     "input": [
      "scaling = sk.preprocessing.StandardScaler()\n",
      "X_train = scaling.fit_transform(X_train)\n",
      "X_test = scaling.transform(X_test)"
     ],
     "language": "python",
     "metadata": {},
     "outputs": [],
     "prompt_number": 26
    },
    {
     "cell_type": "code",
     "collapsed": false,
     "input": [
      "pizzaLog = sk.linear_model.LogisticRegression(penalty='l2',C=0.00001)\n",
      "scores = cross_validation.cross_val_score(pizzaLog, X_train, y_train, cv=10,scoring='f1')\n",
      "pizzaLog.fit(X_train,y_train)\n",
      "print(\"Accuracy: %0.2f (+/- %0.2f)\" % (scores.mean(), scores.std() * 2))"
     ],
     "language": "python",
     "metadata": {},
     "outputs": [
      {
       "output_type": "stream",
       "stream": "stdout",
       "text": [
        "Accuracy: 0.28 (+/- 0.10)\n"
       ]
      }
     ],
     "prompt_number": 27
    },
    {
     "cell_type": "code",
     "collapsed": false,
     "input": [
      "pizzaSVM = svm.SVC(kernel='rbf', C=.0001)\n",
      "scores = cross_validation.cross_val_score(pizzaSVM, X_train, y_train, cv=10,scoring='f1')\n",
      "pizzaSVM.fit(X_train,y_train)\n",
      "print(\"Accuracy: %0.2f (+/- %0.2f)\" % (scores.mean(), scores.std() * 2))"
     ],
     "language": "python",
     "metadata": {},
     "outputs": [
      {
       "output_type": "stream",
       "stream": "stdout",
       "text": [
        "Accuracy: 0.00 (+/- 0.00)\n"
       ]
      }
     ],
     "prompt_number": 20
    },
    {
     "cell_type": "code",
     "collapsed": false,
     "input": [
      "pizzaSVM2 = svm.SVC(kernel='linear', C=.0001)\n",
      "scores = cross_validation.cross_val_score(pizzaSVM2, X_train, y_train, cv=10,scoring='f1')\n",
      "pizzaSVM2.fit(X_train,y_train)\n",
      "print(\"Accuracy: %0.2f (+/- %0.2f)\" % (scores.mean(), scores.std() * 2))"
     ],
     "language": "python",
     "metadata": {},
     "outputs": [
      {
       "output_type": "stream",
       "stream": "stdout",
       "text": [
        "Accuracy: 0.00 (+/- 0.00)\n"
       ]
      }
     ],
     "prompt_number": 21
    },
    {
     "cell_type": "code",
     "collapsed": false,
     "input": [
      "pizzaTree = sk.ensemble.RandomForestClassifier(n_estimators = 100)\n",
      "scores = cross_validation.cross_val_score(pizzaTree, X_train, y_train, cv=10,scoring='f1')\n",
      "pizzaTree.fit(X_train,y_train)\n",
      "print(\"Accuracy: %0.2f (+/- %0.2f)\" % (scores.mean(), scores.std() * 2))"
     ],
     "language": "python",
     "metadata": {},
     "outputs": [
      {
       "output_type": "stream",
       "stream": "stdout",
       "text": [
        "Accuracy: 0.07 (+/- 0.07)\n"
       ]
      }
     ],
     "prompt_number": 37
    },
    {
     "cell_type": "code",
     "collapsed": false,
     "input": [
      "predicted = pizzaLog.predict(X_test)\n",
      "predictedCheat = np.logical_or(predicted,testcheat).astype(int)"
     ],
     "language": "python",
     "metadata": {},
     "outputs": [],
     "prompt_number": 28
    },
    {
     "cell_type": "code",
     "collapsed": false,
     "input": [
      "writeSolution(predicted,\"submitDS_logScale1\")\n",
      "writeSolution(predictedCheat,\"submitDS_logScaleCheat1\")"
     ],
     "language": "python",
     "metadata": {},
     "outputs": [],
     "prompt_number": 35
    },
    {
     "cell_type": "code",
     "collapsed": false,
     "input": [
      "predicted = pizzaTree.predict(X_test)\n",
      "predictedCheat = np.logical_or(predicted,testcheat).astype(int)\n",
      "writeSolution(predicted,\"submitDS_treeScale3\")\n",
      "writeSolution(predictedCheat,\"submitDS_treeScaleCheat3\")"
     ],
     "language": "python",
     "metadata": {},
     "outputs": [],
     "prompt_number": 38
    },
    {
     "cell_type": "code",
     "collapsed": false,
     "input": [],
     "language": "python",
     "metadata": {},
     "outputs": [],
     "prompt_number": 34
    },
    {
     "cell_type": "code",
     "collapsed": false,
     "input": [],
     "language": "python",
     "metadata": {},
     "outputs": []
    },
    {
     "cell_type": "code",
     "collapsed": false,
     "input": [
      "plotdf = pd.DataFrame(np.c_[y_train,X_train])"
     ],
     "language": "python",
     "metadata": {},
     "outputs": [],
     "prompt_number": 123
    },
    {
     "cell_type": "code",
     "collapsed": false,
     "input": [
      "plt.figure(figsize=(12, 10))\n",
      "_ = sns.corrplot(plotdf, annot=False)"
     ],
     "language": "python",
     "metadata": {},
     "outputs": [
      {
       "metadata": {},
       "output_type": "display_data",
       "png": "[encoded data removed]",
       "text": [
        "<matplotlib.figure.Figure at 0x114c19e90>"
       ]
      }
     ],
     "prompt_number": 124
    },
    {
     "cell_type": "code",
     "collapsed": false,
     "input": [
      "_ = sns.pairplot(plotdf[:50], vars=[10, 15, 19], hue=0, size=1.5)"
     ],
     "language": "python",
     "metadata": {},
     "outputs": [
      {
       "metadata": {},
       "output_type": "display_data",
       "png": "[encoded data removed]",
       "text": [
        "<matplotlib.figure.Figure at 0x1136e98d0>"
       ]
      }
     ],
     "prompt_number": 135
    },
    {
     "cell_type": "code",
     "collapsed": false,
     "input": [],
     "language": "python",
     "metadata": {},
     "outputs": [],
     "prompt_number": 128
    },
    {
     "cell_type": "code",
     "collapsed": false,
     "input": [],
     "language": "python",
     "metadata": {},
     "outputs": []
    },
    {
     "cell_type": "code",
     "collapsed": false,
     "input": [
      "df = pd.read_csv(\"/Users/dstuck/projects/AlliedMastercomputer/PizzaMadness/diffVecDF.csv\",encoding='utf-8',na_filter=False)\n",
      "X_train,y_train = getNumericTraining(df)"
     ],
     "language": "python",
     "metadata": {},
     "outputs": [],
     "prompt_number": 8
    },
    {
     "cell_type": "code",
     "collapsed": false,
     "input": [],
     "language": "python",
     "metadata": {},
     "outputs": [],
     "prompt_number": 10
    },
    {
     "cell_type": "code",
     "collapsed": false,
     "input": [
      "#df.info(verbose=True)\n",
      "#df[2107:2113]"
     ],
     "language": "python",
     "metadata": {},
     "outputs": [],
     "prompt_number": 25
    },
    {
     "cell_type": "code",
     "collapsed": false,
     "input": [],
     "language": "python",
     "metadata": {},
     "outputs": [],
     "prompt_number": 192
    },
    {
     "cell_type": "code",
     "collapsed": false,
     "input": [],
     "language": "python",
     "metadata": {},
     "outputs": []
    }
   ],
   "metadata": {}
  }
 ]
}