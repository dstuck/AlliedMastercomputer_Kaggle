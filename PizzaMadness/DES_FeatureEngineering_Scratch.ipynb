{
 "metadata": {
  "name": "",
  "signature": "sha256:741ac9feeb8b5bb3e7face0beae2b9c2ec01088c62a9851a37fb6a0d865713b5"
 },
 "nbformat": 3,
 "nbformat_minor": 0,
 "worksheets": [
  {
   "cells": [
    {
     "cell_type": "code",
     "collapsed": false,
     "input": [
      "from PizzaManager import *\n",
      "%matplotlib inline\n",
      "from datetime import datetime\n"
     ],
     "language": "python",
     "metadata": {},
     "outputs": [],
     "prompt_number": 3
    },
    {
     "cell_type": "code",
     "collapsed": false,
     "input": [
      "from gensim.models import Word2Vec\n",
      "import nltk\n",
      "import copy"
     ],
     "language": "python",
     "metadata": {},
     "outputs": [],
     "prompt_number": 4
    },
    {
     "cell_type": "code",
     "collapsed": false,
     "input": [
      "df = getTrainingData()"
     ],
     "language": "python",
     "metadata": {},
     "outputs": [],
     "prompt_number": 5
    },
    {
     "cell_type": "code",
     "collapsed": false,
     "input": [
      "df['request_len'] = df.request_text_edit_aware.apply(len)"
     ],
     "language": "python",
     "metadata": {},
     "outputs": [],
     "prompt_number": 6
    },
    {
     "cell_type": "code",
     "collapsed": false,
     "input": [
      "df['title_len'] = df.request_title.apply(len)"
     ],
     "language": "python",
     "metadata": {},
     "outputs": [],
     "prompt_number": 7
    },
    {
     "cell_type": "code",
     "collapsed": false,
     "input": [
      "datetime.utcfromtimestamp(df.unix_timestamp_of_request_utc[0]).hour"
     ],
     "language": "python",
     "metadata": {},
     "outputs": [
      {
       "metadata": {},
       "output_type": "pyout",
       "prompt_number": 8,
       "text": [
        "21"
       ]
      }
     ],
     "prompt_number": 8
    },
    {
     "cell_type": "code",
     "collapsed": false,
     "input": [
      "df['post_hour_utc'] = df.unix_timestamp_of_request_utc.apply(lambda x: (datetime.utcfromtimestamp(x).hour-10)%24)"
     ],
     "language": "python",
     "metadata": {},
     "outputs": [],
     "prompt_number": 9
    },
    {
     "cell_type": "code",
     "collapsed": false,
     "input": [
      "df['post_hour'] = df.unix_timestamp_of_request.apply(lambda x: (datetime.utcfromtimestamp(x).hour-10)%24)"
     ],
     "language": "python",
     "metadata": {},
     "outputs": [],
     "prompt_number": 10
    },
    {
     "cell_type": "code",
     "collapsed": false,
     "input": [
      "df.post_hour_utc.hist(bins=24,normed=True)\n",
      "plt.show()"
     ],
     "language": "python",
     "metadata": {},
     "outputs": [
      {
       "metadata": {},
       "output_type": "display_data",
       "png": "[encoded data removed]",
       "text": [
        "<matplotlib.figure.Figure at 0x115044850>"
       ]
      }
     ],
     "prompt_number": 11
    },
    {
     "cell_type": "code",
     "collapsed": false,
     "input": [
      "df.query('requester_received_pizza == True').post_hour_utc.hist(bins=24,alpha=0.5,label='T',normed=True)\n",
      "df.query('requester_received_pizza == False').post_hour_utc.hist(bins=24,alpha=0.5,label='F',normed=True)\n",
      "plt.legend(loc='upper right')\n",
      "plt.show()"
     ],
     "language": "python",
     "metadata": {},
     "outputs": [
      {
       "metadata": {},
       "output_type": "display_data",
       "png": "[encoded data removed]",
       "text": [
        "<matplotlib.figure.Figure at 0x108c80110>"
       ]
      }
     ],
     "prompt_number": 12
    },
    {
     "cell_type": "code",
     "collapsed": false,
     "input": [
      "df.query('requester_received_pizza == True').request_len.hist(bins=50,alpha=0.5,label='T',normed=True)\n",
      "df.query('requester_received_pizza == False').request_len.hist(bins=50,alpha=0.5,label='F',normed=True)\n",
      "plt.legend(loc='upper right')\n",
      "plt.show()"
     ],
     "language": "python",
     "metadata": {},
     "outputs": [
      {
       "metadata": {},
       "output_type": "display_data",
       "png": "[encoded data removed]",
       "text": [
        "<matplotlib.figure.Figure at 0x10cd25610>"
       ]
      }
     ],
     "prompt_number": 13
    },
    {
     "cell_type": "code",
     "collapsed": false,
     "input": [
      "df.query('requester_received_pizza == True').title_len.hist(bins=50,alpha=0.5,label='T',normed=True)\n",
      "df.query('requester_received_pizza == False').title_len.hist(bins=50,alpha=0.5,label='F',normed=True)\n",
      "plt.legend(loc='upper right')\n",
      "plt.show()"
     ],
     "language": "python",
     "metadata": {},
     "outputs": [
      {
       "metadata": {},
       "output_type": "display_data",
       "png": "[encoded data removed]",
       "text": [
        "<matplotlib.figure.Figure at 0x108c809d0>"
       ]
      }
     ],
     "prompt_number": 14
    },
    {
     "cell_type": "code",
     "collapsed": false,
     "input": [
      "df.drop([u'unix_timestamp_of_request_utc',u'unix_timestamp_of_request'],axis=1,inplace=True)"
     ],
     "language": "python",
     "metadata": {},
     "outputs": [],
     "prompt_number": 15
    },
    {
     "cell_type": "code",
     "collapsed": false,
     "input": [],
     "language": "python",
     "metadata": {},
     "outputs": [],
     "prompt_number": 15
    },
    {
     "cell_type": "code",
     "collapsed": false,
     "input": [
      "model = Word2Vec.load_word2vec_format('GoogleNews-vectors-negative300.bin', binary=True)"
     ],
     "language": "python",
     "metadata": {},
     "outputs": [],
     "prompt_number": 16
    },
    {
     "cell_type": "code",
     "collapsed": false,
     "input": [],
     "language": "python",
     "metadata": {},
     "outputs": [],
     "prompt_number": 16
    },
    {
     "cell_type": "code",
     "collapsed": false,
     "input": [],
     "language": "python",
     "metadata": {},
     "outputs": [],
     "prompt_number": 16
    },
    {
     "cell_type": "code",
     "collapsed": false,
     "input": [
      "#nltk.download()\n",
      "#https://www.ling.upenn.edu/courses/Fall_2003/ling001/penn_treebank_pos.html"
     ],
     "language": "python",
     "metadata": {},
     "outputs": [],
     "prompt_number": 17
    },
    {
     "cell_type": "code",
     "collapsed": false,
     "input": [
      "requestToken = nltk.word_tokenize(df.request_text_edit_aware[0])\n",
      "requestToken[:] = [x for x in requestToken if x in model.vocab]\n",
      "model.most_similar(positive=requestToken)"
     ],
     "language": "python",
     "metadata": {},
     "outputs": [
      {
       "metadata": {},
       "output_type": "pyout",
       "prompt_number": 18,
       "text": [
        "[(u'do', 0.6984953880310059),\n",
        " (u'pioneer_LaLanne', 0.6789397597312927),\n",
        " (u'NOVAK_DJOKOVIC_Yeah', 0.6743392944335938),\n",
        " (u'THE_PRESIDENT_Yes', 0.6739060878753662),\n",
        " (u'A.It_s', 0.6671978235244751),\n",
        " (u'Johnnie_Baston_die', 0.6667883396148682),\n",
        " (u'SERENA_WILLIAMS_Well', 0.6645997762680054),\n",
        " (u'VENUS_WILLIAMS_Yeah', 0.6644626259803772),\n",
        " (u'COACH_FISHER', 0.657346248626709),\n",
        " (u'%_#F########_9v.jsn', 0.6550319194793701)]"
       ]
      }
     ],
     "prompt_number": 18
    },
    {
     "cell_type": "code",
     "collapsed": false,
     "input": [],
     "language": "python",
     "metadata": {},
     "outputs": [],
     "prompt_number": 18
    },
    {
     "cell_type": "code",
     "collapsed": false,
     "input": [
      "requestToken = nltk.word_tokenize(df.request_text_edit_aware[11])\n",
      "requestToken[:] = [x for x in requestToken if x in model.vocab]\n",
      "model.most_similar(positive=requestToken)"
     ],
     "language": "python",
     "metadata": {},
     "outputs": [
      {
       "metadata": {},
       "output_type": "pyout",
       "prompt_number": 19,
       "text": [
        "[(u'maybe', 0.7442611455917358),\n",
        " (u'SERENA_WILLIAMS_Well', 0.7395999431610107),\n",
        " (u'pioneer_LaLanne', 0.7380592226982117),\n",
        " (u'anyway', 0.7278079390525818),\n",
        " (u'really', 0.722853422164917),\n",
        " (u'VENUS_WILLIAMS_Yeah', 0.7162444591522217),\n",
        " (u'Chiddy_Bang_maybe', 0.7108694911003113),\n",
        " (u'ANDY_RODDICK_Yeah', 0.7087395191192627),\n",
        " (u'NOVAK_DJOKOVIC_Yeah', 0.7070200443267822),\n",
        " (u'THE_PRESIDENT_Yes', 0.7039844989776611)]"
       ]
      }
     ],
     "prompt_number": 19
    },
    {
     "cell_type": "code",
     "collapsed": false,
     "input": [
      "requestToken = nltk.word_tokenize(df.request_text_edit_aware[5])\n",
      "requestToken[:] = [x for x in requestToken if x in model.vocab]\n",
      "model.most_similar(positive=requestToken)"
     ],
     "language": "python",
     "metadata": {},
     "outputs": [
      {
       "metadata": {},
       "output_type": "pyout",
       "prompt_number": 20,
       "text": [
        "[(u'just', 0.7149254083633423),\n",
        " (u'anyway', 0.7142829298973083),\n",
        " (u'really', 0.7083152532577515),\n",
        " (u'pioneer_LaLanne', 0.703301191329956),\n",
        " (u'VENUS_WILLIAMS_Yeah', 0.7012342214584351),\n",
        " (u'SERENA_WILLIAMS_Well', 0.6936242580413818),\n",
        " (u'maybe', 0.6891350746154785),\n",
        " (u'THE_PRESIDENT_Yes', 0.6889163255691528),\n",
        " (u\"Ididn't\", 0.6888042092323303),\n",
        " (u'NOVAK_DJOKOVIC_Yeah', 0.6887107491493225)]"
       ]
      }
     ],
     "prompt_number": 20
    },
    {
     "cell_type": "code",
     "collapsed": false,
     "input": [
      "requestToken;"
     ],
     "language": "python",
     "metadata": {},
     "outputs": [],
     "prompt_number": 21
    },
    {
     "cell_type": "code",
     "collapsed": false,
     "input": [
      "taggedPOS = nltk.pos_tag(requestToken)"
     ],
     "language": "python",
     "metadata": {},
     "outputs": [],
     "prompt_number": 22
    },
    {
     "cell_type": "code",
     "collapsed": false,
     "input": [
      "taggedPOS;"
     ],
     "language": "python",
     "metadata": {},
     "outputs": [],
     "prompt_number": 23
    },
    {
     "cell_type": "code",
     "collapsed": false,
     "input": [
      "verbs = [x[0] for x in taggedPOS if 'VB' in x[1]]\n",
      "nouns = [x[0] for x in taggedPOS if 'NN' in x[1]]\n",
      "adjectives = [x[0] for x in taggedPOS if 'JJ' in x[1]]"
     ],
     "language": "python",
     "metadata": {},
     "outputs": [],
     "prompt_number": 24
    },
    {
     "cell_type": "code",
     "collapsed": false,
     "input": [
      "verbs;"
     ],
     "language": "python",
     "metadata": {},
     "outputs": [],
     "prompt_number": 25
    },
    {
     "cell_type": "code",
     "collapsed": false,
     "input": [
      "nouns"
     ],
     "language": "python",
     "metadata": {},
     "outputs": [
      {
       "metadata": {},
       "output_type": "pyout",
       "prompt_number": 26,
       "text": [
        "[u'weather', u'work', u'today', u'pizza', u'today', u'payday', u'C']"
       ]
      }
     ],
     "prompt_number": 26
    },
    {
     "cell_type": "code",
     "collapsed": false,
     "input": [
      "model.most_similar(positive=nouns)"
     ],
     "language": "python",
     "metadata": {},
     "outputs": [
      {
       "metadata": {},
       "output_type": "pyout",
       "prompt_number": 27,
       "text": [
        "[(u'tomorrow', 0.5759564638137817),\n",
        " (u'overpay_Prokhorov', 0.5124484896659851),\n",
        " (u'MCCORMACK_Good', 0.5030133128166199),\n",
        " (u'MCCLELLAN_Good', 0.49798670411109924),\n",
        " (u'wise_Nickolenko', 0.49472570419311523),\n",
        " (u\"Today'sa\", 0.48374682664871216),\n",
        " (u'Friday', 0.480655699968338),\n",
        " (u'ERIC_MAUK_Congratulations', 0.4797849953174591),\n",
        " (u'THE_MODERATOR_Good', 0.4795558452606201),\n",
        " (u'Patchy_drizzle', 0.4780569076538086)]"
       ]
      }
     ],
     "prompt_number": 27
    },
    {
     "cell_type": "code",
     "collapsed": false,
     "input": [
      "#model.most_similar_cosmul(positive=nouns)"
     ],
     "language": "python",
     "metadata": {},
     "outputs": [],
     "prompt_number": 28
    },
    {
     "cell_type": "code",
     "collapsed": false,
     "input": [
      "model.most_similar(positive=verbs)"
     ],
     "language": "python",
     "metadata": {},
     "outputs": [
      {
       "metadata": {},
       "output_type": "pyout",
       "prompt_number": 29,
       "text": [
        "[(u'felt', 0.6262320280075073),\n",
        " (u'think', 0.6248671412467957),\n",
        " (u\"Sorry_ma'am\", 0.5954456329345703),\n",
        " (u'want', 0.5921204090118408),\n",
        " (u'got', 0.5892882347106934),\n",
        " (u'say_Hey_feller', 0.5881565809249878),\n",
        " (u\"don'tknow\", 0.587359607219696),\n",
        " (u'Victor_Bout_Somsak', 0.586972713470459),\n",
        " (u'Echoed_Stoops_That', 0.5857634544372559),\n",
        " (u'know', 0.5851655006408691)]"
       ]
      }
     ],
     "prompt_number": 29
    },
    {
     "cell_type": "code",
     "collapsed": false,
     "input": [
      "requestToken1 = nltk.word_tokenize(df.request_text_edit_aware[2])\n",
      "requestToken1[:] = [x for x in requestToken1 if x in model.vocab]\n",
      "taggedPOS1 = nltk.pos_tag(requestToken1)\n",
      "verbs1 = [x[0] for x in taggedPOS1 if ('VB' in x[1]) or ('RB' in x[1])]\n",
      "nouns1 = [x[0] for x in taggedPOS1 if ('NN' in x[1]) or ('JJ' in x[1])]\n",
      "adjectives1 = [x[0] for x in taggedPOS1 if 'JJ' in x[1]]\n",
      "taggedPOS1;"
     ],
     "language": "python",
     "metadata": {},
     "outputs": [],
     "prompt_number": 30
    },
    {
     "cell_type": "code",
     "collapsed": false,
     "input": [
      "model.most_similar(positive=nouns1)"
     ],
     "language": "python",
     "metadata": {},
     "outputs": [
      {
       "metadata": {},
       "output_type": "pyout",
       "prompt_number": 31,
       "text": [
        "[(u'sanctuary_DellaBianca', 0.6573243737220764),\n",
        " (u'%_#F########_7v.jsn', 0.6572108268737793),\n",
        " (u'Echoed_Stoops_That', 0.6433503031730652),\n",
        " (u'Chiddy_Bang_maybe', 0.6265331506729126),\n",
        " (u'GREG_BIFFLE_Yeah', 0.6257461905479431),\n",
        " (u'Vincent_Lecavalier_Stamkos', 0.6248588562011719),\n",
        " (u'Santa_Claus_Witters', 0.6233424544334412),\n",
        " (u'BOUCHER_Yeah', 0.619227409362793),\n",
        " (u'PRESIDENT_OBAMA_Hello', 0.618046760559082),\n",
        " (u'MICHELLE_WIE_Yeah', 0.6163198947906494)]"
       ]
      }
     ],
     "prompt_number": 31
    },
    {
     "cell_type": "code",
     "collapsed": false,
     "input": [
      "model.most_similar(positive=verbs1)"
     ],
     "language": "python",
     "metadata": {},
     "outputs": [
      {
       "metadata": {},
       "output_type": "pyout",
       "prompt_number": 32,
       "text": [
        "[(u'anyway', 0.6690330505371094),\n",
        " (u\"'ve\", 0.6637097597122192),\n",
        " (u'got', 0.6590701341629028),\n",
        " (u'but', 0.6516066193580627),\n",
        " (u'just', 0.6502475738525391),\n",
        " (u'so', 0.6498264074325562),\n",
        " (u'probably', 0.6435184478759766),\n",
        " (u'not', 0.6378129720687866),\n",
        " (u\"'d\", 0.6351603269577026),\n",
        " (u'they', 0.6153758764266968)]"
       ]
      }
     ],
     "prompt_number": 32
    },
    {
     "cell_type": "code",
     "collapsed": false,
     "input": [
      "model.most_similar(positive=adjectives1)"
     ],
     "language": "python",
     "metadata": {},
     "outputs": [
      {
       "metadata": {},
       "output_type": "pyout",
       "prompt_number": 33,
       "text": [
        "[(u'great', 0.7291509509086609),\n",
        " (u'bad', 0.7190051078796387),\n",
        " (u'terrific', 0.6889115571975708),\n",
        " (u'decent', 0.6837348341941833),\n",
        " (u'nice', 0.6836091876029968),\n",
        " (u'excellent', 0.6442928910255432),\n",
        " (u'fantastic', 0.6407778859138489),\n",
        " (u'better', 0.6120729446411133),\n",
        " (u'solid', 0.5806034803390503),\n",
        " (u'lousy', 0.5764203071594238)]"
       ]
      }
     ],
     "prompt_number": 33
    },
    {
     "cell_type": "code",
     "collapsed": false,
     "input": [
      "model.n_similarity(adjectives1,['tomorrow'])"
     ],
     "language": "python",
     "metadata": {},
     "outputs": [
      {
       "metadata": {},
       "output_type": "pyout",
       "prompt_number": 34,
       "text": [
        "0.26425168601890942"
       ]
      }
     ],
     "prompt_number": 34
    },
    {
     "cell_type": "code",
     "collapsed": false,
     "input": [
      "model.n_similarity(verbs1,['tomorrow'])"
     ],
     "language": "python",
     "metadata": {},
     "outputs": [
      {
       "metadata": {},
       "output_type": "pyout",
       "prompt_number": 35,
       "text": [
        "0.32324942580725446"
       ]
      }
     ],
     "prompt_number": 35
    },
    {
     "cell_type": "code",
     "collapsed": false,
     "input": [
      "model.most_similar(positive=requestToken)"
     ],
     "language": "python",
     "metadata": {},
     "outputs": [
      {
       "metadata": {},
       "output_type": "pyout",
       "prompt_number": 36,
       "text": [
        "[(u'just', 0.7149254083633423),\n",
        " (u'anyway', 0.7142829298973083),\n",
        " (u'really', 0.7083152532577515),\n",
        " (u'pioneer_LaLanne', 0.703301191329956),\n",
        " (u'VENUS_WILLIAMS_Yeah', 0.7012342214584351),\n",
        " (u'SERENA_WILLIAMS_Well', 0.6936242580413818),\n",
        " (u'maybe', 0.6891350746154785),\n",
        " (u'THE_PRESIDENT_Yes', 0.6889163255691528),\n",
        " (u\"Ididn't\", 0.6888042092323303),\n",
        " (u'NOVAK_DJOKOVIC_Yeah', 0.6887107491493225)]"
       ]
      }
     ],
     "prompt_number": 36
    },
    {
     "cell_type": "code",
     "collapsed": false,
     "input": [
      "#model.most_similar(positive=nouns1,negative=nouns)"
     ],
     "language": "python",
     "metadata": {},
     "outputs": [],
     "prompt_number": 37
    },
    {
     "cell_type": "code",
     "collapsed": false,
     "input": [
      "#len(requestTokenTrue)"
     ],
     "language": "python",
     "metadata": {},
     "outputs": [],
     "prompt_number": 38
    },
    {
     "cell_type": "code",
     "collapsed": false,
     "input": [
      "trueText = df.query('requester_received_pizza == True').request_text_edit_aware.values\n",
      "falseText = df.query('requester_received_pizza == False').request_text_edit_aware.values\n",
      "totalText = df.request_text_edit_aware.values"
     ],
     "language": "python",
     "metadata": {},
     "outputs": [],
     "prompt_number": 39
    },
    {
     "cell_type": "code",
     "collapsed": false,
     "input": [
      "requestTokenTrue = nltk.word_tokenize(' '.join(trueText))\n",
      "requestTokenTrue[:] = [x for x in requestTokenTrue if x in model.vocab]"
     ],
     "language": "python",
     "metadata": {},
     "outputs": [],
     "prompt_number": 40
    },
    {
     "cell_type": "code",
     "collapsed": false,
     "input": [
      "taggedPOSTrue = nltk.pos_tag(requestTokenTrue)\n",
      "#verbsTrue = [x[0] for x in taggedPOSTrue if 'VB' in x[1]]\n",
      "#nounsTrue = [x[0] for x in taggedPOSTrue if 'NN' in x[1]]\n",
      "verbsTrue = [x[0] for x in taggedPOSTrue if ('VB' in x[1]) or ('RB' in x[1])]\n",
      "nounsTrue = [x[0] for x in taggedPOSTrue if ('NN' in x[1]) or ('JJ' in x[1])]"
     ],
     "language": "python",
     "metadata": {},
     "outputs": [],
     "prompt_number": 41
    },
    {
     "cell_type": "code",
     "collapsed": false,
     "input": [
      "requestTokenFalse = nltk.word_tokenize(' '.join(falseText))\n",
      "requestTokenFalse[:] = [x for x in requestTokenFalse if x in model.vocab]"
     ],
     "language": "python",
     "metadata": {},
     "outputs": [],
     "prompt_number": 42
    },
    {
     "cell_type": "code",
     "collapsed": false,
     "input": [
      "taggedPOSFalse = nltk.pos_tag(requestTokenFalse)\n",
      "#verbsFalse = [x[0] for x in taggedPOSFalse if 'VB' in x[1]]\n",
      "#nounsFalse = [x[0] for x in taggedPOSFalse if 'NN' in x[1]]\n",
      "verbsFalse = [x[0] for x in taggedPOSFalse if ('VB' in x[1]) or ('RB' in x[1])]\n",
      "nounsFalse = [x[0] for x in taggedPOSFalse if ('NN' in x[1]) or ('JJ' in x[1])]"
     ],
     "language": "python",
     "metadata": {},
     "outputs": [],
     "prompt_number": 43
    },
    {
     "cell_type": "code",
     "collapsed": false,
     "input": [
      "requestTokenTotal = nltk.word_tokenize(' '.join(totalText))\n",
      "requestTokenTotal[:] = [x for x in requestTokenTotal if x in model.vocab]"
     ],
     "language": "python",
     "metadata": {},
     "outputs": [],
     "prompt_number": 44
    },
    {
     "cell_type": "code",
     "collapsed": false,
     "input": [
      "taggedPOSTotal = nltk.pos_tag(requestTokenTotal)\n",
      "#verbsTotal = [x[0] for x in taggedPOSTotal if 'VB' in x[1]]\n",
      "#nounsTotal = [x[0] for x in taggedPOSTotal if 'NN' in x[1]]\n",
      "verbsTotal = [x[0] for x in taggedPOSTotal if ('VB' in x[1]) or ('RB' in x[1])]\n",
      "nounsTotal = [x[0] for x in taggedPOSTotal if ('NN' in x[1]) or ('JJ' in x[1])]"
     ],
     "language": "python",
     "metadata": {},
     "outputs": [],
     "prompt_number": 45
    },
    {
     "cell_type": "code",
     "collapsed": false,
     "input": [],
     "language": "python",
     "metadata": {},
     "outputs": [],
     "prompt_number": 45
    },
    {
     "cell_type": "code",
     "collapsed": false,
     "input": [
      "model.most_similar(positive=verbsTrue)"
     ],
     "language": "python",
     "metadata": {},
     "outputs": [
      {
       "metadata": {},
       "output_type": "pyout",
       "prompt_number": 46,
       "text": [
        "[(u'SERENA_WILLIAMS_Well', 0.6868841648101807),\n",
        " (u'pioneer_LaLanne', 0.6773595213890076),\n",
        " (u'NOVAK_DJOKOVIC_Yeah', 0.6750368475914001),\n",
        " (u'VENUS_WILLIAMS_Yeah', 0.6675600409507751),\n",
        " (u'sanctuary_DellaBianca', 0.6559141874313354),\n",
        " (u'TONY_STEWART_Yeah', 0.6555947065353394),\n",
        " (u'PADRAIG_HARRINGTON_Yeah', 0.6552311182022095),\n",
        " (u'MICHELLE_WIE_Yeah', 0.6535463333129883),\n",
        " (u'KIM_CLIJSTERS_Yeah', 0.6520260572433472),\n",
        " (u'COACH_PATERNO', 0.6492823958396912)]"
       ]
      }
     ],
     "prompt_number": 46
    },
    {
     "cell_type": "code",
     "collapsed": false,
     "input": [
      "model.most_similar(positive=verbsFalse)"
     ],
     "language": "python",
     "metadata": {},
     "outputs": [
      {
       "metadata": {},
       "output_type": "pyout",
       "prompt_number": 47,
       "text": [
        "[(u'SERENA_WILLIAMS_Well', 0.6924663186073303),\n",
        " (u'pioneer_LaLanne', 0.682716965675354),\n",
        " (u'NOVAK_DJOKOVIC_Yeah', 0.6802425384521484),\n",
        " (u'VENUS_WILLIAMS_Yeah', 0.6736698150634766),\n",
        " (u'sanctuary_DellaBianca', 0.6605440974235535),\n",
        " (u'TONY_STEWART_Yeah', 0.6592205762863159),\n",
        " (u'MICHELLE_WIE_Yeah', 0.6580739617347717),\n",
        " (u'PADRAIG_HARRINGTON_Yeah', 0.6580702066421509),\n",
        " (u'KIM_CLIJSTERS_Yeah', 0.6563240885734558),\n",
        " (u'COACH_PATERNO', 0.6559337377548218)]"
       ]
      }
     ],
     "prompt_number": 47
    },
    {
     "cell_type": "code",
     "collapsed": false,
     "input": [
      "model.most_similar(positive=nounsTrue)"
     ],
     "language": "python",
     "metadata": {},
     "outputs": [
      {
       "metadata": {},
       "output_type": "pyout",
       "prompt_number": 48,
       "text": [
        "[(u'%_#F########_7v.jsn', 0.7661374807357788),\n",
        " (u'sanctuary_DellaBianca', 0.7473204135894775),\n",
        " (u'%_#F########_3v.jsn', 0.7353490591049194),\n",
        " (u'%_#F########_9v.jsn', 0.7336301803588867),\n",
        " (u'MICHELLE_WIE_Yeah', 0.7314733266830444),\n",
        " (u'pioneer_LaLanne', 0.730914831161499),\n",
        " (u'PRESIDENT_OBAMA_Hello', 0.7246851921081543),\n",
        " (u'By_Jonas_Elmerraji', 0.7222863435745239),\n",
        " (u'UDBKL', 0.721659243106842),\n",
        " (u'%_#F########_5v.jsn', 0.7137290239334106)]"
       ]
      }
     ],
     "prompt_number": 48
    },
    {
     "cell_type": "code",
     "collapsed": false,
     "input": [
      "model.most_similar(positive=nounsFalse)"
     ],
     "language": "python",
     "metadata": {},
     "outputs": [
      {
       "metadata": {},
       "output_type": "pyout",
       "prompt_number": 49,
       "text": [
        "[(u'%_#F########_7v.jsn', 0.7649056911468506),\n",
        " (u'sanctuary_DellaBianca', 0.7501050233840942),\n",
        " (u'MICHELLE_WIE_Yeah', 0.7367808818817139),\n",
        " (u'%_#F########_3v.jsn', 0.7353881597518921),\n",
        " (u'pioneer_LaLanne', 0.7346384525299072),\n",
        " (u'%_#F########_9v.jsn', 0.7339510917663574),\n",
        " (u'PRESIDENT_OBAMA_Hello', 0.7313748598098755),\n",
        " (u'UDBKL', 0.7251995801925659),\n",
        " (u'By_Jonas_Elmerraji', 0.7232081890106201),\n",
        " (u'Echoed_Stoops_That', 0.7149347066879272)]"
       ]
      }
     ],
     "prompt_number": 49
    },
    {
     "cell_type": "code",
     "collapsed": false,
     "input": [
      "from collections import Counter"
     ],
     "language": "python",
     "metadata": {},
     "outputs": [],
     "prompt_number": 50
    },
    {
     "cell_type": "code",
     "collapsed": false,
     "input": [],
     "language": "python",
     "metadata": {},
     "outputs": [],
     "prompt_number": 50
    },
    {
     "cell_type": "code",
     "collapsed": false,
     "input": [
      "#nounsTrueLow = [x.lower() for x in nounsTrue]\n",
      "#nouncountsTrue = Counter(nounsTrueLow)\n",
      "nouncountsTrue = Counter(nounsTrue)\n",
      "total = sum(nouncountsTrue.values(), 0.0)/100\n",
      "for key in nouncountsTrue:\n",
      "    nouncountsTrue[key] /= total\n",
      "#print(nouncountsTrue);"
     ],
     "language": "python",
     "metadata": {},
     "outputs": [],
     "prompt_number": 51
    },
    {
     "cell_type": "code",
     "collapsed": false,
     "input": [
      "#nounsFalseLow = [x.lower() for x in nounsFalse]\n",
      "#nouncountsFalse = Counter(nounsFalseLow)\n",
      "nouncountsFalse = Counter(nounsFalse)\n",
      "total = sum(nouncountsFalse.values(), 0.0)/100\n",
      "for key in nouncountsFalse:\n",
      "    nouncountsFalse[key] /= total\n",
      "#print(nouncountsFalse)"
     ],
     "language": "python",
     "metadata": {},
     "outputs": [],
     "prompt_number": 52
    },
    {
     "cell_type": "code",
     "collapsed": false,
     "input": [
      "nouncountsTotal = Counter(nounsTotal)\n",
      "total = sum(nouncountsTotal.values(), 0.0)/100\n",
      "for key in nouncountsTotal:\n",
      "    nouncountsTotal[key] /= total\n",
      "#print(nouncountsTotal)"
     ],
     "language": "python",
     "metadata": {},
     "outputs": [],
     "prompt_number": 53
    },
    {
     "cell_type": "code",
     "collapsed": false,
     "input": [
      "#verbsTrueLow = [x.lower() for x in verbsTrue]\n",
      "#countsTrue = Counter(verbsTrueLow)\n",
      "countsTrue = Counter(verbsTrue)\n",
      "total = sum(countsTrue.values(), 0.0)/100\n",
      "for key in countsTrue:\n",
      "    countsTrue[key] /= total\n",
      "#print(countsTrue)"
     ],
     "language": "python",
     "metadata": {},
     "outputs": [],
     "prompt_number": 54
    },
    {
     "cell_type": "code",
     "collapsed": false,
     "input": [
      "#verbsFalseLow = [x.lower() for x in verbsFalse]\n",
      "#countsFalse = Counter(verbsFalseLow)\n",
      "countsFalse = Counter(verbsFalse)\n",
      "total = sum(countsFalse.values(), 0.0)/100\n",
      "for key in countsFalse:\n",
      "    countsFalse[key] /= total\n",
      "#print(countsFalse)"
     ],
     "language": "python",
     "metadata": {},
     "outputs": [],
     "prompt_number": 55
    },
    {
     "cell_type": "code",
     "collapsed": false,
     "input": [
      "verbcountsTotal = Counter(verbsTotal)\n",
      "total = sum(verbcountsTotal.values(), 0.0)/100\n",
      "for key in verbcountsTotal:\n",
      "    verbcountsTotal[key] /= total\n",
      "#print(verbcountsTotal)"
     ],
     "language": "python",
     "metadata": {},
     "outputs": [],
     "prompt_number": 56
    },
    {
     "cell_type": "code",
     "collapsed": false,
     "input": [
      "verbcountsDiff = copy.deepcopy(countsTrue)\n",
      "verbcountsDiff.subtract(countsFalse)"
     ],
     "language": "python",
     "metadata": {},
     "outputs": [],
     "prompt_number": 57
    },
    {
     "cell_type": "code",
     "collapsed": false,
     "input": [
      "verbcountsDiff.most_common(4071)[0:10]"
     ],
     "language": "python",
     "metadata": {},
     "outputs": [
      {
       "metadata": {},
       "output_type": "pyout",
       "prompt_number": 58,
       "text": [
        "[(u'been', 0.38775930633198064),\n",
        " (u\"'ve\", 0.29002795903885525),\n",
        " (u'back', 0.17959093685669414),\n",
        " (u'had', 0.1687002205332757),\n",
        " (u'pay', 0.1544321759874558),\n",
        " (u'get', 0.12584064054997457),\n",
        " (u'recently', 0.12028798962666712),\n",
        " (u'only', 0.11147677106107384),\n",
        " (u'currently', 0.11105977297414274),\n",
        " (u'paid', 0.10815392425480042)]"
       ]
      }
     ],
     "prompt_number": 58
    },
    {
     "cell_type": "code",
     "collapsed": false,
     "input": [
      "verbcountsDiff.most_common(4071)[-10:]"
     ],
     "language": "python",
     "metadata": {},
     "outputs": [
      {
       "metadata": {},
       "output_type": "pyout",
       "prompt_number": 59,
       "text": [
        "[(u\"n't\", -0.11045758260759397),\n",
        " (u'have', -0.11182065716587175),\n",
        " (u'is', -0.13398538958503137),\n",
        " (u'go', -0.13453094599993765),\n",
        " (u'want', -0.13454074374779712),\n",
        " (u'know', -0.14557627375359405),\n",
        " (u'really', -0.1455980217848276),\n",
        " (u'just', -0.1522339176495151),\n",
        " (u'do', -0.15400204001134954),\n",
        " (u'love', -0.20278228026559142)]"
       ]
      }
     ],
     "prompt_number": 59
    },
    {
     "cell_type": "code",
     "collapsed": false,
     "input": [],
     "language": "python",
     "metadata": {},
     "outputs": [],
     "prompt_number": 59
    },
    {
     "cell_type": "code",
     "collapsed": false,
     "input": [
      "nouncountsDiff = copy.deepcopy(nouncountsTrue)\n",
      "nouncountsDiff.subtract(nouncountsFalse)\n",
      "nouncountsDiffNeg = copy.deepcopy(nouncountsFalse)\n",
      "#print nouncountsFalse.most_common(1)\n",
      "nouncountsDiffNeg.subtract(nouncountsTrue)\n",
      "#print nouncountsFalse.most_common(1)"
     ],
     "language": "python",
     "metadata": {},
     "outputs": [],
     "prompt_number": 60
    },
    {
     "cell_type": "code",
     "collapsed": false,
     "input": [
      "nouncountsDiff.most_common(20)"
     ],
     "language": "python",
     "metadata": {},
     "outputs": [
      {
       "metadata": {},
       "output_type": "pyout",
       "prompt_number": 61,
       "text": [
        "[(u'last', 0.2093757764973535),\n",
        " (u'days', 0.1953593321261758),\n",
        " (u'paycheck', 0.12735556761467728),\n",
        " (u'weeks', 0.12090867473285721),\n",
        " (u'next', 0.11997117085444808),\n",
        " (u'check', 0.11200714993200675),\n",
        " (u'rice', 0.10796366336557561),\n",
        " (u'http', 0.10690320727674552),\n",
        " (u'few', 0.09345906912440255),\n",
        " (u'wife', 0.08831487778056593),\n",
        " (u'able', 0.08806531438803528),\n",
        " (u'anyone', 0.0786573448587462),\n",
        " (u'I', 0.07773081789540304),\n",
        " (u'job', 0.07478071816300014),\n",
        " (u'person', 0.07323431834886945),\n",
        " (u'week', 0.07222508786368087),\n",
        " (u'help', 0.0708784786654334),\n",
        " (u'car', 0.07082725306179188),\n",
        " (u'work', 0.07045839643052887),\n",
        " (u'bills', 0.07042180671364215)]"
       ]
      }
     ],
     "prompt_number": 61
    },
    {
     "cell_type": "code",
     "collapsed": false,
     "input": [
      "nouncountsDiffNeg.most_common(20)"
     ],
     "language": "python",
     "metadata": {},
     "outputs": [
      {
       "metadata": {},
       "output_type": "pyout",
       "prompt_number": 62,
       "text": [
        "[(u'pizza', 0.2899257244620679),\n",
        " (u'friend', 0.18101648595700523),\n",
        " (u'hungry', 0.11935129800366051),\n",
        " (u'tomorrow', 0.11276315805297604),\n",
        " (u'eat', 0.09176776326971886),\n",
        " (u'friends', 0.09110543558566117),\n",
        " (u'house', 0.09015329582049736),\n",
        " (u'free', 0.07926844693916245),\n",
        " (u'good', 0.06753977461632998),\n",
        " (u'get', 0.05998851798541571),\n",
        " (u'money', 0.057102826916414884),\n",
        " (u'Pizza', 0.05462037605086911),\n",
        " (u'little', 0.0542185886744081),\n",
        " (u'area', 0.05396536631018874),\n",
        " (u'story', 0.05287197947616057),\n",
        " (u'college', 0.05260046225349785),\n",
        " (u'morning', 0.05248482798645425),\n",
        " (u'am', 0.04992919768713494),\n",
        " (u'find', 0.048716517614374455),\n",
        " (u'please', 0.04750383754161398)]"
       ]
      }
     ],
     "prompt_number": 62
    },
    {
     "cell_type": "code",
     "collapsed": false,
     "input": [
      "trueVerbs = [item for item in countsTrue.most_common(100) if item[0] not in [x[0] for x in countsFalse.most_common(100)]]\n",
      "trueVerbs.sort(key=lambda tup: -tup[1])\n",
      "trueVerbs"
     ],
     "language": "python",
     "metadata": {},
     "outputs": [
      {
       "metadata": {},
       "output_type": "pyout",
       "prompt_number": 63,
       "text": [
        "[(u'currently', 0.29290656705013374),\n",
        " (u'went', 0.22498620367618968),\n",
        " (u'asking', 0.22074118096531817),\n",
        " (u'said', 0.19951606741096065),\n",
        " (u'Thanks', 0.19527104470008916),\n",
        " (u'made', 0.19527104470008916),\n",
        " (u'paying', 0.18253597656747464),\n",
        " (u'keep', 0.18253597656747464)]"
       ]
      }
     ],
     "prompt_number": 63
    },
    {
     "cell_type": "code",
     "collapsed": false,
     "input": [
      "falseVerbs = [item for item in countsFalse.most_common(100) if item[0] not in [x[0] for x in countsTrue.most_common(100)]]\n",
      "falseVerbs.sort(key=lambda tup: -tup[1])\n",
      "falseVerbs"
     ],
     "language": "python",
     "metadata": {},
     "outputs": [
      {
       "metadata": {},
       "output_type": "pyout",
       "prompt_number": 64,
       "text": [
        "[(u'take', 0.2412967075239111),\n",
        " (u'buy', 0.23605112692556524),\n",
        " (u'hoping', 0.21506880453218166),\n",
        " (u'broke', 0.20282911646937457),\n",
        " (u'eat', 0.19758353587102867),\n",
        " (u'guys', 0.19233795527268277),\n",
        " (u'little', 0.1888409015404522),\n",
        " (u'Just', 0.181846794075991)]"
       ]
      }
     ],
     "prompt_number": 64
    },
    {
     "cell_type": "code",
     "collapsed": false,
     "input": [
      "trueNouns = [item for item in nouncountsTrue.most_common(100) if item[0] not in [x[0] for x in nouncountsFalse.most_common(100)]]\n",
      "trueNouns.sort(key=lambda tup: -tup[1])\n",
      "trueNouns"
     ],
     "language": "python",
     "metadata": {},
     "outputs": [
      {
       "metadata": {},
       "output_type": "pyout",
       "prompt_number": 65,
       "text": [
        "[(u'check', 0.2689442122478648),\n",
        " (u'wife', 0.22896601853534437),\n",
        " (u'rice', 0.20715973105578778),\n",
        " (u'thanks', 0.203525349809195),\n",
        " (u'request', 0.19989096856260224),\n",
        " (u'apartment', 0.18535344357623115),\n",
        " (u'jobs', 0.16718153734326732),\n",
        " (u'everyone', 0.16718153734326732),\n",
        " (u'person', 0.16354715609667456),\n",
        " (u'gas', 0.1599127748500818),\n",
        " (u'yesterday', 0.1599127748500818)]"
       ]
      }
     ],
     "prompt_number": 65
    },
    {
     "cell_type": "code",
     "collapsed": false,
     "input": [
      "falseNouns = [item for item in nouncountsFalse.most_common(100) if item[0] not in [x[0] for x in nouncountsTrue.most_common(100)]]\n",
      "falseNouns.sort(key=lambda tup: -tup[1])\n",
      "falseNouns"
     ],
     "language": "python",
     "metadata": {},
     "outputs": [
      {
       "metadata": {},
       "output_type": "pyout",
       "prompt_number": 66,
       "text": [
        "[(u'friend', 0.3227573545741232),\n",
        " (u'mom', 0.18210621381934472),\n",
        " (u'thing', 0.1806256754956102),\n",
        " (u'post', 0.17470352220067217),\n",
        " (u'Please', 0.17322298387693766),\n",
        " (u'return', 0.17174244555320314),\n",
        " (u'Hi', 0.17174244555320314),\n",
        " (u'happy', 0.1628592156107961),\n",
        " (u'reddit', 0.1628592156107961),\n",
        " (u'free', 0.1628592156107961),\n",
        " (u'best', 0.15841760063959257)]"
       ]
      }
     ],
     "prompt_number": 66
    },
    {
     "cell_type": "code",
     "collapsed": false,
     "input": [
      "#model.most_similar([x[0] for x in trueNouns])"
     ],
     "language": "python",
     "metadata": {},
     "outputs": [],
     "prompt_number": 67
    },
    {
     "cell_type": "code",
     "collapsed": false,
     "input": [
      "#model.most_similar([x[0] for x in falseNouns])"
     ],
     "language": "python",
     "metadata": {},
     "outputs": [],
     "prompt_number": 68
    },
    {
     "cell_type": "markdown",
     "metadata": {},
     "source": [
      "good and bad verbs are verbs that characterize true but not false or false but not true"
     ]
    },
    {
     "cell_type": "code",
     "collapsed": false,
     "input": [
      "goodVerbs = [x[0] for x in trueVerbs]\n",
      "badVerbs = [x[0] for x in falseVerbs]"
     ],
     "language": "python",
     "metadata": {},
     "outputs": [],
     "prompt_number": 69
    },
    {
     "cell_type": "code",
     "collapsed": false,
     "input": [
      "goodVerbs"
     ],
     "language": "python",
     "metadata": {},
     "outputs": [
      {
       "metadata": {},
       "output_type": "pyout",
       "prompt_number": 70,
       "text": [
        "[u'currently',\n",
        " u'went',\n",
        " u'asking',\n",
        " u'said',\n",
        " u'Thanks',\n",
        " u'made',\n",
        " u'paying',\n",
        " u'keep']"
       ]
      }
     ],
     "prompt_number": 70
    },
    {
     "cell_type": "code",
     "collapsed": false,
     "input": [
      "wvec = model[u'unemployed']"
     ],
     "language": "python",
     "metadata": {},
     "outputs": [],
     "prompt_number": 71
    },
    {
     "cell_type": "code",
     "collapsed": false,
     "input": [
      "model.most_similar([wvec])"
     ],
     "language": "python",
     "metadata": {},
     "outputs": [
      {
       "metadata": {},
       "output_type": "pyout",
       "prompt_number": 72,
       "text": [
        "[(u'unemployed', 1.0),\n",
        " (u'jobless', 0.8136831521987915),\n",
        " (u'underemployed', 0.7015298008918762),\n",
        " (u'Unemployed', 0.6830177307128906),\n",
        " (u'unemployment', 0.6756182312965393),\n",
        " (u'unemployed_underemployed', 0.6440443992614746),\n",
        " (u'chronically_unemployed', 0.6380952596664429),\n",
        " (u'Jobless', 0.6155717372894287),\n",
        " (u'self_employed', 0.607119083404541),\n",
        " (u'economically_inactive', 0.6039830446243286)]"
       ]
      }
     ],
     "prompt_number": 72
    },
    {
     "cell_type": "code",
     "collapsed": false,
     "input": [],
     "language": "python",
     "metadata": {},
     "outputs": [],
     "prompt_number": 72
    },
    {
     "cell_type": "code",
     "collapsed": false,
     "input": [
      "#test = np.ndarray((2,4), buffer=np.array([[1,1,1,0],[0.,.1,.2,1]]),dtype=float)\n",
      "#test"
     ],
     "language": "python",
     "metadata": {},
     "outputs": [],
     "prompt_number": 73
    },
    {
     "cell_type": "code",
     "collapsed": false,
     "input": [
      "#(u,s,v) = np.linalg.svd(test,full_matrices=False)\n",
      "#(u,s,v)"
     ],
     "language": "python",
     "metadata": {},
     "outputs": [],
     "prompt_number": 74
    },
    {
     "cell_type": "code",
     "collapsed": false,
     "input": [
      "#np.dot(u,np.dot(np.diag(s),v))"
     ],
     "language": "python",
     "metadata": {},
     "outputs": [],
     "prompt_number": 75
    },
    {
     "cell_type": "code",
     "collapsed": false,
     "input": [
      "ignoreVerbs = [x[0] for x in verbcountsTotal.most_common(13)]"
     ],
     "language": "python",
     "metadata": {},
     "outputs": [],
     "prompt_number": 76
    },
    {
     "cell_type": "code",
     "collapsed": false,
     "input": [],
     "language": "python",
     "metadata": {},
     "outputs": [],
     "prompt_number": 76
    },
    {
     "cell_type": "code",
     "collapsed": false,
     "input": [],
     "language": "python",
     "metadata": {},
     "outputs": [],
     "prompt_number": 76
    },
    {
     "cell_type": "code",
     "collapsed": false,
     "input": [
      "#nouncountsTotal.most_common(30)[0:15]"
     ],
     "language": "python",
     "metadata": {},
     "outputs": [],
     "prompt_number": 77
    },
    {
     "cell_type": "code",
     "collapsed": false,
     "input": [
      "#nouncountsTrue.most_common(30)[0:15]"
     ],
     "language": "python",
     "metadata": {},
     "outputs": [],
     "prompt_number": 78
    },
    {
     "cell_type": "code",
     "collapsed": false,
     "input": [
      "#nouncountsFalse.most_common(30)[0:15]"
     ],
     "language": "python",
     "metadata": {},
     "outputs": [],
     "prompt_number": 79
    },
    {
     "cell_type": "code",
     "collapsed": false,
     "input": [
      "listGoodVerbs = []\n",
      "for word in goodVerbs:\n",
      "    listGoodVerbs.append(model[word])\n",
      "arrayGoodVerbs=(np.vstack(listGoodVerbs)).T"
     ],
     "language": "python",
     "metadata": {},
     "outputs": [],
     "prompt_number": 80
    },
    {
     "cell_type": "code",
     "collapsed": false,
     "input": [
      "(arrayGoodVerbs).shape"
     ],
     "language": "python",
     "metadata": {},
     "outputs": [
      {
       "metadata": {},
       "output_type": "pyout",
       "prompt_number": 81,
       "text": [
        "(300, 8)"
       ]
      }
     ],
     "prompt_number": 81
    },
    {
     "cell_type": "code",
     "collapsed": false,
     "input": [
      "(u,s,v) = np.linalg.svd(arrayGoodVerbs,full_matrices=False)"
     ],
     "language": "python",
     "metadata": {},
     "outputs": [],
     "prompt_number": 82
    },
    {
     "cell_type": "code",
     "collapsed": false,
     "input": [
      "model.most_similar([u[:,5]])"
     ],
     "language": "python",
     "metadata": {},
     "outputs": [
      {
       "metadata": {},
       "output_type": "pyout",
       "prompt_number": 83,
       "text": [
        "[(u'said', 0.35965630412101746),\n",
        " (u'telephone_interview', 0.32290512323379517),\n",
        " (u'exclaimed', 0.31094983220100403),\n",
        " (u'said.When', 0.3100523054599762),\n",
        " (u'Avelis', 0.3013911247253418),\n",
        " (u'Zeth', 0.29672014713287354),\n",
        " (u'told', 0.2943371534347534),\n",
        " (u'explained', 0.2942984998226166),\n",
        " (u'siad', 0.29031163454055786),\n",
        " (u'Tayah', 0.288825660943985)]"
       ]
      }
     ],
     "prompt_number": 83
    },
    {
     "cell_type": "code",
     "collapsed": false,
     "input": [
      "listFullTrueVerbs = []\n",
      "for item in [item for item in countsTrue.most_common(1000) if item[0] not in ignoreVerbs]:\n",
      "    listFullTrueVerbs.append(model[item[0]]*item[1]*10)\n",
      "arrayFullTrueVerbs=(np.vstack(listFullTrueVerbs)).T"
     ],
     "language": "python",
     "metadata": {},
     "outputs": [],
     "prompt_number": 84
    },
    {
     "cell_type": "code",
     "collapsed": false,
     "input": [
      "listFullFalseVerbs = []\n",
      "for item in [item for item in countsFalse.most_common(1000) if item[0] not in ignoreVerbs]:\n",
      "    listFullFalseVerbs.append(model[item[0]]*item[1]*10)\n",
      "arrayFullFalseVerbs=(np.vstack(listFullFalseVerbs)).T"
     ],
     "language": "python",
     "metadata": {},
     "outputs": [],
     "prompt_number": 85
    },
    {
     "cell_type": "code",
     "collapsed": false,
     "input": [
      "listFullTotalVerbs = []\n",
      "for word in [item[0] for item in verbcountsTotal.most_common(1000) if item[0] not in ignoreVerbs]:\n",
      "    listFullTotalVerbs.append(model[word])\n",
      "arrayFullTotalVerbs=(np.vstack(listFullTotalVerbs)).T"
     ],
     "language": "python",
     "metadata": {},
     "outputs": [],
     "prompt_number": 86
    },
    {
     "cell_type": "code",
     "collapsed": false,
     "input": [
      "listFullDiffVerbs = []\n",
      "tempnum = len(verbcountsDiff.values())\n",
      "for word in [item[0] for item in verbcountsDiff.most_common(tempnum)[0:500]]:\n",
      "    listFullDiffVerbs.append(model[word])\n",
      "for word in [item[0] for item in verbcountsDiff.most_common(tempnum)[-500:]]:\n",
      "    listFullDiffVerbs.append(model[word])    \n",
      "arrayFullDiffVerbs=(np.vstack(listFullDiffVerbs)).T"
     ],
     "language": "python",
     "metadata": {},
     "outputs": [],
     "prompt_number": 87
    },
    {
     "cell_type": "code",
     "collapsed": false,
     "input": [
      "listFullTrueNouns = []\n",
      "for item in [item for item in nouncountsTrue.most_common(1000)]:\n",
      "    listFullTrueNouns.append(model[item[0]]*item[1]*10)\n",
      "arrayFullTrueNouns=(np.vstack(listFullTrueNouns)).T"
     ],
     "language": "python",
     "metadata": {},
     "outputs": [],
     "prompt_number": 88
    },
    {
     "cell_type": "code",
     "collapsed": false,
     "input": [
      "listFullFalseNouns = []\n",
      "for item in [item for item in nouncountsFalse.most_common(1000)]:\n",
      "    listFullFalseNouns.append(model[item[0]]*item[1]*10)\n",
      "arrayFullFalseNouns=(np.vstack(listFullFalseNouns)).T"
     ],
     "language": "python",
     "metadata": {},
     "outputs": [],
     "prompt_number": 89
    },
    {
     "cell_type": "code",
     "collapsed": false,
     "input": [
      "listFullTotalNouns = []\n",
      "for item in [item for item in nouncountsTotal.most_common(1000)]:\n",
      "    listFullTotalNouns.append(model[item[0]]*item[1]*10)\n",
      "arrayFullTotalNouns=(np.vstack(listFullTotalNouns)).T"
     ],
     "language": "python",
     "metadata": {},
     "outputs": [],
     "prompt_number": 90
    },
    {
     "cell_type": "code",
     "collapsed": false,
     "input": [
      "listFullDiffNouns = []\n",
      "tempnum = len(nouncountsDiff.values())\n",
      "for item in [item for item in nouncountsDiff.most_common(tempnum)[0:500]]:\n",
      "    listFullDiffNouns.append(model[item[0]]*item[1]*10)\n",
      "for item in [item for item in nouncountsDiff.most_common(tempnum)[-500:]]:\n",
      "    listFullDiffNouns.append(model[item[0]]*item[1]*10)\n",
      "arrayFullDiffNouns=(np.vstack(listFullDiffNouns)).T"
     ],
     "language": "python",
     "metadata": {},
     "outputs": [],
     "prompt_number": 91
    },
    {
     "cell_type": "code",
     "collapsed": false,
     "input": [
      "#nouncountsDiff.most_common(len(nouncountsDiff.values()))[-10:]"
     ],
     "language": "python",
     "metadata": {},
     "outputs": [],
     "prompt_number": 92
    },
    {
     "cell_type": "code",
     "collapsed": false,
     "input": [
      "(uTrueV,sTrueV,vTrueV) = np.linalg.svd(arrayFullTrueVerbs,full_matrices=False)"
     ],
     "language": "python",
     "metadata": {},
     "outputs": [],
     "prompt_number": 93
    },
    {
     "cell_type": "code",
     "collapsed": false,
     "input": [
      "(uFalseV,sFalseV,vFalseV) = np.linalg.svd(arrayFullFalseVerbs,full_matrices=False)"
     ],
     "language": "python",
     "metadata": {},
     "outputs": [],
     "prompt_number": 94
    },
    {
     "cell_type": "code",
     "collapsed": false,
     "input": [
      "(uDiffV,sDiffV,vDiffV) = np.linalg.svd(arrayFullDiffVerbs,full_matrices=False)"
     ],
     "language": "python",
     "metadata": {},
     "outputs": [],
     "prompt_number": 95
    },
    {
     "cell_type": "code",
     "collapsed": false,
     "input": [
      "(uTrueN,sTrueN,vTrueN) = np.linalg.svd(arrayFullTrueNouns,full_matrices=False)\n",
      "(uFalseN,sFalseN,vFalseN) = np.linalg.svd(arrayFullFalseNouns,full_matrices=False)\n",
      "(uDiffN,sDiffN,vDiffN) = np.linalg.svd(arrayFullDiffNouns,full_matrices=False)"
     ],
     "language": "python",
     "metadata": {},
     "outputs": [],
     "prompt_number": 96
    },
    {
     "cell_type": "code",
     "collapsed": false,
     "input": [
      "print(sTrueV[0:10])\n",
      "print(sFalseV[0:10])\n",
      "print(sDiffV[0:10])"
     ],
     "language": "python",
     "metadata": {},
     "outputs": [
      {
       "output_type": "stream",
       "stream": "stdout",
       "text": [
        "[ 26.66680527  15.74184227  13.43013954  11.36120796  10.80857277\n",
        "   9.44827557   8.35684586   8.11635208   7.8918395    7.4031558 ]\n",
        "[ 25.26948357  15.36892223  13.18984509  10.4189024   10.17625809\n",
        "   8.6585989    8.15003777   7.82884026   7.58975554   7.36808014]\n",
        "[ 11.03051472   5.66742277   5.01288271   4.65060902   4.42016077\n",
        "   4.03940964   4.00957727   3.9414928    3.87555313   3.7438066 ]\n"
       ]
      }
     ],
     "prompt_number": 97
    },
    {
     "cell_type": "code",
     "collapsed": false,
     "input": [],
     "language": "python",
     "metadata": {},
     "outputs": [],
     "prompt_number": 97
    },
    {
     "cell_type": "code",
     "collapsed": false,
     "input": [
      "model.most_similar([uTrueV[:,4]])"
     ],
     "language": "python",
     "metadata": {},
     "outputs": [
      {
       "metadata": {},
       "output_type": "pyout",
       "prompt_number": 98,
       "text": [
        "[(u'now', 0.6208810806274414),\n",
        " (u'currently', 0.5241496562957764),\n",
        " (u'presently', 0.5228556990623474),\n",
        " (u'has', 0.3573142886161804),\n",
        " (u'already', 0.3521907925605774),\n",
        " (u'Presently', 0.3497265577316284),\n",
        " (u'currrently', 0.3360483944416046),\n",
        " (u'is', 0.33035382628440857),\n",
        " (u'curently', 0.32504063844680786),\n",
        " (u'Currently', 0.32275810837745667)]"
       ]
      }
     ],
     "prompt_number": 98
    },
    {
     "cell_type": "code",
     "collapsed": false,
     "input": [
      "model.most_similar([uFalseV[:,4]])"
     ],
     "language": "python",
     "metadata": {},
     "outputs": [
      {
       "metadata": {},
       "output_type": "pyout",
       "prompt_number": 99,
       "text": [
        "[(u'now', 0.45373237133026123),\n",
        " (u'currently', 0.4083469808101654),\n",
        " (u'presently', 0.3735349178314209),\n",
        " (u'still', 0.3703972101211548),\n",
        " (u'however', 0.3465327322483063),\n",
        " (u'remaining', 0.34561121463775635),\n",
        " (u'meanwhile', 0.3301718235015869),\n",
        " (u'currrently', 0.30445390939712524),\n",
        " (u'remainder', 0.2937828302383423),\n",
        " (u'nearing', 0.2931707799434662)]"
       ]
      }
     ],
     "prompt_number": 99
    },
    {
     "cell_type": "code",
     "collapsed": false,
     "input": [
      "model.most_similar([uDiffV[:,4]])"
     ],
     "language": "python",
     "metadata": {},
     "outputs": [
      {
       "metadata": {},
       "output_type": "pyout",
       "prompt_number": 100,
       "text": [
        "[(u'remarked', 0.4680519998073578),\n",
        " (u'commented', 0.4422588050365448),\n",
        " (u'talked', 0.43138283491134644),\n",
        " (u'told', 0.4298514425754547),\n",
        " (u'acknowledged', 0.42900997400283813),\n",
        " (u'said', 0.42892757058143616),\n",
        " (u'noted', 0.42507585883140564),\n",
        " (u'knew', 0.4237978756427765),\n",
        " (u'spoke', 0.4186432957649231),\n",
        " (u'wished', 0.40970578789711)]"
       ]
      }
     ],
     "prompt_number": 100
    },
    {
     "cell_type": "code",
     "collapsed": false,
     "input": [],
     "language": "python",
     "metadata": {},
     "outputs": [],
     "prompt_number": 100
    },
    {
     "cell_type": "code",
     "collapsed": false,
     "input": [
      "from gensim import matutils"
     ],
     "language": "python",
     "metadata": {},
     "outputs": [],
     "prompt_number": 101
    },
    {
     "cell_type": "code",
     "collapsed": false,
     "input": [
      "def similarity_vec(w1,w2):\n",
      "    return np.dot(matutils.unitvec(w1),matutils.unitvec(w2))\n",
      "def n_similarity_vec(ws1,ws2):\n",
      "    v1 = [model[word] for word in ws1]\n",
      "    v2 = ws2\n",
      "    return np.dot(matutils.unitvec(np.array(v1).mean(axis=0)), matutils.unitvec(np.array(v2).mean(axis=0)))\n"
     ],
     "language": "python",
     "metadata": {},
     "outputs": [],
     "prompt_number": 102
    },
    {
     "cell_type": "code",
     "collapsed": false,
     "input": [
      "n=20\n",
      "overlap = np.zeros([n,n])\n",
      "for i in range(n):\n",
      "    for j in range(n):\n",
      "        overlap[i,j] = model.similarity_vec(uTrueV[:,i],uFalseV[:,j])"
     ],
     "language": "python",
     "metadata": {},
     "outputs": [],
     "prompt_number": 103
    },
    {
     "cell_type": "code",
     "collapsed": false,
     "input": [
      "np.set_printoptions(precision=4)\n",
      "print(overlap[0:5,0:5])"
     ],
     "language": "python",
     "metadata": {},
     "outputs": [
      {
       "output_type": "stream",
       "stream": "stdout",
       "text": [
        "[[ 0.9914 -0.089  -0.0703 -0.0453  0.0189]\n",
        " [ 0.0853  0.986   0.0302 -0.0888 -0.0733]\n",
        " [ 0.0778 -0.0379  0.9562  0.1426 -0.2224]\n",
        " [ 0.0214 -0.0023 -0.2679  0.5118 -0.7875]\n",
        " [ 0.0306  0.0966  0.0091  0.8225  0.5154]]\n"
       ]
      }
     ],
     "prompt_number": 104
    },
    {
     "cell_type": "code",
     "collapsed": true,
     "input": [
      "overlap[5:10,5:10]"
     ],
     "language": "python",
     "metadata": {},
     "outputs": [
      {
       "metadata": {},
       "output_type": "pyout",
       "prompt_number": 105,
       "text": [
        "array([[ 0.8174, -0.3081, -0.2846,  0.3193, -0.1257],\n",
        "       [-0.2359,  0.2005, -0.7655,  0.2316,  0.4107],\n",
        "       [ 0.3181,  0.8502,  0.2579,  0.1652,  0.0389],\n",
        "       [-0.3259, -0.1051,  0.2628,  0.8494, -0.1323],\n",
        "       [-0.2147,  0.1131, -0.3145, -0.1036, -0.7784]])"
       ]
      }
     ],
     "prompt_number": 105
    },
    {
     "cell_type": "code",
     "collapsed": false,
     "input": [
      "#model.most_similar([listFullTrueVerbs[8]])"
     ],
     "language": "python",
     "metadata": {},
     "outputs": [],
     "prompt_number": 106
    },
    {
     "cell_type": "code",
     "collapsed": false,
     "input": [
      "#countsTrue.most_common(30)[13:23]"
     ],
     "language": "python",
     "metadata": {},
     "outputs": [],
     "prompt_number": 107
    },
    {
     "cell_type": "code",
     "collapsed": false,
     "input": [],
     "language": "python",
     "metadata": {},
     "outputs": [],
     "prompt_number": 107
    },
    {
     "cell_type": "code",
     "collapsed": false,
     "input": [
      "trueVectorsV = uTrueV[:,0:20]\n",
      "falseVectorsV = uFalseV[:,0:20]\n",
      "diffVectorsV = uDiffV[:,0:20]"
     ],
     "language": "python",
     "metadata": {},
     "outputs": [],
     "prompt_number": 108
    },
    {
     "cell_type": "code",
     "collapsed": false,
     "input": [
      "trueVectorsN = uTrueN[:,0:20]\n",
      "falseVectorsN = uFalseN[:,0:20]\n",
      "diffVectorsN = uDiffN[:,0:20]"
     ],
     "language": "python",
     "metadata": {},
     "outputs": [],
     "prompt_number": 109
    },
    {
     "cell_type": "code",
     "collapsed": false,
     "input": [
      "for i in range(trueVectorsV.shape[1]):\n",
      "    print model.most_similar([trueVectorsV[:,i]],topn=2)"
     ],
     "language": "python",
     "metadata": {},
     "outputs": [
      {
       "output_type": "stream",
       "stream": "stdout",
       "text": [
        "[(u'K.Kahne_###-###', 0.600104808807373), (u'M.Kenseth_###-###', 0.5968378186225891)]\n",
        "[(u'was', 0.6263921856880188), (u'had', 0.500335156917572)]"
       ]
      },
      {
       "output_type": "stream",
       "stream": "stdout",
       "text": [
        "\n",
        "[(u\"that've\", 0.367744505405426), (u'has', 0.35986003279685974)]"
       ]
      },
      {
       "output_type": "stream",
       "stream": "stdout",
       "text": [
        "\n",
        "[(u\"'ve\", 0.4698371887207031), (u\"I've\", 0.42884835600852966)]"
       ]
      },
      {
       "output_type": "stream",
       "stream": "stdout",
       "text": [
        "\n",
        "[(u'now', 0.6208810806274414), (u'currently', 0.5241496562957764)]"
       ]
      },
      {
       "output_type": "stream",
       "stream": "stdout",
       "text": [
        "\n",
        "[(u'paid', 0.6797952651977539), (u'pay', 0.6462712287902832)]"
       ]
      },
      {
       "output_type": "stream",
       "stream": "stdout",
       "text": [
        "\n",
        "[(u\"isn't\", 0.4140307605266571), (u'paradoxically', 0.3864205479621887)]"
       ]
      },
      {
       "output_type": "stream",
       "stream": "stdout",
       "text": [
        "\n",
        "[(u'when', 0.43570590019226074), (u'readily', 0.3834906220436096)]"
       ]
      },
      {
       "output_type": "stream",
       "stream": "stdout",
       "text": [
        "\n",
        "[(u'when', 0.37261390686035156), (u'shillings_##p', 0.30679771304130554)]"
       ]
      },
      {
       "output_type": "stream",
       "stream": "stdout",
       "text": [
        "\n",
        "[(u'here', 0.49499785900115967), (u'Ambassador_Deepa_Gopalan', 0.3370838761329651)]"
       ]
      },
      {
       "output_type": "stream",
       "stream": "stdout",
       "text": [
        "\n",
        "[(u'unable', 0.33281800150871277), (u'refused', 0.3202276825904846)]"
       ]
      },
      {
       "output_type": "stream",
       "stream": "stdout",
       "text": [
        "\n",
        "[(u'love', 0.5115430355072021), (u'loves', 0.39225858449935913)]"
       ]
      },
      {
       "output_type": "stream",
       "stream": "stdout",
       "text": [
        "\n",
        "[(u'much', 0.4362567067146301), (u'far', 0.32251492142677307)]"
       ]
      },
      {
       "output_type": "stream",
       "stream": "stdout",
       "text": [
        "\n",
        "[(u'attempting', 0.36519163846969604), (u'trying', 0.3612867295742035)]"
       ]
      },
      {
       "output_type": "stream",
       "stream": "stdout",
       "text": [
        "\n",
        "[(u'gets', 0.34602218866348267), (u'hightail', 0.3416885733604431)]"
       ]
      },
      {
       "output_type": "stream",
       "stream": "stdout",
       "text": [
        "\n",
        "[(u'gets', 0.3278835415840149), (u'When', 0.32589754462242126)]"
       ]
      },
      {
       "output_type": "stream",
       "stream": "stdout",
       "text": [
        "\n",
        "[(u'speculate', 0.2954573631286621), (u'airlines_AA.com', 0.2757191061973572)]"
       ]
      },
      {
       "output_type": "stream",
       "stream": "stdout",
       "text": [
        "\n",
        "[(u'dares', 0.4014211893081665), (u'chooses', 0.3806722164154053)]"
       ]
      },
      {
       "output_type": "stream",
       "stream": "stdout",
       "text": [
        "\n",
        "[(u'being', 0.3857295513153076), (u'living', 0.38202908635139465)]"
       ]
      },
      {
       "output_type": "stream",
       "stream": "stdout",
       "text": [
        "\n",
        "[(u'Meant', 0.2516242563724518), (u'LeapPad_Plus', 0.25067806243896484)]"
       ]
      },
      {
       "output_type": "stream",
       "stream": "stdout",
       "text": [
        "\n"
       ]
      }
     ],
     "prompt_number": 110
    },
    {
     "cell_type": "code",
     "collapsed": false,
     "input": [
      "for i in range(falseVectorsV.shape[1]):\n",
      "    print model.most_similar([falseVectorsV[:,i]],topn=2)"
     ],
     "language": "python",
     "metadata": {},
     "outputs": [
      {
       "output_type": "stream",
       "stream": "stdout",
       "text": [
        "[(u'K.Kahne_###-###', 0.6197834014892578), (u'M.Kenseth_###-###', 0.6192245483398438)]\n",
        "[(u'was', 0.6855146884918213), (u'had', 0.5307464599609375)]"
       ]
      },
      {
       "output_type": "stream",
       "stream": "stdout",
       "text": [
        "\n",
        "[(u'has', 0.36237916350364685), (u'have', 0.3280337452888489)]"
       ]
      },
      {
       "output_type": "stream",
       "stream": "stdout",
       "text": [
        "\n",
        "[(u'now', 0.505026638507843), (u'has', 0.3707246780395508)]"
       ]
      },
      {
       "output_type": "stream",
       "stream": "stdout",
       "text": [
        "\n",
        "[(u'now', 0.45373237133026123), (u'currently', 0.4083469808101654)]"
       ]
      },
      {
       "output_type": "stream",
       "stream": "stdout",
       "text": [
        "\n",
        "[(u'pay', 0.5041932463645935), (u'help', 0.43758732080459595)]"
       ]
      },
      {
       "output_type": "stream",
       "stream": "stdout",
       "text": [
        "\n",
        "[(u'when', 0.48574960231781006), (u'readily', 0.4162371754646301)]"
       ]
      },
      {
       "output_type": "stream",
       "stream": "stdout",
       "text": [
        "\n",
        "[(u'back', 0.42880910634994507), (u'then', 0.35894885659217834)]"
       ]
      },
      {
       "output_type": "stream",
       "stream": "stdout",
       "text": [
        "\n",
        "[(u'paid', 0.3988882899284363), (u'shillings_##p', 0.3579733669757843)]"
       ]
      },
      {
       "output_type": "stream",
       "stream": "stdout",
       "text": [
        "\n",
        "[(u'overly', 0.344843327999115), (u\"'re\", 0.34022775292396545)]"
       ]
      },
      {
       "output_type": "stream",
       "stream": "stdout",
       "text": [
        "\n",
        "[(u'love', 0.4951801300048828), (u'undying_love', 0.3742065727710724)]"
       ]
      },
      {
       "output_type": "stream",
       "stream": "stdout",
       "text": [
        "\n",
        "[(u'make', 0.34765225648880005), (u'revive_Netscape_Navigator', 0.32751569151878357)]"
       ]
      },
      {
       "output_type": "stream",
       "stream": "stdout",
       "text": [
        "\n",
        "[(u'Hitachi_EcoTrac_classification', 0.2986844778060913), (u'capitalist_oppressor', 0.29249852895736694)]"
       ]
      },
      {
       "output_type": "stream",
       "stream": "stdout",
       "text": [
        "\n",
        "[(u'timeRead', 0.2929399907588959), (u'MakingHomeAffordable.gov', 0.29231277108192444)]"
       ]
      },
      {
       "output_type": "stream",
       "stream": "stdout",
       "text": [
        "\n",
        "[(u'go', 0.42557820677757263), (u'much', 0.4106617569923401)]"
       ]
      },
      {
       "output_type": "stream",
       "stream": "stdout",
       "text": [
        "\n",
        "[(u'know', 0.34049832820892334), (u'forward', 0.31561779975891113)]"
       ]
      },
      {
       "output_type": "stream",
       "stream": "stdout",
       "text": [
        "\n",
        "[(u'making', 0.4226539134979248), (u'makes', 0.34378135204315186)]"
       ]
      },
      {
       "output_type": "stream",
       "stream": "stdout",
       "text": [
        "\n",
        "[(u'those', 0.3242932856082916), (u'least##', 0.3150646686553955)]"
       ]
      },
      {
       "output_type": "stream",
       "stream": "stdout",
       "text": [
        "\n",
        "[(u'much', 0.26168251037597656), (u'getting', 0.24307358264923096)]"
       ]
      },
      {
       "output_type": "stream",
       "stream": "stdout",
       "text": [
        "\n",
        "[(u'working', 0.4043820798397064), (u'studying', 0.39480575919151306)]"
       ]
      },
      {
       "output_type": "stream",
       "stream": "stdout",
       "text": [
        "\n"
       ]
      }
     ],
     "prompt_number": 111
    },
    {
     "cell_type": "code",
     "collapsed": false,
     "input": [
      "for i in range(diffVectorsV.shape[1]):\n",
      "    print model.most_similar([diffVectorsV[:,i]],topn=2)"
     ],
     "language": "python",
     "metadata": {},
     "outputs": [
      {
       "output_type": "stream",
       "stream": "stdout",
       "text": [
        "[(u'M.Kenseth_###-###', 0.7499622702598572), (u'E.Sadler_###-###', 0.7287689447402954)]\n",
        "[(u'returned', 0.4665853977203369), (u'moved', 0.45888620615005493)]"
       ]
      },
      {
       "output_type": "stream",
       "stream": "stdout",
       "text": [
        "\n",
        "[(u'huggin', 0.5126979351043701), (u'ab_***', 0.5101451277732849)]"
       ]
      },
      {
       "output_type": "stream",
       "stream": "stdout",
       "text": [
        "\n",
        "[(u'ask', 0.4743204116821289), (u'BIG_THANK_YOU', 0.436715304851532)]"
       ]
      },
      {
       "output_type": "stream",
       "stream": "stdout",
       "text": [
        "\n",
        "[(u'remarked', 0.4680519998073578), (u'commented', 0.4422588050365448)]"
       ]
      },
      {
       "output_type": "stream",
       "stream": "stdout",
       "text": [
        "\n",
        "[(u'caring', 0.4381221532821655), (u'coping', 0.41408082842826843)]"
       ]
      },
      {
       "output_type": "stream",
       "stream": "stdout",
       "text": [
        "\n",
        "[(u'promptly', 0.4236522316932678), (u'Sharon_Tate_Labianca', 0.41848376393318176)]"
       ]
      },
      {
       "output_type": "stream",
       "stream": "stdout",
       "text": [
        "\n",
        "[(u'stay', 0.3646079897880554), (u'play', 0.3595679998397827)]"
       ]
      },
      {
       "output_type": "stream",
       "stream": "stdout",
       "text": [
        "\n",
        "[(u'lovingly_remembered', 0.3438766300678253), (u'Qunu_Mandela', 0.3421249985694885)]"
       ]
      },
      {
       "output_type": "stream",
       "stream": "stdout",
       "text": [
        "\n",
        "[(u'cripple', 0.4026830792427063), (u'decieved', 0.396902859210968)]"
       ]
      },
      {
       "output_type": "stream",
       "stream": "stdout",
       "text": [
        "\n",
        "[(u'appreciative', 0.43518906831741333), (u'pleasant_surprise', 0.42465198040008545)]"
       ]
      },
      {
       "output_type": "stream",
       "stream": "stdout",
       "text": [
        "\n",
        "[(u'tends', 0.3691309094429016), (u'planned', 0.3430882692337036)]"
       ]
      },
      {
       "output_type": "stream",
       "stream": "stdout",
       "text": [
        "\n",
        "[(u'await', 0.4100567698478699), (u'awaits', 0.40700316429138184)]"
       ]
      },
      {
       "output_type": "stream",
       "stream": "stdout",
       "text": [
        "\n",
        "[(u'tended', 0.3577253520488739), (u'starchiness', 0.3571353554725647)]"
       ]
      },
      {
       "output_type": "stream",
       "stream": "stdout",
       "text": [
        "\n",
        "[(u\"O'Charley_CHUX\", 0.35090699791908264), (u'Eric_Rimm', 0.34290963411331177)]"
       ]
      },
      {
       "output_type": "stream",
       "stream": "stdout",
       "text": [
        "\n",
        "[(u'deserve', 0.37965548038482666), (u'earning', 0.37365686893463135)]"
       ]
      },
      {
       "output_type": "stream",
       "stream": "stdout",
       "text": [
        "\n",
        "[(u'accuses', 0.4051416516304016), (u'is', 0.3815147280693054)]"
       ]
      },
      {
       "output_type": "stream",
       "stream": "stdout",
       "text": [
        "\n",
        "[(u'Because', 0.4392572045326233), (u'Unlike', 0.4351639151573181)]"
       ]
      },
      {
       "output_type": "stream",
       "stream": "stdout",
       "text": [
        "\n",
        "[(u'alos', 0.36617225408554077), (u'Observer_editorials_columns', 0.3337515890598297)]"
       ]
      },
      {
       "output_type": "stream",
       "stream": "stdout",
       "text": [
        "\n",
        "[(u'wear_Speedo_bodysuit', 0.33296048641204834), (u'advents', 0.3243862986564636)]"
       ]
      },
      {
       "output_type": "stream",
       "stream": "stdout",
       "text": [
        "\n"
       ]
      }
     ],
     "prompt_number": 112
    },
    {
     "cell_type": "code",
     "collapsed": false,
     "input": [
      "for i in range(trueVectorsN.shape[1]):\n",
      "    print model.most_similar([trueVectorsN[:,i]],topn=2)"
     ],
     "language": "python",
     "metadata": {},
     "outputs": [
      {
       "output_type": "stream",
       "stream": "stdout",
       "text": [
        "[(u'pizza', 0.9807994365692139), (u'pizzas', 0.7822470664978027)]\n",
        "[(u'week', 0.6367347240447998), (u'just', 0.6357238292694092)]"
       ]
      },
      {
       "output_type": "stream",
       "stream": "stdout",
       "text": [
        "\n",
        "[(u'money', 0.4397404193878174), (u'mon_ey', 0.41843345761299133)]"
       ]
      },
      {
       "output_type": "stream",
       "stream": "stdout",
       "text": [
        "\n",
        "[(u'food', 0.5681113004684448), (u'foodstuffs', 0.41067394614219666)]"
       ]
      },
      {
       "output_type": "stream",
       "stream": "stdout",
       "text": [
        "\n",
        "[(u'money', 0.45251065492630005), (u'vast_sums', 0.3175366520881653)]"
       ]
      },
      {
       "output_type": "stream",
       "stream": "stdout",
       "text": [
        "\n",
        "[(u'My', 0.5197235941886902), (u'Our', 0.3967730402946472)]"
       ]
      },
      {
       "output_type": "stream",
       "stream": "stdout",
       "text": [
        "\n",
        "[(u'someone', 0.4705374240875244), (u'anyone', 0.4699191749095917)]"
       ]
      },
      {
       "output_type": "stream",
       "stream": "stdout",
       "text": [
        "\n",
        "[(u'job', 0.5818697214126587), (u'work', 0.4290075898170471)]"
       ]
      },
      {
       "output_type": "stream",
       "stream": "stdout",
       "text": [
        "\n",
        "[(u'help', 0.6082005500793457), (u'enable', 0.4311448633670807)]"
       ]
      },
      {
       "output_type": "stream",
       "stream": "stdout",
       "text": [
        "\n",
        "[(u'time', 0.4727453589439392), (u'periods', 0.3822539150714874)]"
       ]
      },
      {
       "output_type": "stream",
       "stream": "stdout",
       "text": [
        "\n",
        "[(u'mother', 0.46330463886260986), (u'widowed_mother', 0.4563784599304199)]"
       ]
      },
      {
       "output_type": "stream",
       "stream": "stdout",
       "text": [
        "\n",
        "[(u'pay', 0.5006355047225952), (u'paying', 0.3721008896827698)]"
       ]
      },
      {
       "output_type": "stream",
       "stream": "stdout",
       "text": [
        "\n",
        "[(u'few', 0.5170313119888306), (u'several', 0.4052006006240845)]"
       ]
      },
      {
       "output_type": "stream",
       "stream": "stdout",
       "text": [
        "\n",
        "[(u'Thanks', 0.7273996472358704), (u'Thank', 0.6379858255386353)]"
       ]
      },
      {
       "output_type": "stream",
       "stream": "stdout",
       "text": [
        "\n",
        "[(u'couple', 0.5107024908065796), (u'few', 0.42604243755340576)]"
       ]
      },
      {
       "output_type": "stream",
       "stream": "stdout",
       "text": [
        "\n",
        "[(u'Rotaractors', 0.34864702820777893), (u'work', 0.31162068247795105)]"
       ]
      },
      {
       "output_type": "stream",
       "stream": "stdout",
       "text": [
        "\n",
        "[(u'tomorrow', 0.347504198551178), (u'tomorrows', 0.3321634829044342)]"
       ]
      },
      {
       "output_type": "stream",
       "stream": "stdout",
       "text": [
        "\n",
        "[(u'new', 0.4302552342414856), (u'several', 0.40087229013442993)]"
       ]
      },
      {
       "output_type": "stream",
       "stream": "stdout",
       "text": [
        "\n",
        "[(u'Nothing', 0.3892670273780823), (u'nothing', 0.35059434175491333)]"
       ]
      },
      {
       "output_type": "stream",
       "stream": "stdout",
       "text": [
        "\n",
        "[(u'accounts', 0.372634619474411), (u'account', 0.3597429692745209)]"
       ]
      },
      {
       "output_type": "stream",
       "stream": "stdout",
       "text": [
        "\n"
       ]
      }
     ],
     "prompt_number": 113
    },
    {
     "cell_type": "code",
     "collapsed": false,
     "input": [
      "for i in range(trueVectorsN.shape[1]):\n",
      "    print model.most_similar([falseVectorsN[:,i]],topn=2)"
     ],
     "language": "python",
     "metadata": {},
     "outputs": [
      {
       "output_type": "stream",
       "stream": "stdout",
       "text": [
        "[(u'pizza', 0.9899289011955261), (u'pizzas', 0.7857816815376282)]\n",
        "[(u'just', 0.6437780857086182), (u'time', 0.594422459602356)]"
       ]
      },
      {
       "output_type": "stream",
       "stream": "stdout",
       "text": [
        "\n",
        "[(u'money', 0.5359336137771606), (u'mon_ey', 0.42817777395248413)]"
       ]
      },
      {
       "output_type": "stream",
       "stream": "stdout",
       "text": [
        "\n",
        "[(u'food', 0.4672468900680542), (u'month', 0.36612701416015625)]"
       ]
      },
      {
       "output_type": "stream",
       "stream": "stdout",
       "text": [
        "\n",
        "[(u'money', 0.452109158039093), (u'monies', 0.3289414644241333)]"
       ]
      },
      {
       "output_type": "stream",
       "stream": "stdout",
       "text": [
        "\n",
        "[(u'My', 0.6266785860061646), (u'Our', 0.47894859313964844)]"
       ]
      },
      {
       "output_type": "stream",
       "stream": "stdout",
       "text": [
        "\n",
        "[(u'someone', 0.35570836067199707), (u'anyone', 0.34783631563186646)]"
       ]
      },
      {
       "output_type": "stream",
       "stream": "stdout",
       "text": [
        "\n",
        "[(u'job', 0.6486158967018127), (u'Job', 0.39168664813041687)]"
       ]
      },
      {
       "output_type": "stream",
       "stream": "stdout",
       "text": [
        "\n",
        "[(u'last', 0.728084921836853), (u'Last', 0.5360000729560852)]"
       ]
      },
      {
       "output_type": "stream",
       "stream": "stdout",
       "text": [
        "\n",
        "[(u'fairly_evenly_matched', 0.33148860931396484), (u'DON_HENRY', 0.32397547364234924)]"
       ]
      },
      {
       "output_type": "stream",
       "stream": "stdout",
       "text": [
        "\n",
        "[(u'tomorrow', 0.41869041323661804), (u'Friday', 0.40865322947502136)]"
       ]
      },
      {
       "output_type": "stream",
       "stream": "stdout",
       "text": [
        "\n",
        "[(u'midnite', 0.39939436316490173), (u'enjoy', 0.3603667616844177)]"
       ]
      },
      {
       "output_type": "stream",
       "stream": "stdout",
       "text": [
        "\n",
        "[(u'time_', 0.2706911563873291), (u'Anita_Tsosie', 0.25310519337654114)]"
       ]
      },
      {
       "output_type": "stream",
       "stream": "stdout",
       "text": [
        "\n",
        "[(u'Saturday', 0.33200234174728394), (u'tomorrow', 0.3192114531993866)]"
       ]
      },
      {
       "output_type": "stream",
       "stream": "stdout",
       "text": [
        "\n",
        "[(u'couple', 0.3903295397758484), (u'bunch', 0.3397601246833801)]"
       ]
      },
      {
       "output_type": "stream",
       "stream": "stdout",
       "text": [
        "\n",
        "[(u'groundbreaking', 0.3648911118507385), (u'work', 0.3634335994720459)]"
       ]
      },
      {
       "output_type": "stream",
       "stream": "stdout",
       "text": [
        "\n",
        "[(u'new', 0.4811842441558838), (u'seemingly_limitless_possibilities', 0.39540737867355347)]"
       ]
      },
      {
       "output_type": "stream",
       "stream": "stdout",
       "text": [
        "\n",
        "[(u'Nothing', 0.40924566984176636), (u'Something', 0.3537687063217163)]"
       ]
      },
      {
       "output_type": "stream",
       "stream": "stdout",
       "text": [
        "\n",
        "[(u'hungry', 0.41566359996795654), (u'Felicie_Colin', 0.300859659910202)]"
       ]
      },
      {
       "output_type": "stream",
       "stream": "stdout",
       "text": [
        "\n",
        "[(u'aspects', 0.299674391746521), (u'nineteen_eighty', 0.2860361635684967)]"
       ]
      },
      {
       "output_type": "stream",
       "stream": "stdout",
       "text": [
        "\n"
       ]
      }
     ],
     "prompt_number": 114
    },
    {
     "cell_type": "code",
     "collapsed": false,
     "input": [
      "for i in range(diffVectorsN.shape[1]):\n",
      "    print model.most_similar([diffVectorsN[:,i]],topn=2)"
     ],
     "language": "python",
     "metadata": {},
     "outputs": [
      {
       "output_type": "stream",
       "stream": "stdout",
       "text": [
        "[(u'E.Sadler_###-###', 0.6105763912200928), (u'K.Kahne_###-###', 0.6090455651283264)]\n",
        "[(u'weeks', 0.585106611251831), (u'last', 0.5539548993110657)]"
       ]
      },
      {
       "output_type": "stream",
       "stream": "stdout",
       "text": [
        "\n",
        "[(u'friend', 0.6924067139625549), (u'pal', 0.5202252864837646)]"
       ]
      },
      {
       "output_type": "stream",
       "stream": "stdout",
       "text": [
        "\n",
        "[(u'days', 0.5456267595291138), (u'hours', 0.489843487739563)]"
       ]
      },
      {
       "output_type": "stream",
       "stream": "stdout",
       "text": [
        "\n",
        "[(u'do', 0.4803531765937805), (u\"don'ta\", 0.47317469120025635)]"
       ]
      },
      {
       "output_type": "stream",
       "stream": "stdout",
       "text": [
        "\n",
        "[(u'tomorrow', 0.6064843535423279), (u'tommorow', 0.5241262912750244)]"
       ]
      },
      {
       "output_type": "stream",
       "stream": "stdout",
       "text": [
        "\n",
        "[(u'hungry', 0.4224233031272888), (u'goat_testicles', 0.42073795199394226)]"
       ]
      },
      {
       "output_type": "stream",
       "stream": "stdout",
       "text": [
        "\n",
        "[(u'rice', 0.5552663803100586), (u'rootcrops', 0.4722036123275757)]"
       ]
      },
      {
       "output_type": "stream",
       "stream": "stdout",
       "text": [
        "\n",
        "[(u'tomorrow', 0.4029017686843872), (u'Saturday', 0.29863011837005615)]"
       ]
      },
      {
       "output_type": "stream",
       "stream": "stdout",
       "text": [
        "\n",
        "[(u'paycheck', 0.38764244318008423), (u'STUD_OF', 0.35059353709220886)]"
       ]
      },
      {
       "output_type": "stream",
       "stream": "stdout",
       "text": [
        "\n",
        "[(u'next', 0.49961400032043457), (u'thenext', 0.38455575704574585)]"
       ]
      },
      {
       "output_type": "stream",
       "stream": "stdout",
       "text": [
        "\n",
        "[(u'help', 0.4129774868488312), (u'provide', 0.3498304486274719)]"
       ]
      },
      {
       "output_type": "stream",
       "stream": "stdout",
       "text": [
        "\n",
        "[(u'anyone', 0.5001240968704224), (u'person', 0.40057647228240967)]"
       ]
      },
      {
       "output_type": "stream",
       "stream": "stdout",
       "text": [
        "\n",
        "[(u'bedroom', 0.392177015542984), (u'house', 0.3917999565601349)]"
       ]
      },
      {
       "output_type": "stream",
       "stream": "stdout",
       "text": [
        "\n",
        "[(u'StatPro_Seven', 0.3866013288497925), (u'Technest_focuses', 0.36550089716911316)]"
       ]
      },
      {
       "output_type": "stream",
       "stream": "stdout",
       "text": [
        "\n",
        "[(u'activities.The', 0.2689620852470398), (u'By_Christina_Tashkevich', 0.2678794860839844)]"
       ]
      },
      {
       "output_type": "stream",
       "stream": "stdout",
       "text": [
        "\n",
        "[(u'free', 0.40113890171051025), (u'handsome_bay_colt', 0.33605289459228516)]"
       ]
      },
      {
       "output_type": "stream",
       "stream": "stdout",
       "text": [
        "\n",
        "[(u'work', 0.33853036165237427), (u'quantity_surveyors', 0.27940046787261963)]"
       ]
      },
      {
       "output_type": "stream",
       "stream": "stdout",
       "text": [
        "\n",
        "[(u'pipsqueak', 0.2716518044471741), (u'Somebody', 0.27129611372947693)]"
       ]
      },
      {
       "output_type": "stream",
       "stream": "stdout",
       "text": [
        "\n",
        "[(u'able', 0.48563170433044434), (u'unable', 0.4646492004394531)]"
       ]
      },
      {
       "output_type": "stream",
       "stream": "stdout",
       "text": [
        "\n"
       ]
      }
     ],
     "prompt_number": 115
    },
    {
     "cell_type": "code",
     "collapsed": false,
     "input": [
      "#df.request_text_edit_aware[0]"
     ],
     "language": "python",
     "metadata": {},
     "outputs": [],
     "prompt_number": 116
    },
    {
     "cell_type": "code",
     "collapsed": false,
     "input": [
      "#totalText[0]"
     ],
     "language": "python",
     "metadata": {},
     "outputs": [],
     "prompt_number": 117
    },
    {
     "cell_type": "code",
     "collapsed": false,
     "input": [
      "#df.requester_received_pizza[5]"
     ],
     "language": "python",
     "metadata": {},
     "outputs": [],
     "prompt_number": 118
    },
    {
     "cell_type": "code",
     "collapsed": false,
     "input": [
      "#requestToken0 = nltk.word_tokenize(totalText[0])\n",
      "#requestToken0[:] = [x for x in requestToken0 if x in model.vocab]\n",
      "#taggedPOS0 = nltk.pos_tag(requestToken0)\n",
      "#verbs0 = [x[0] for x in taggedPOS0 if 'VB' in x[1]]"
     ],
     "language": "python",
     "metadata": {},
     "outputs": [],
     "prompt_number": 119
    },
    {
     "cell_type": "code",
     "collapsed": false,
     "input": [
      "#requestToken5 = nltk.word_tokenize(totalText[5])\n",
      "#requestToken5[:] = [x for x in requestToken5 if x in model.vocab]\n",
      "#taggedPOS5 = nltk.pos_tag(requestToken5)\n",
      "#verbs5 = [x[0] for x in taggedPOS5 if 'VB' in x[1]]"
     ],
     "language": "python",
     "metadata": {},
     "outputs": [],
     "prompt_number": 120
    },
    {
     "cell_type": "code",
     "collapsed": false,
     "input": [
      "#for i in range(trueVectorsV.shape[1]):\n",
      "#    print n_similarity_vec(verbs0,[trueVectorsV[:,i]])*10"
     ],
     "language": "python",
     "metadata": {},
     "outputs": [],
     "prompt_number": 121
    },
    {
     "cell_type": "code",
     "collapsed": false,
     "input": [
      "#for i in range(trueVectorsV.shape[1]):\n",
      "#    print n_similarity_vec(verbs5,[trueVectorsV[:,i]])*10"
     ],
     "language": "python",
     "metadata": {},
     "outputs": [],
     "prompt_number": 122
    },
    {
     "cell_type": "code",
     "collapsed": false,
     "input": [],
     "language": "python",
     "metadata": {},
     "outputs": [],
     "prompt_number": 122
    },
    {
     "cell_type": "code",
     "collapsed": false,
     "input": [
      "def getVerbProjection(string,verbVector,model,cutoff=0):\n",
      "    rToken = nltk.word_tokenize(string[cutoff:])\n",
      "    rToken[:] = [x for x in rToken if x in model.vocab]\n",
      "    tPOS = nltk.pos_tag(rToken)\n",
      "    verbs = [x[0] for x in tPOS if 'VB' in x[1]]\n",
      "    if not verbs:\n",
      "        return 0.0\n",
      "    else:\n",
      "        return n_similarity_vec(verbs,[verbVector])*10\n",
      "def getNounProjection(string,nounVector,model,cutoff=0):\n",
      "    rToken = nltk.word_tokenize(string[cutoff:])\n",
      "    rToken[:] = [x for x in rToken if x in model.vocab]\n",
      "    tPOS = nltk.pos_tag(rToken)\n",
      "    nouns = [x[0] for x in tPOS if 'NN' in x[1]]\n",
      "    if not nouns:\n",
      "        return 0.0\n",
      "    else:\n",
      "        return n_similarity_vec(nouns,[nounVector])*10"
     ],
     "language": "python",
     "metadata": {},
     "outputs": [],
     "prompt_number": 123
    },
    {
     "cell_type": "code",
     "collapsed": false,
     "input": [
      "df['total_text'] = (df.request_title+' '+df.request_text_edit_aware).apply(lambda x: x[9:])"
     ],
     "language": "python",
     "metadata": {},
     "outputs": [],
     "prompt_number": 124
    },
    {
     "cell_type": "code",
     "collapsed": false,
     "input": [],
     "language": "python",
     "metadata": {},
     "outputs": [],
     "prompt_number": 124
    },
    {
     "cell_type": "code",
     "collapsed": false,
     "input": [
      "#for i in range(trueVectorsN.shape[1]):\n",
      "#    print getNounProjection(df.request_text_edit_aware[1],trueVectorsN[:,i],model)"
     ],
     "language": "python",
     "metadata": {},
     "outputs": [],
     "prompt_number": 125
    },
    {
     "cell_type": "code",
     "collapsed": false,
     "input": [],
     "language": "python",
     "metadata": {},
     "outputs": [],
     "prompt_number": 125
    },
    {
     "cell_type": "code",
     "collapsed": false,
     "input": [
      "(uDiffPosN,sDiffPosN,vDiffPosN) = np.linalg.svd(arrayFullDiffNouns[:,0:500],full_matrices=False)\n",
      "(uDiffNegN,sDiffNegN,vDiffNegN) = np.linalg.svd(arrayFullDiffNouns[:,500:],full_matrices=False)\n",
      "(uDiffPosV,sDiffPosV,vDiffPosV) = np.linalg.svd(arrayFullDiffVerbs[:,0:500],full_matrices=False)\n",
      "(uDiffNegV,sDiffNegV,vDiffNegV) = np.linalg.svd(arrayFullDiffVerbs[:,500:],full_matrices=False)"
     ],
     "language": "python",
     "metadata": {},
     "outputs": [],
     "prompt_number": 126
    },
    {
     "cell_type": "code",
     "collapsed": false,
     "input": [
      "for i in range(10):\n",
      "    print model.most_similar([uDiffPosN[:,i]],topn=2)"
     ],
     "language": "python",
     "metadata": {},
     "outputs": [
      {
       "output_type": "stream",
       "stream": "stdout",
       "text": [
        "[(u'----------_-----------------------------------------------_GS##', 0.5451909303665161), (u'E.Sadler_###-###', 0.5438261032104492)]\n",
        "[(u'days', 0.5162726640701294), (u'hours', 0.468473345041275)]"
       ]
      },
      {
       "output_type": "stream",
       "stream": "stdout",
       "text": [
        "\n",
        "[(u'Twitter_@_JasonClayworth', 0.592311680316925), (u'A.It_s', 0.5896764993667603)]"
       ]
      },
      {
       "output_type": "stream",
       "stream": "stdout",
       "text": [
        "\n",
        "[(u'check', 0.5873520374298096), (u'http', 0.48262009024620056)]"
       ]
      },
      {
       "output_type": "stream",
       "stream": "stdout",
       "text": [
        "\n",
        "[(u'paycheck', 0.6353710889816284), (u'paychecks', 0.599408745765686)]"
       ]
      },
      {
       "output_type": "stream",
       "stream": "stdout",
       "text": [
        "\n",
        "[(u'rice', 0.8409538269042969), (u'wheat_flour', 0.6236217617988586)]"
       ]
      },
      {
       "output_type": "stream",
       "stream": "stdout",
       "text": [
        "\n",
        "[(u'able', 0.3793991208076477), (u'next', 0.3461117148399353)]"
       ]
      },
      {
       "output_type": "stream",
       "stream": "stdout",
       "text": [
        "\n",
        "[(u'Thursday', 0.42817842960357666), (u'Wednesday', 0.4261079430580139)]"
       ]
      },
      {
       "output_type": "stream",
       "stream": "stdout",
       "text": [
        "\n",
        "[(u'few', 0.3677304983139038), (u\"that've\", 0.36613646149635315)]"
       ]
      },
      {
       "output_type": "stream",
       "stream": "stdout",
       "text": [
        "\n",
        "[(u'job', 0.3192443251609802), (u'suckiness', 0.30807721614837646)]"
       ]
      },
      {
       "output_type": "stream",
       "stream": "stdout",
       "text": [
        "\n"
       ]
      }
     ],
     "prompt_number": 127
    },
    {
     "cell_type": "code",
     "collapsed": false,
     "input": [
      "for i in range(10):\n",
      "    print model.most_similar([uDiffNegN[:,i]],topn=2)"
     ],
     "language": "python",
     "metadata": {},
     "outputs": [
      {
       "output_type": "stream",
       "stream": "stdout",
       "text": [
        "[(u'pizza', 0.9651790261268616), (u'pizzas', 0.7583959698677063)]\n",
        "[(u'M.Kenseth_###-###', 0.35656803846359253), (u'J.Gordon_##-###', 0.32975080609321594)]"
       ]
      },
      {
       "output_type": "stream",
       "stream": "stdout",
       "text": [
        "\n",
        "[(u'hungry', 0.6160846948623657), (u'tomorrow', 0.5653654336929321)]"
       ]
      },
      {
       "output_type": "stream",
       "stream": "stdout",
       "text": [
        "\n",
        "[(u'tomorrow', 0.6756714582443237), (u'today', 0.5016524791717529)]"
       ]
      },
      {
       "output_type": "stream",
       "stream": "stdout",
       "text": [
        "\n",
        "[(u'house', 0.674005925655365), (u'houses', 0.532258927822113)]"
       ]
      },
      {
       "output_type": "stream",
       "stream": "stdout",
       "text": [
        "\n",
        "[(u'house', 0.4854127764701843), (u'grass_thatched_hut', 0.3933149576187134)]"
       ]
      },
      {
       "output_type": "stream",
       "stream": "stdout",
       "text": [
        "\n",
        "[(u'certain_Chaim_Levine', 0.3390583395957947), (u'hooha', 0.33723869919776917)]"
       ]
      },
      {
       "output_type": "stream",
       "stream": "stdout",
       "text": [
        "\n",
        "[(u'eat', 0.5771647691726685), (u'eat_fatty_foods', 0.4501327574253082)]"
       ]
      },
      {
       "output_type": "stream",
       "stream": "stdout",
       "text": [
        "\n",
        "[(u'please', 0.5880590677261353), (u'Please', 0.5765162110328674)]"
       ]
      },
      {
       "output_type": "stream",
       "stream": "stdout",
       "text": [
        "\n",
        "[(u'friends', 0.4514889717102051), (u'alumni_ae', 0.42313748598098755)]"
       ]
      },
      {
       "output_type": "stream",
       "stream": "stdout",
       "text": [
        "\n"
       ]
      }
     ],
     "prompt_number": 128
    },
    {
     "cell_type": "code",
     "collapsed": false,
     "input": [
      "for i in range(10):\n",
      "    print model.most_similar([uDiffPosV[:,i]],topn=2)"
     ],
     "language": "python",
     "metadata": {},
     "outputs": [
      {
       "output_type": "stream",
       "stream": "stdout",
       "text": [
        "[(u'anyway', 0.7218167781829834), (u'%_#F########_7v.jsn', 0.7151530981063843)]\n",
        "[(u'HORRIBLY', 0.5437905788421631), (u'edness', 0.5063952803611755)]"
       ]
      },
      {
       "output_type": "stream",
       "stream": "stdout",
       "text": [
        "\n",
        "[(u'typically', 0.46017152070999146), (u'generally', 0.45423269271850586)]"
       ]
      },
      {
       "output_type": "stream",
       "stream": "stdout",
       "text": [
        "\n",
        "[(u'was', 0.45740723609924316), (u'had', 0.45114368200302124)]"
       ]
      },
      {
       "output_type": "stream",
       "stream": "stdout",
       "text": [
        "\n",
        "[(u'thank', 0.46318697929382324), (u'warmly_welcome', 0.4619413912296295)]"
       ]
      },
      {
       "output_type": "stream",
       "stream": "stdout",
       "text": [
        "\n",
        "[(u'undeniably', 0.4533815085887909), (u'extremely', 0.43410083651542664)]"
       ]
      },
      {
       "output_type": "stream",
       "stream": "stdout",
       "text": [
        "\n",
        "[(u'barehanding_ground', 0.3859465718269348), (u'flatspin', 0.3834955096244812)]"
       ]
      },
      {
       "output_type": "stream",
       "stream": "stdout",
       "text": [
        "\n",
        "[(u'AFAIK', 0.45492592453956604), (u'kazaa', 0.4434563219547272)]"
       ]
      },
      {
       "output_type": "stream",
       "stream": "stdout",
       "text": [
        "\n",
        "[(u'skull_punctured', 0.3447299301624298), (u'Local_schoolteacher_Gerassimos', 0.3386780023574829)]"
       ]
      },
      {
       "output_type": "stream",
       "stream": "stdout",
       "text": [
        "\n",
        "[(u'go', 0.37438127398490906), (u'stay', 0.3435020446777344)]"
       ]
      },
      {
       "output_type": "stream",
       "stream": "stdout",
       "text": [
        "\n"
       ]
      }
     ],
     "prompt_number": 129
    },
    {
     "cell_type": "code",
     "collapsed": false,
     "input": [
      "for i in range(10):\n",
      "    print model.most_similar([uDiffNegV[:,i]],topn=2)"
     ],
     "language": "python",
     "metadata": {},
     "outputs": [
      {
       "output_type": "stream",
       "stream": "stdout",
       "text": [
        "[(u'M.Kenseth_###-###', 0.7382007837295532), (u'E.Sadler_###-###', 0.7162774801254272)]\n",
        "[(u'it.You', 0.5028347969055176), (u'WHat', 0.497601717710495)]"
       ]
      },
      {
       "output_type": "stream",
       "stream": "stdout",
       "text": [
        "\n",
        "[(u'TMZ_photog', 0.5170350074768066), (u'wooooo', 0.5099818110466003)]"
       ]
      },
      {
       "output_type": "stream",
       "stream": "stdout",
       "text": [
        "\n",
        "[(u'Eat_Spaghetti_Dinner', 0.4720771908760071), (u'sing', 0.45546677708625793)]"
       ]
      },
      {
       "output_type": "stream",
       "stream": "stdout",
       "text": [
        "\n",
        "[(u'talked', 0.4259521961212158), (u'remarked', 0.41357871890068054)]"
       ]
      },
      {
       "output_type": "stream",
       "stream": "stdout",
       "text": [
        "\n",
        "[(u'codes_UPC_##########', 0.36722075939178467), (u'comming', 0.36284440755844116)]"
       ]
      },
      {
       "output_type": "stream",
       "stream": "stdout",
       "text": [
        "\n",
        "[(u'viagra_usa', 0.4807155430316925), (u'Certains', 0.46732932329177856)]"
       ]
      },
      {
       "output_type": "stream",
       "stream": "stdout",
       "text": [
        "\n",
        "[(u'looking', 0.4506928324699402), (u'trying', 0.4505518078804016)]"
       ]
      },
      {
       "output_type": "stream",
       "stream": "stdout",
       "text": [
        "\n",
        "[(u'damaging', 0.3750847280025482), (u'evict_Patten', 0.37091898918151855)]"
       ]
      },
      {
       "output_type": "stream",
       "stream": "stdout",
       "text": [
        "\n",
        "[(u'refusing', 0.4488309621810913), (u'refused', 0.4352385401725769)]"
       ]
      },
      {
       "output_type": "stream",
       "stream": "stdout",
       "text": [
        "\n"
       ]
      }
     ],
     "prompt_number": 130
    },
    {
     "cell_type": "code",
     "collapsed": false,
     "input": [],
     "language": "python",
     "metadata": {},
     "outputs": [],
     "prompt_number": 130
    },
    {
     "cell_type": "code",
     "collapsed": false,
     "input": [
      "for i in range(0,10):\n",
      "    df[\"evec_posDiff_verb_\"+str(i)] = df.total_text.apply(lambda x: getVerbProjection(x,uDiffPosV[:,i],model))"
     ],
     "language": "python",
     "metadata": {},
     "outputs": [],
     "prompt_number": 131
    },
    {
     "cell_type": "code",
     "collapsed": false,
     "input": [
      "for i in range(0,10):\n",
      "    df[\"evec_negDiff_verb_\"+str(i)] = df.total_text.apply(lambda x: getVerbProjection(x,uDiffNegV[:,i],model))"
     ],
     "language": "python",
     "metadata": {},
     "outputs": [],
     "prompt_number": 132
    },
    {
     "cell_type": "code",
     "collapsed": false,
     "input": [
      "for i in range(0,10):\n",
      "    df[\"evec_posDiff_noun_\"+str(i)] = df.total_text.apply(lambda x: getVerbProjection(x,uDiffPosN[:,i],model))"
     ],
     "language": "python",
     "metadata": {},
     "outputs": [],
     "prompt_number": 133
    },
    {
     "cell_type": "code",
     "collapsed": false,
     "input": [
      "for i in range(0,10):\n",
      "    df[\"evec_negDiff_noun_\"+str(i)] = df.total_text.apply(lambda x: getVerbProjection(x,uDiffNegN[:,i],model))"
     ],
     "language": "python",
     "metadata": {},
     "outputs": [],
     "prompt_number": 134
    },
    {
     "cell_type": "code",
     "collapsed": false,
     "input": [
      "printdf = df\n",
      "dropList = [u'total_text',u'request_text_edit_aware',u'request_title']\n",
      "for item in dropList:\n",
      "    if item in printdf:\n",
      "        printdf.drop(item,axis=1,inplace=True)\n",
      "printdf.to_csv(\"/Users/dstuck/projects/AlliedMastercomputer/PizzaMadness/newDiffVecDF.csv\",encoding='utf-8');"
     ],
     "language": "python",
     "metadata": {},
     "outputs": [],
     "prompt_number": 224
    },
    {
     "cell_type": "code",
     "collapsed": false,
     "input": [
      "testdf = getTestData()\n",
      "addTextLen(testdf)\n",
      "addPostHour(testdf)\n",
      "testdf['total_text'] = (testdf.request_title+' '+testdf.request_text_edit_aware).apply(lambda x: x[9:])"
     ],
     "language": "python",
     "metadata": {},
     "outputs": [],
     "prompt_number": 136
    },
    {
     "cell_type": "code",
     "collapsed": false,
     "input": [
      "for i in range(0,10):\n",
      "    testdf[\"evec_posDiff_verb_\"+str(i)] = testdf.total_text.apply(lambda x: getVerbProjection(x,uDiffPosV[:,i],model))"
     ],
     "language": "python",
     "metadata": {},
     "outputs": [],
     "prompt_number": 137
    },
    {
     "cell_type": "code",
     "collapsed": false,
     "input": [
      "for i in range(0,10):\n",
      "    testdf[\"evec_negDiff_verb_\"+str(i)] = testdf.total_text.apply(lambda x: getVerbProjection(x,uDiffNegV[:,i],model))"
     ],
     "language": "python",
     "metadata": {},
     "outputs": [],
     "prompt_number": 138
    },
    {
     "cell_type": "code",
     "collapsed": false,
     "input": [
      "for i in range(0,10):\n",
      "    testdf[\"evec_posDiff_noun_\"+str(i)] = testdf.total_text.apply(lambda x: getVerbProjection(x,uDiffPosN[:,i],model))"
     ],
     "language": "python",
     "metadata": {},
     "outputs": [],
     "prompt_number": 139
    },
    {
     "cell_type": "code",
     "collapsed": false,
     "input": [
      "for i in range(0,10):\n",
      "    testdf[\"evec_negDiff_noun_\"+str(i)] = testdf.total_text.apply(lambda x: getVerbProjection(x,uDiffNegN[:,i],model))"
     ],
     "language": "python",
     "metadata": {},
     "outputs": [],
     "prompt_number": 140
    },
    {
     "cell_type": "code",
     "collapsed": false,
     "input": [
      "printdf = testdf\n",
      "dropList = [u'total_text',u'request_text_edit_aware',u'request_title']\n",
      "for item in dropList:\n",
      "    if item in printdf:\n",
      "        printdf.drop(item,axis=1,inplace=True)\n",
      "printdf.to_csv(\"/Users/dstuck/projects/AlliedMastercomputer/PizzaMadness/newDiffVecTest.csv\",encoding='utf-8',engine='python');"
     ],
     "language": "python",
     "metadata": {},
     "outputs": [],
     "prompt_number": 223
    },
    {
     "cell_type": "code",
     "collapsed": false,
     "input": [
      "df.query('requester_received_pizza == True').evec_negDiff_verb_7.hist(bins=50,alpha=0.5,label='T',normed=True)\n",
      "df.query('requester_received_pizza == False').evec_negDiff_verb_7.hist(bins=50,alpha=0.5,label='F',normed=True)\n",
      "plt.legend(loc='upper right')\n",
      "plt.show()"
     ],
     "language": "python",
     "metadata": {},
     "outputs": [
      {
       "metadata": {},
       "output_type": "display_data",
       "png": "[encoded data removed]",
       "text": [
        "<matplotlib.figure.Figure at 0x25191ac10>"
       ]
      }
     ],
     "prompt_number": 142
    },
    {
     "cell_type": "code",
     "collapsed": false,
     "input": [
      "df.query('requester_received_pizza == True').evec_negDiff_noun_4.hist(bins=50,alpha=0.5,label='T',normed=True)\n",
      "df.query('requester_received_pizza == False').evec_negDiff_noun_4.hist(bins=50,alpha=0.5,label='F',normed=True)\n",
      "plt.legend(loc='upper right')\n",
      "plt.show()"
     ],
     "language": "python",
     "metadata": {},
     "outputs": [
      {
       "metadata": {},
       "output_type": "display_data",
       "png": "[encoded data removed]",
       "text": [
        "<matplotlib.figure.Figure at 0x115afffd0>"
       ]
      }
     ],
     "prompt_number": 143
    },
    {
     "cell_type": "code",
     "collapsed": false,
     "input": [
      "#df.query('requester_received_pizza == True').describe()"
     ],
     "language": "python",
     "metadata": {},
     "outputs": [],
     "prompt_number": 144
    },
    {
     "cell_type": "code",
     "collapsed": false,
     "input": [
      "#df.query('requester_received_pizza == False').describe()"
     ],
     "language": "python",
     "metadata": {},
     "outputs": [],
     "prompt_number": 145
    },
    {
     "cell_type": "code",
     "collapsed": false,
     "input": [],
     "language": "python",
     "metadata": {},
     "outputs": [],
     "prompt_number": 145
    },
    {
     "cell_type": "code",
     "collapsed": false,
     "input": [
      "for i in range(0,10):\n",
      "    df[\"evec_true_verb_\"+str(i)] = df.total_text.apply(lambda x: getVerbProjection(x,trueVectorsV[:,i],model))"
     ],
     "language": "python",
     "metadata": {},
     "outputs": [],
     "prompt_number": 146
    },
    {
     "cell_type": "code",
     "collapsed": false,
     "input": [
      "for i in range(0,10):\n",
      "    df[\"evec_false_verb_\"+str(i)] = df.total_text.apply(lambda x: getVerbProjection(x,falseVectorsV[:,i],model))"
     ],
     "language": "python",
     "metadata": {},
     "outputs": [],
     "prompt_number": 147
    },
    {
     "cell_type": "code",
     "collapsed": false,
     "input": [
      "#df[\"evec_diff_verb_\"+str(1)] = df.total_text.apply(lambda x: getVerbProjection(x,diffVectorsV[:,1],model))"
     ],
     "language": "python",
     "metadata": {},
     "outputs": [],
     "prompt_number": 148
    },
    {
     "cell_type": "code",
     "collapsed": false,
     "input": [
      "for i in range(0,10):\n",
      "    df[\"evec_diff_verb_\"+str(i)] = df.total_text.apply(lambda x: getVerbProjection(x,diffVectorsV[:,i],model))"
     ],
     "language": "python",
     "metadata": {},
     "outputs": [],
     "prompt_number": 149
    },
    {
     "cell_type": "code",
     "collapsed": false,
     "input": [
      "for i in range(0,10):\n",
      "    df[\"evec_true_noun_\"+str(i)] = df.total_text.apply(lambda x: getNounProjection(x,trueVectorsN[:,i],model))"
     ],
     "language": "python",
     "metadata": {},
     "outputs": [],
     "prompt_number": 150
    },
    {
     "cell_type": "code",
     "collapsed": false,
     "input": [
      "#df[\"evec_false_noun_\"+str(1)] = df.total_text.apply(lambda x: getNounProjection(x,falseVectorsN[:,1],model))"
     ],
     "language": "python",
     "metadata": {},
     "outputs": [],
     "prompt_number": 151
    },
    {
     "cell_type": "code",
     "collapsed": false,
     "input": [
      "for i in range(0,10):\n",
      "    df[\"evec_false_noun_\"+str(i)] = df.total_text.apply(lambda x: getNounProjection(x,falseVectorsN[:,i],model))"
     ],
     "language": "python",
     "metadata": {},
     "outputs": [],
     "prompt_number": 152
    },
    {
     "cell_type": "code",
     "collapsed": false,
     "input": [
      "#df[\"evec_diff_noun_\"+str(0)] = df.request_text_edit_aware.apply(lambda x: getNounProjection(x,diffVectorsN[:,0],model))"
     ],
     "language": "python",
     "metadata": {},
     "outputs": [],
     "prompt_number": 153
    },
    {
     "cell_type": "code",
     "collapsed": false,
     "input": [
      "#df[\"evec_diff_noun_\"+str(1)] = df.request_text_edit_aware.apply(lambda x: getNounProjection(x,diffVectorsN[:,1],model))$"
     ],
     "language": "python",
     "metadata": {},
     "outputs": [],
     "prompt_number": 154
    },
    {
     "cell_type": "code",
     "collapsed": false,
     "input": [
      "for i in range(0,10):\n",
      "    df[\"evec_diff_noun_\"+str(i)] = df.total_text.apply(lambda x: getNounProjection(x,diffVectorsN[:,i],model))"
     ],
     "language": "python",
     "metadata": {},
     "outputs": [],
     "prompt_number": 155
    },
    {
     "cell_type": "code",
     "collapsed": false,
     "input": [],
     "language": "python",
     "metadata": {},
     "outputs": [],
     "prompt_number": 155
    },
    {
     "cell_type": "code",
     "collapsed": false,
     "input": [
      "#df.evec_diff_verb_1 = df['evec_diff_verb_1'].apply(lambda x: 0 if (not isinstance(x, float)) else x)"
     ],
     "language": "python",
     "metadata": {},
     "outputs": [],
     "prompt_number": 156
    },
    {
     "cell_type": "code",
     "collapsed": false,
     "input": [
      "#df.columns =[u'request_id', u'request_text_edit_aware', u'request_title', u'requester_account_age_in_days_at_request', u'requester_days_since_first_post_on_raop_at_request', u'requester_number_of_comments_at_request', u'requester_number_of_comments_in_raop_at_request', u'requester_number_of_posts_at_request', u'requester_number_of_posts_on_raop_at_request', u'requester_number_of_subreddits_at_request', u'requester_received_pizza', u'requester_subreddits_at_request', u'requester_upvotes_minus_downvotes_at_request', u'requester_upvotes_plus_downvotes_at_request', u'requester_username', u'request_len', u'title_len', u'post_hour_utc', u'post_hour', u'evec_diff_verb_1', u'evec_diff_noun_1', u'evec_false_noun_1']"
     ],
     "language": "python",
     "metadata": {},
     "outputs": [],
     "prompt_number": 157
    },
    {
     "cell_type": "code",
     "collapsed": false,
     "input": [
      "printdf = df\n",
      "dropList = [u'total_text',u'request_text_edit_aware',u'request_title']\n",
      "for item in dropList:\n",
      "    if item in printdf:\n",
      "        printdf.drop(item,axis=1,inplace=True)\n",
      "printdf.to_csv(\"/Users/dstuck/projects/AlliedMastercomputer/PizzaMadness/diffVecDF.csv\",encoding='utf-8',engine='python');"
     ],
     "language": "python",
     "metadata": {},
     "outputs": [],
     "prompt_number": 222
    },
    {
     "cell_type": "code",
     "collapsed": false,
     "input": [
      "df.query('requester_received_pizza == True').evec_diff_verb_1.hist(bins=50,alpha=0.5,label='T',normed=True)\n",
      "df.query('requester_received_pizza == False').evec_diff_verb_1.hist(bins=50,alpha=0.5,label='F',normed=True)\n",
      "plt.legend(loc='upper right')\n",
      "plt.show()"
     ],
     "language": "python",
     "metadata": {},
     "outputs": [
      {
       "metadata": {},
       "output_type": "display_data",
       "png": "[encoded data removed]",
       "text": [
        "<matplotlib.figure.Figure at 0x1159d6690>"
       ]
      }
     ],
     "prompt_number": 159
    },
    {
     "cell_type": "code",
     "collapsed": false,
     "input": [
      "df.query('requester_received_pizza == True').evec_diff_verb_7.hist(bins=50,alpha=0.5,label='T',normed=True)\n",
      "df.query('requester_received_pizza == False').evec_diff_verb_7.hist(bins=50,alpha=0.5,label='F',normed=True)\n",
      "plt.legend(loc='upper right')\n",
      "plt.show()"
     ],
     "language": "python",
     "metadata": {},
     "outputs": [
      {
       "metadata": {},
       "output_type": "display_data",
       "png": "[encoded data removed]",
       "text": [
        "<matplotlib.figure.Figure at 0x11547a910>"
       ]
      }
     ],
     "prompt_number": 160
    },
    {
     "cell_type": "code",
     "collapsed": false,
     "input": [
      "df.query('requester_received_pizza == True').evec_diff_noun_1.hist(bins=50,alpha=0.5,label='T',normed=True)\n",
      "df.query('requester_received_pizza == False').evec_diff_noun_1.hist(bins=50,alpha=0.5,label='F',normed=True)\n",
      "plt.legend(loc='upper right')\n",
      "plt.show()"
     ],
     "language": "python",
     "metadata": {},
     "outputs": [
      {
       "metadata": {},
       "output_type": "display_data",
       "png": "[encoded data removed]",
       "text": [
        "<matplotlib.figure.Figure at 0x116437a90>"
       ]
      }
     ],
     "prompt_number": 161
    },
    {
     "cell_type": "code",
     "collapsed": false,
     "input": [
      "df.query('requester_received_pizza == True').evec_false_noun_1.hist(bins=50,alpha=0.5,label='T',normed=True)\n",
      "df.query('requester_received_pizza == False').evec_false_noun_1.hist(bins=50,alpha=0.5,label='F',normed=True)\n",
      "plt.legend(loc='upper right')\n",
      "plt.show()"
     ],
     "language": "python",
     "metadata": {},
     "outputs": [
      {
       "metadata": {},
       "output_type": "display_data",
       "png": "[encoded data removed]",
       "text": [
        "<matplotlib.figure.Figure at 0x115d72450>"
       ]
      }
     ],
     "prompt_number": 162
    },
    {
     "cell_type": "code",
     "collapsed": false,
     "input": [
      "df.query('requester_received_pizza == True').evec_false_noun_9.hist(bins=50,alpha=0.5,label='T',normed=True)\n",
      "df.query('requester_received_pizza == False').evec_false_noun_9.hist(bins=50,alpha=0.5,label='F',normed=True)\n",
      "plt.legend(loc='upper right')\n",
      "plt.show()"
     ],
     "language": "python",
     "metadata": {},
     "outputs": [
      {
       "metadata": {},
       "output_type": "display_data",
       "png": "[encoded data removed]",
       "text": [
        "<matplotlib.figure.Figure at 0x24b7e6450>"
       ]
      }
     ],
     "prompt_number": 163
    },
    {
     "cell_type": "code",
     "collapsed": false,
     "input": [
      "df.query('requester_received_pizza == True').evec_diff_noun_0.hist(bins=50,alpha=0.5,label='T',normed=True)\n",
      "df.query('requester_received_pizza == False').evec_diff_noun_0.hist(bins=50,alpha=0.5,label='F',normed=True)\n",
      "plt.legend(loc='upper right')\n",
      "plt.show()"
     ],
     "language": "python",
     "metadata": {},
     "outputs": [
      {
       "metadata": {},
       "output_type": "display_data",
       "png": "[encoded data removed]",
       "text": [
        "<matplotlib.figure.Figure at 0x116160b50>"
       ]
      }
     ],
     "prompt_number": 164
    },
    {
     "cell_type": "code",
     "collapsed": false,
     "input": [
      "df.query('requester_received_pizza == True').evec_true_noun_1.hist(bins=50,alpha=0.5,label='T',normed=True)\n",
      "df.query('requester_received_pizza == False').evec_true_noun_1.hist(bins=50,alpha=0.5,label='F',normed=True)\n",
      "plt.legend(loc='upper right')\n",
      "plt.show()"
     ],
     "language": "python",
     "metadata": {},
     "outputs": [
      {
       "metadata": {},
       "output_type": "display_data",
       "png": "[encoded data removed]",
       "text": [
        "<matplotlib.figure.Figure at 0x1150cbcd0>"
       ]
      }
     ],
     "prompt_number": 165
    },
    {
     "cell_type": "code",
     "collapsed": false,
     "input": [
      "df.query('requester_received_pizza == True').evec_true_noun_2.hist(bins=50,alpha=0.5,label='T',normed=True)\n",
      "df.query('requester_received_pizza == False').evec_true_noun_2.hist(bins=50,alpha=0.5,label='F',normed=True)\n",
      "plt.legend(loc='upper right')\n",
      "plt.show()"
     ],
     "language": "python",
     "metadata": {},
     "outputs": [
      {
       "metadata": {},
       "output_type": "display_data",
       "png": "[encoded data removed]",
       "text": [
        "<matplotlib.figure.Figure at 0x115f1dc50>"
       ]
      }
     ],
     "prompt_number": 166
    },
    {
     "cell_type": "code",
     "collapsed": false,
     "input": [
      "df.query('requester_received_pizza == True').evec_true_noun_9.hist(bins=50,alpha=0.5,label='T',normed=True)\n",
      "df.query('requester_received_pizza == False').evec_true_noun_9.hist(bins=50,alpha=0.5,label='F',normed=True)\n",
      "plt.legend(loc='upper right')\n",
      "plt.show()"
     ],
     "language": "python",
     "metadata": {},
     "outputs": [
      {
       "metadata": {},
       "output_type": "display_data",
       "png": "[encoded data removed]",
       "text": [
        "<matplotlib.figure.Figure at 0x115d72f90>"
       ]
      }
     ],
     "prompt_number": 167
    },
    {
     "cell_type": "code",
     "collapsed": false,
     "input": [
      "df.total_text[4027]"
     ],
     "language": "python",
     "metadata": {},
     "outputs": [
      {
       "metadata": {},
       "output_type": "pyout",
       "prompt_number": 168,
       "text": [
        "u' Quebec, Canada.\\nWe want to chill with pizza, but out of dosh. '"
       ]
      }
     ],
     "prompt_number": 168
    },
    {
     "cell_type": "code",
     "collapsed": false,
     "input": [
      "getVerbProjection(df.total_text[4027],diffVectorsV,model)"
     ],
     "language": "python",
     "metadata": {},
     "outputs": [
      {
       "metadata": {},
       "output_type": "pyout",
       "prompt_number": 169,
       "text": [
        "array([-1.4085, -0.2873, -0.3163,  0.6049,  0.2258, -0.1665, -0.0806,\n",
        "        0.0516, -0.634 ,  0.0676,  0.0715,  0.4763, -0.1987,  0.3918,\n",
        "       -0.1909,  0.3894, -0.0708,  0.2849,  0.2965,  0.2225])"
       ]
      }
     ],
     "prompt_number": 169
    },
    {
     "cell_type": "code",
     "collapsed": false,
     "input": [
      "rToken = nltk.word_tokenize(df.total_text[4027][3:])\n",
      "rToken[:] = [x for x in rToken if x in model.vocab]\n",
      "tPOS = nltk.pos_tag(rToken)\n",
      "verbs = [x[0] for x in tPOS if 'NN' in x[1]]\n",
      "print verbs"
     ],
     "language": "python",
     "metadata": {},
     "outputs": [
      {
       "output_type": "stream",
       "stream": "stdout",
       "text": [
        "[u'Canada', u'We', u'chill', u'pizza']\n"
       ]
      }
     ],
     "prompt_number": 170
    },
    {
     "cell_type": "code",
     "collapsed": false,
     "input": [],
     "language": "python",
     "metadata": {},
     "outputs": [],
     "prompt_number": 170
    },
    {
     "cell_type": "code",
     "collapsed": false,
     "input": [
      "df.evec_false_noun_9;"
     ],
     "language": "python",
     "metadata": {},
     "outputs": [],
     "prompt_number": 171
    },
    {
     "cell_type": "code",
     "collapsed": false,
     "input": [
      "rToken = nltk.word_tokenize(df.total_text[4027][0:])\n",
      "rToken[:] = [x for x in rToken if x in model.vocab]\n",
      "tPOS = nltk.pos_tag(rToken)\n",
      "nouns = [x[0] for x in tPOS if 'NN' in x[1]]\n",
      "nouns"
     ],
     "language": "python",
     "metadata": {},
     "outputs": [
      {
       "metadata": {},
       "output_type": "pyout",
       "prompt_number": 172,
       "text": [
        "[u'Quebec', u'Canada', u'We', u'chill', u'pizza']"
       ]
      }
     ],
     "prompt_number": 172
    },
    {
     "cell_type": "code",
     "collapsed": false,
     "input": [
      "getNounProjection(df.total_text[4027],falseVectorsN[:,9],model)"
     ],
     "language": "python",
     "metadata": {},
     "outputs": [
      {
       "metadata": {},
       "output_type": "pyout",
       "prompt_number": 173,
       "text": [
        "0.52101969392276826"
       ]
      }
     ],
     "prompt_number": 173
    },
    {
     "cell_type": "code",
     "collapsed": false,
     "input": [
      "getNounProjection(df.total_text[4027],falseVectorsN[:,9],model)"
     ],
     "language": "python",
     "metadata": {},
     "outputs": [
      {
       "metadata": {},
       "output_type": "pyout",
       "prompt_number": 174,
       "text": [
        "0.52101969392276826"
       ]
      }
     ],
     "prompt_number": 174
    },
    {
     "cell_type": "code",
     "collapsed": false,
     "input": [
      "trueDF = df.query('requester_received_pizza == True');\n",
      "falseDF = df.query('requester_received_pizza == False')"
     ],
     "language": "python",
     "metadata": {},
     "outputs": [],
     "prompt_number": 175
    },
    {
     "cell_type": "code",
     "collapsed": false,
     "input": [
      "trueDF.mean()[14:];"
     ],
     "language": "python",
     "metadata": {},
     "outputs": [],
     "prompt_number": 176
    },
    {
     "cell_type": "code",
     "collapsed": false,
     "input": [
      "trueDF.mean()[14:]-falseDF.mean()[14:];"
     ],
     "language": "python",
     "metadata": {},
     "outputs": [],
     "prompt_number": 177
    },
    {
     "cell_type": "code",
     "collapsed": false,
     "input": [],
     "language": "python",
     "metadata": {},
     "outputs": [],
     "prompt_number": 177
    },
    {
     "cell_type": "code",
     "collapsed": false,
     "input": [
      "df.drop([u'total_text'],axis=1,inplace=True)"
     ],
     "language": "python",
     "metadata": {},
     "outputs": [
      {
       "ename": "ValueError",
       "evalue": "labels [u'total_text'] not contained in axis",
       "output_type": "pyerr",
       "traceback": [
        "\u001b[0;31m---------------------------------------------------------------------------\u001b[0m\n\u001b[0;31mValueError\u001b[0m                                Traceback (most recent call last)",
        "\u001b[0;32m<ipython-input-220-58164f775235>\u001b[0m in \u001b[0;36m<module>\u001b[0;34m()\u001b[0m\n\u001b[0;32m----> 1\u001b[0;31m \u001b[0mdf\u001b[0m\u001b[0;34m.\u001b[0m\u001b[0mdrop\u001b[0m\u001b[0;34m(\u001b[0m\u001b[0;34m[\u001b[0m\u001b[0;34mu'total_text'\u001b[0m\u001b[0;34m]\u001b[0m\u001b[0;34m,\u001b[0m\u001b[0maxis\u001b[0m\u001b[0;34m=\u001b[0m\u001b[0;36m1\u001b[0m\u001b[0;34m,\u001b[0m\u001b[0minplace\u001b[0m\u001b[0;34m=\u001b[0m\u001b[0mTrue\u001b[0m\u001b[0;34m)\u001b[0m\u001b[0;34m\u001b[0m\u001b[0m\n\u001b[0m",
        "\u001b[0;32m/opt/local/Library/Frameworks/Python.framework/Versions/2.7/lib/python2.7/site-packages/pandas/core/generic.pyc\u001b[0m in \u001b[0;36mdrop\u001b[0;34m(self, labels, axis, level, inplace, **kwargs)\u001b[0m\n\u001b[1;32m   1462\u001b[0m                 \u001b[0mnew_axis\u001b[0m \u001b[0;34m=\u001b[0m \u001b[0maxis\u001b[0m\u001b[0;34m.\u001b[0m\u001b[0mdrop\u001b[0m\u001b[0;34m(\u001b[0m\u001b[0mlabels\u001b[0m\u001b[0;34m,\u001b[0m \u001b[0mlevel\u001b[0m\u001b[0;34m=\u001b[0m\u001b[0mlevel\u001b[0m\u001b[0;34m)\u001b[0m\u001b[0;34m\u001b[0m\u001b[0m\n\u001b[1;32m   1463\u001b[0m             \u001b[0;32melse\u001b[0m\u001b[0;34m:\u001b[0m\u001b[0;34m\u001b[0m\u001b[0m\n\u001b[0;32m-> 1464\u001b[0;31m                 \u001b[0mnew_axis\u001b[0m \u001b[0;34m=\u001b[0m \u001b[0maxis\u001b[0m\u001b[0;34m.\u001b[0m\u001b[0mdrop\u001b[0m\u001b[0;34m(\u001b[0m\u001b[0mlabels\u001b[0m\u001b[0;34m)\u001b[0m\u001b[0;34m\u001b[0m\u001b[0m\n\u001b[0m\u001b[1;32m   1465\u001b[0m             \u001b[0mdropped\u001b[0m \u001b[0;34m=\u001b[0m \u001b[0mself\u001b[0m\u001b[0;34m.\u001b[0m\u001b[0mreindex\u001b[0m\u001b[0;34m(\u001b[0m\u001b[0;34m**\u001b[0m\u001b[0;34m{\u001b[0m\u001b[0maxis_name\u001b[0m\u001b[0;34m:\u001b[0m \u001b[0mnew_axis\u001b[0m\u001b[0;34m}\u001b[0m\u001b[0;34m)\u001b[0m\u001b[0;34m\u001b[0m\u001b[0m\n\u001b[1;32m   1466\u001b[0m             \u001b[0;32mtry\u001b[0m\u001b[0;34m:\u001b[0m\u001b[0;34m\u001b[0m\u001b[0m\n",
        "\u001b[0;32m/opt/local/Library/Frameworks/Python.framework/Versions/2.7/lib/python2.7/site-packages/pandas/core/index.pyc\u001b[0m in \u001b[0;36mdrop\u001b[0;34m(self, labels)\u001b[0m\n\u001b[1;32m   1829\u001b[0m         \u001b[0mmask\u001b[0m \u001b[0;34m=\u001b[0m \u001b[0mindexer\u001b[0m \u001b[0;34m==\u001b[0m \u001b[0;34m-\u001b[0m\u001b[0;36m1\u001b[0m\u001b[0;34m\u001b[0m\u001b[0m\n\u001b[1;32m   1830\u001b[0m         \u001b[0;32mif\u001b[0m \u001b[0mmask\u001b[0m\u001b[0;34m.\u001b[0m\u001b[0many\u001b[0m\u001b[0;34m(\u001b[0m\u001b[0;34m)\u001b[0m\u001b[0;34m:\u001b[0m\u001b[0;34m\u001b[0m\u001b[0m\n\u001b[0;32m-> 1831\u001b[0;31m             \u001b[0;32mraise\u001b[0m \u001b[0mValueError\u001b[0m\u001b[0;34m(\u001b[0m\u001b[0;34m'labels %s not contained in axis'\u001b[0m \u001b[0;34m%\u001b[0m \u001b[0mlabels\u001b[0m\u001b[0;34m[\u001b[0m\u001b[0mmask\u001b[0m\u001b[0;34m]\u001b[0m\u001b[0;34m)\u001b[0m\u001b[0;34m\u001b[0m\u001b[0m\n\u001b[0m\u001b[1;32m   1832\u001b[0m         \u001b[0;32mreturn\u001b[0m \u001b[0mself\u001b[0m\u001b[0;34m.\u001b[0m\u001b[0mdelete\u001b[0m\u001b[0;34m(\u001b[0m\u001b[0mindexer\u001b[0m\u001b[0;34m)\u001b[0m\u001b[0;34m\u001b[0m\u001b[0m\n\u001b[1;32m   1833\u001b[0m \u001b[0;34m\u001b[0m\u001b[0m\n",
        "\u001b[0;31mValueError\u001b[0m: labels [u'total_text'] not contained in axis"
       ]
      }
     ],
     "prompt_number": 220
    },
    {
     "cell_type": "code",
     "collapsed": false,
     "input": [
      "X_train,y_train = getNumericTraining(df);"
     ],
     "language": "python",
     "metadata": {},
     "outputs": [],
     "prompt_number": 179
    },
    {
     "cell_type": "code",
     "collapsed": false,
     "input": [
      "scaling = sk.preprocessing.StandardScaler()\n",
      "X_train = scaling.fit_transform(X_train)"
     ],
     "language": "python",
     "metadata": {},
     "outputs": [],
     "prompt_number": 180
    },
    {
     "cell_type": "code",
     "collapsed": false,
     "input": [
      "pizzaLog = sk.linear_model.LogisticRegression(penalty='l2',C=0.00001)\n",
      "scores = cross_validation.cross_val_score(pizzaLog, X_train, y_train, cv=10,scoring='f1')\n",
      "pizzaLog.fit(X_train,y_train)\n",
      "print(\"Accuracy: %0.2f (+/- %0.2f)\" % (scores.mean(), scores.std() * 2))"
     ],
     "language": "python",
     "metadata": {},
     "outputs": [
      {
       "output_type": "stream",
       "stream": "stdout",
       "text": [
        "Accuracy: 0.39 (+/- 0.06)\n"
       ]
      }
     ],
     "prompt_number": 181
    },
    {
     "cell_type": "code",
     "collapsed": false,
     "input": [
      "pizzaTree = sk.ensemble.RandomForestClassifier(n_estimators = 5)\n",
      "scores = cross_validation.cross_val_score(pizzaTree, X_train, y_train, cv=10,scoring='f1')\n",
      "pizzaTree.fit(X_train,y_train)\n",
      "print(\"Accuracy: %0.2f (+/- %0.2f)\" % (scores.mean(), scores.std() * 2))"
     ],
     "language": "python",
     "metadata": {},
     "outputs": [
      {
       "output_type": "stream",
       "stream": "stdout",
       "text": [
        "Accuracy: 0.22 (+/- 0.09)\n"
       ]
      }
     ],
     "prompt_number": 182
    },
    {
     "cell_type": "code",
     "collapsed": false,
     "input": [
      "pizzaTree = sk.ensemble.RandomForestClassifier(n_estimators = 5)\n",
      "scores = cross_validation.cross_val_score(pizzaTree, X_train, y_train, cv=10,scoring='accuracy')\n",
      "pizzaTree.fit(X_train,y_train)\n",
      "print(\"Accuracy: %0.2f (+/- %0.2f)\" % (scores.mean(), scores.std() * 2))"
     ],
     "language": "python",
     "metadata": {},
     "outputs": [
      {
       "output_type": "stream",
       "stream": "stdout",
       "text": [
        "Accuracy: 0.70 (+/- 0.04)\n"
       ]
      }
     ],
     "prompt_number": 183
    },
    {
     "cell_type": "code",
     "collapsed": false,
     "input": [
      "predicted = pizzaLog.predict(X_train)\n",
      "print(sk.metrics.confusion_matrix(y_train, predicted))\n",
      "print(sk.metrics.classification_report(y_train, predicted))"
     ],
     "language": "python",
     "metadata": {},
     "outputs": [
      {
       "output_type": "stream",
       "stream": "stdout",
       "text": [
        "[[2030 1016]\n",
        " [ 502  492]]\n",
        "             precision    recall  f1-score   support\n",
        "\n",
        "          0       0.80      0.67      0.73      3046\n",
        "          1       0.33      0.49      0.39       994\n",
        "\n",
        "avg / total       0.68      0.62      0.65      4040\n",
        "\n"
       ]
      }
     ],
     "prompt_number": 184
    },
    {
     "cell_type": "code",
     "collapsed": false,
     "input": [
      "predicted = pizzaTree.predict(X_train)\n",
      "print(sk.metrics.confusion_matrix(y_train, predicted))\n",
      "print(sk.metrics.classification_report(y_train, predicted))"
     ],
     "language": "python",
     "metadata": {},
     "outputs": [
      {
       "output_type": "stream",
       "stream": "stdout",
       "text": [
        "[[3020   26]\n",
        " [ 108  886]]\n",
        "             precision    recall  f1-score   support\n",
        "\n",
        "          0       0.97      0.99      0.98      3046\n",
        "          1       0.97      0.89      0.93       994\n",
        "\n",
        "avg / total       0.97      0.97      0.97      4040\n",
        "\n"
       ]
      }
     ],
     "prompt_number": 185
    },
    {
     "cell_type": "code",
     "collapsed": false,
     "input": [],
     "language": "python",
     "metadata": {},
     "outputs": [],
     "prompt_number": 185
    },
    {
     "cell_type": "code",
     "collapsed": false,
     "input": [
      "#theWords = df.total_text[399]\n",
      "#theWords = \"I am ever so incredibly, personally sorry for the troublesome trouble I happened to cause you my honorable wonderful friend.\"\n",
      "theWords = \"The bombing campaign, which has received logistical and intelligence support from the United States, has drawn intense criticism for causing civilian deaths and for appearing to be detached from a broad military strategy.\"\n",
      "print theWords\n",
      "rToken = nltk.word_tokenize(theWords)\n",
      "rToken[:] = [x for x in rToken if x in model.vocab]\n",
      "tPOS = nltk.pos_tag(rToken)\n",
      "print tPOS\n",
      "#nouns = [x[0] for x in tPOS if ('NN' in x[1]) or ('JJ' in x[1]) or ('PRP' in x[1])]\n",
      "nouns = [x[0] for x in tPOS if ('NN' in x[1]) or ('JJ' in x[1])]\n",
      "print nouns\n",
      "listdf = []\n",
      "for word in nouns:\n",
      "    listdf.append(model[word])\n",
      "arraydf=(np.vstack(listdf)).T\n",
      "verbs = [x[0] for x in tPOS if ('VB' in x[1]) or ('RB' in x[1])]\n",
      "listdfV = []\n",
      "for word in verbs:\n",
      "    listdfV.append(model[word])\n",
      "arraydfV=(np.vstack(listdfV)).T"
     ],
     "language": "python",
     "metadata": {},
     "outputs": [
      {
       "output_type": "stream",
       "stream": "stdout",
       "text": [
        "The bombing campaign, which has received logistical and intelligence support from the United States, has drawn intense criticism for causing civilian deaths and for appearing to be detached from a broad military strategy.\n",
        "[('The', 'DT'), ('bombing', 'NN'), ('campaign', 'NN'), ('which', 'WDT'), ('has', 'VBZ'), ('received', 'VBN'), ('logistical', 'JJ'), ('intelligence', 'NN'), ('support', 'NN'), ('from', 'IN'), ('the', 'DT'), ('United', 'NNP'), ('States', 'NNPS'), ('has', 'VBZ'), ('drawn', 'VBN'), ('intense', 'NN'), ('criticism', 'NN'), ('for', 'IN'), ('causing', 'VBG'), ('civilian', 'JJ'), ('deaths', 'NNS'), ('for', 'IN'), ('appearing', 'VBG'), ('be', 'VB'), ('detached', 'VBN'), ('from', 'IN'), ('broad', 'JJ'), ('military', 'JJ'), ('strategy', 'NN')]\n",
        "['bombing', 'campaign', 'logistical', 'intelligence', 'support', 'United', 'States', 'intense', 'criticism', 'civilian', 'deaths', 'broad', 'military', 'strategy']\n"
       ]
      }
     ],
     "prompt_number": 186
    },
    {
     "cell_type": "code",
     "collapsed": false,
     "input": [
      "(uTest,sTest,vTest) = np.linalg.svd(arraydf,full_matrices=False)\n",
      "(uTestV,sTestV,vTestV) = np.linalg.svd(arraydfV,full_matrices=False)\n",
      "sTestV[0:10]"
     ],
     "language": "python",
     "metadata": {},
     "outputs": [
      {
       "metadata": {},
       "output_type": "pyout",
       "prompt_number": 187,
       "text": [
        "array([  1.5029e+00,   1.1595e+00,   1.0522e+00,   9.8685e-01,\n",
        "         9.6188e-01,   8.5195e-01,   8.1544e-01,   1.2172e-16], dtype=float32)"
       ]
      }
     ],
     "prompt_number": 187
    },
    {
     "cell_type": "code",
     "collapsed": false,
     "input": [
      "for vec in uTest[:,0:10].T:\n",
      "    print model.most_similar([vec],topn=2)\n",
      "for vec in uTestV[:,0:5].T:\n",
      "    print model.most_similar([vec],topn=2)"
     ],
     "language": "python",
     "metadata": {},
     "outputs": [
      {
       "output_type": "stream",
       "stream": "stdout",
       "text": [
        "[(u'mso_para_margin_0in', 0.5146527290344238), (u'Ky.Busch_##-###', 0.5109372138977051)]\n",
        "[(u'civilian', 0.49934741854667664), (u'military', 0.39523017406463623)]"
       ]
      },
      {
       "output_type": "stream",
       "stream": "stdout",
       "text": [
        "\n",
        "[(u'logistical', 0.4278486967086792), (u'States', 0.4269605278968811)]"
       ]
      },
      {
       "output_type": "stream",
       "stream": "stdout",
       "text": [
        "\n",
        "[(u'United', 0.5970684289932251), (u'campaign', 0.45811277627944946)]"
       ]
      },
      {
       "output_type": "stream",
       "stream": "stdout",
       "text": [
        "\n",
        "[(u'States', 0.43712568283081055), (u'deaths', 0.40330907702445984)]"
       ]
      },
      {
       "output_type": "stream",
       "stream": "stdout",
       "text": [
        "\n",
        "[(u'States', 0.478193998336792), (u'strategies', 0.344546377658844)]"
       ]
      },
      {
       "output_type": "stream",
       "stream": "stdout",
       "text": [
        "\n",
        "[(u'United', 0.5514343976974487), (u'Corp._UTX', 0.3357420563697815)]"
       ]
      },
      {
       "output_type": "stream",
       "stream": "stdout",
       "text": [
        "\n",
        "[(u'broad', 0.410065621137619), (u'United', 0.36364927887916565)]"
       ]
      },
      {
       "output_type": "stream",
       "stream": "stdout",
       "text": [
        "\n",
        "[(u'broadly', 0.3361702561378479), (u'reactive_neutralizing_antibodies', 0.3252655863761902)]"
       ]
      },
      {
       "output_type": "stream",
       "stream": "stdout",
       "text": [
        "\n",
        "[(u'civilian', 0.3437976837158203), (u'campaign', 0.3019672930240631)]"
       ]
      },
      {
       "output_type": "stream",
       "stream": "stdout",
       "text": [
        "\n",
        "[(u'has', 0.9340020418167114), (u'had', 0.6800509691238403)]"
       ]
      },
      {
       "output_type": "stream",
       "stream": "stdout",
       "text": [
        "\n",
        "[(u'has', 0.2879787087440491), (u'DR_PETER', 0.2589384913444519)]"
       ]
      },
      {
       "output_type": "stream",
       "stream": "stdout",
       "text": [
        "\n",
        "[(u'causing', 0.616122841835022), (u'appearing', 0.4935202896595001)]"
       ]
      },
      {
       "output_type": "stream",
       "stream": "stdout",
       "text": [
        "\n",
        "[(u'causing', 0.37570512294769287), (u'received', 0.3682025074958801)]"
       ]
      },
      {
       "output_type": "stream",
       "stream": "stdout",
       "text": [
        "\n",
        "[(u'be', 0.5029987692832947), (u'appearing', 0.5024197101593018)]"
       ]
      },
      {
       "output_type": "stream",
       "stream": "stdout",
       "text": [
        "\n"
       ]
      }
     ],
     "prompt_number": 188
    },
    {
     "cell_type": "code",
     "collapsed": false,
     "input": [],
     "language": "python",
     "metadata": {},
     "outputs": [],
     "prompt_number": 188
    },
    {
     "cell_type": "code",
     "collapsed": false,
     "input": [],
     "language": "python",
     "metadata": {},
     "outputs": [],
     "prompt_number": 188
    },
    {
     "cell_type": "code",
     "collapsed": false,
     "input": [],
     "language": "python",
     "metadata": {},
     "outputs": [],
     "prompt_number": 188
    },
    {
     "cell_type": "code",
     "collapsed": false,
     "input": [
      "#del model"
     ],
     "language": "python",
     "metadata": {},
     "outputs": [],
     "prompt_number": 190
    },
    {
     "cell_type": "code",
     "collapsed": false,
     "input": [
      "#testdf.info()"
     ],
     "language": "python",
     "metadata": {},
     "outputs": [],
     "prompt_number": 225
    },
    {
     "cell_type": "code",
     "collapsed": false,
     "input": [
      "#df[2108:2112]"
     ],
     "language": "python",
     "metadata": {},
     "outputs": [],
     "prompt_number": 227
    },
    {
     "cell_type": "code",
     "collapsed": false,
     "input": [],
     "language": "python",
     "metadata": {},
     "outputs": []
    }
   ],
   "metadata": {}
  }
 ]
}