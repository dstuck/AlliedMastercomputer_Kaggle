{
 "metadata": {
  "name": "",
  "signature": "sha256:79b723dfc5ab7d7c4dab26b369965e77faffbd7b17062d35a846e4cba06f2bd2"
 },
 "nbformat": 3,
 "nbformat_minor": 0,
 "worksheets": [
  {
   "cells": [
    {
     "cell_type": "code",
     "collapsed": false,
     "input": [
      "from PizzaManager import *\n",
      "#import csv\n",
      "%matplotlib inline\n",
      "#import sklearn as sk"
     ],
     "language": "python",
     "metadata": {},
     "outputs": [],
     "prompt_number": 20
    },
    {
     "cell_type": "code",
     "collapsed": false,
     "input": [
      "df = pd.read_json('train.json')"
     ],
     "language": "python",
     "metadata": {},
     "outputs": [],
     "prompt_number": 21
    },
    {
     "cell_type": "code",
     "collapsed": false,
     "input": [
      "df.info()"
     ],
     "language": "python",
     "metadata": {},
     "outputs": [
      {
       "output_type": "stream",
       "stream": "stdout",
       "text": [
        "<class 'pandas.core.frame.DataFrame'>\n",
        "Int64Index: 4040 entries, 0 to 4039\n",
        "Data columns (total 32 columns):\n",
        "giver_username_if_known                                 4040 non-null object\n",
        "number_of_downvotes_of_request_at_retrieval             4040 non-null int64\n",
        "number_of_upvotes_of_request_at_retrieval               4040 non-null int64\n",
        "post_was_edited                                         4040 non-null int64\n",
        "request_id                                              4040 non-null object\n",
        "request_number_of_comments_at_retrieval                 4040 non-null int64\n",
        "request_text                                            4040 non-null object\n",
        "request_text_edit_aware                                 4040 non-null object\n",
        "request_title                                           4040 non-null object\n",
        "requester_account_age_in_days_at_request                4040 non-null float64\n",
        "requester_account_age_in_days_at_retrieval              4040 non-null float64\n",
        "requester_days_since_first_post_on_raop_at_request      4040 non-null float64\n",
        "requester_days_since_first_post_on_raop_at_retrieval    4040 non-null float64\n",
        "requester_number_of_comments_at_request                 4040 non-null int64\n",
        "requester_number_of_comments_at_retrieval               4040 non-null int64\n",
        "requester_number_of_comments_in_raop_at_request         4040 non-null int64\n",
        "requester_number_of_comments_in_raop_at_retrieval       4040 non-null int64\n",
        "requester_number_of_posts_at_request                    4040 non-null int64\n",
        "requester_number_of_posts_at_retrieval                  4040 non-null int64\n",
        "requester_number_of_posts_on_raop_at_request            4040 non-null int64\n",
        "requester_number_of_posts_on_raop_at_retrieval          4040 non-null int64\n",
        "requester_number_of_subreddits_at_request               4040 non-null int64\n",
        "requester_received_pizza                                4040 non-null bool\n",
        "requester_subreddits_at_request                         4040 non-null object\n",
        "requester_upvotes_minus_downvotes_at_request            4040 non-null int64\n",
        "requester_upvotes_minus_downvotes_at_retrieval          4040 non-null int64\n",
        "requester_upvotes_plus_downvotes_at_request             4040 non-null int64\n",
        "requester_upvotes_plus_downvotes_at_retrieval           4040 non-null int64\n",
        "requester_user_flair                                    994 non-null object\n",
        "requester_username                                      4040 non-null object\n",
        "unix_timestamp_of_request                               4040 non-null int64\n",
        "unix_timestamp_of_request_utc                           4040 non-null int64\n",
        "dtypes: bool(1), float64(4), int64(19), object(8)"
       ]
      }
     ],
     "prompt_number": 22
    },
    {
     "cell_type": "code",
     "collapsed": false,
     "input": [
      "removeList = list(df.columns[map((lambda x:'at_retrieval' in x),df.columns)])\n",
      "removeList.append(u'giver_username_if_known')\n",
      "removeList.append(u'post_was_edited')\n",
      "removeList.append(u'requester_user_flair')\n",
      "removeList.append(u'request_text')\n",
      "removeList"
     ],
     "language": "python",
     "metadata": {},
     "outputs": [
      {
       "metadata": {},
       "output_type": "pyout",
       "prompt_number": 23,
       "text": [
        "[u'number_of_downvotes_of_request_at_retrieval',\n",
        " u'number_of_upvotes_of_request_at_retrieval',\n",
        " u'request_number_of_comments_at_retrieval',\n",
        " u'requester_account_age_in_days_at_retrieval',\n",
        " u'requester_days_since_first_post_on_raop_at_retrieval',\n",
        " u'requester_number_of_comments_at_retrieval',\n",
        " u'requester_number_of_comments_in_raop_at_retrieval',\n",
        " u'requester_number_of_posts_at_retrieval',\n",
        " u'requester_number_of_posts_on_raop_at_retrieval',\n",
        " u'requester_upvotes_minus_downvotes_at_retrieval',\n",
        " u'requester_upvotes_plus_downvotes_at_retrieval',\n",
        " u'giver_username_if_known',\n",
        " u'post_was_edited',\n",
        " u'requester_user_flair',\n",
        " u'request_text']"
       ]
      }
     ],
     "prompt_number": 23
    },
    {
     "cell_type": "code",
     "collapsed": false,
     "input": [
      "df.drop(removeList,axis=1,inplace=True)"
     ],
     "language": "python",
     "metadata": {},
     "outputs": [],
     "prompt_number": 24
    },
    {
     "cell_type": "code",
     "collapsed": false,
     "input": [
      "df.info()"
     ],
     "language": "python",
     "metadata": {},
     "outputs": [
      {
       "output_type": "stream",
       "stream": "stdout",
       "text": [
        "<class 'pandas.core.frame.DataFrame'>\n",
        "Int64Index: 4040 entries, 0 to 4039\n",
        "Data columns (total 17 columns):\n",
        "request_id                                            4040 non-null object\n",
        "request_text_edit_aware                               4040 non-null object\n",
        "request_title                                         4040 non-null object\n",
        "requester_account_age_in_days_at_request              4040 non-null float64\n",
        "requester_days_since_first_post_on_raop_at_request    4040 non-null float64\n",
        "requester_number_of_comments_at_request               4040 non-null int64\n",
        "requester_number_of_comments_in_raop_at_request       4040 non-null int64\n",
        "requester_number_of_posts_at_request                  4040 non-null int64\n",
        "requester_number_of_posts_on_raop_at_request          4040 non-null int64\n",
        "requester_number_of_subreddits_at_request             4040 non-null int64\n",
        "requester_received_pizza                              4040 non-null bool\n",
        "requester_subreddits_at_request                       4040 non-null object\n",
        "requester_upvotes_minus_downvotes_at_request          4040 non-null int64\n",
        "requester_upvotes_plus_downvotes_at_request           4040 non-null int64\n",
        "requester_username                                    4040 non-null object\n",
        "unix_timestamp_of_request                             4040 non-null int64\n",
        "unix_timestamp_of_request_utc                         4040 non-null int64\n",
        "dtypes: bool(1), float64(2), int64(9), object(5)"
       ]
      }
     ],
     "prompt_number": 25
    },
    {
     "cell_type": "code",
     "collapsed": false,
     "input": [
      "#pd.isnull(df['requester_user_flair'][0])"
     ],
     "language": "python",
     "metadata": {},
     "outputs": [],
     "prompt_number": 26
    },
    {
     "cell_type": "code",
     "collapsed": false,
     "input": [
      "#df[['requester_account_age_in_days_at_request','requester_account_age_in_days_at_retrieval']][0:10]"
     ],
     "language": "python",
     "metadata": {},
     "outputs": [],
     "prompt_number": 27
    },
    {
     "cell_type": "code",
     "collapsed": false,
     "input": [
      "#df[['requester_user_flair','requester_received_pizza']]"
     ],
     "language": "python",
     "metadata": {},
     "outputs": [],
     "prompt_number": 28
    },
    {
     "cell_type": "code",
     "collapsed": false,
     "input": [],
     "language": "python",
     "metadata": {},
     "outputs": [],
     "prompt_number": 28
    },
    {
     "cell_type": "code",
     "collapsed": false,
     "input": [
      "testdf = pd.read_json('test.json') "
     ],
     "language": "python",
     "metadata": {},
     "outputs": [],
     "prompt_number": 29
    },
    {
     "cell_type": "code",
     "collapsed": false,
     "input": [],
     "language": "python",
     "metadata": {},
     "outputs": [],
     "prompt_number": 29
    },
    {
     "cell_type": "code",
     "collapsed": false,
     "input": [],
     "language": "python",
     "metadata": {},
     "outputs": [],
     "prompt_number": 29
    },
    {
     "cell_type": "code",
     "collapsed": false,
     "input": [
      "testdf.info()\n",
      "df.info()"
     ],
     "language": "python",
     "metadata": {},
     "outputs": [
      {
       "output_type": "stream",
       "stream": "stdout",
       "text": [
        "<class 'pandas.core.frame.DataFrame'>\n",
        "Int64Index: 1631 entries, 0 to 1630\n",
        "Data columns (total 17 columns):\n",
        "giver_username_if_known                               1631 non-null object\n",
        "request_id                                            1631 non-null object\n",
        "request_text_edit_aware                               1631 non-null object\n",
        "request_title                                         1631 non-null object\n",
        "requester_account_age_in_days_at_request              1631 non-null float64\n",
        "requester_days_since_first_post_on_raop_at_request    1631 non-null float64\n",
        "requester_number_of_comments_at_request               1631 non-null int64\n",
        "requester_number_of_comments_in_raop_at_request       1631 non-null int64\n",
        "requester_number_of_posts_at_request                  1631 non-null int64\n",
        "requester_number_of_posts_on_raop_at_request          1631 non-null int64\n",
        "requester_number_of_subreddits_at_request             1631 non-null int64\n",
        "requester_subreddits_at_request                       1631 non-null object\n",
        "requester_upvotes_minus_downvotes_at_request          1631 non-null int64\n",
        "requester_upvotes_plus_downvotes_at_request           1631 non-null int64\n",
        "requester_username                                    1631 non-null object\n",
        "unix_timestamp_of_request                             1631 non-null int64\n",
        "unix_timestamp_of_request_utc                         1631 non-null int64\n",
        "dtypes: float64(2), int64(9), object(6)<class 'pandas.core.frame.DataFrame'>\n",
        "Int64Index: 4040 entries, 0 to 4039\n",
        "Data columns (total 17 columns):\n",
        "request_id                                            4040 non-null object\n",
        "request_text_edit_aware                               4040 non-null object\n",
        "request_title                                         4040 non-null object\n",
        "requester_account_age_in_days_at_request              4040 non-null float64\n",
        "requester_days_since_first_post_on_raop_at_request    4040 non-null float64\n",
        "requester_number_of_comments_at_request               4040 non-null int64\n",
        "requester_number_of_comments_in_raop_at_request       4040 non-null int64\n",
        "requester_number_of_posts_at_request                  4040 non-null int64\n",
        "requester_number_of_posts_on_raop_at_request          4040 non-null int64\n",
        "requester_number_of_subreddits_at_request             4040 non-null int64\n",
        "requester_received_pizza                              4040 non-null bool\n",
        "requester_subreddits_at_request                       4040 non-null object\n",
        "requester_upvotes_minus_downvotes_at_request          4040 non-null int64\n",
        "requester_upvotes_plus_downvotes_at_request           4040 non-null int64\n",
        "requester_username                                    4040 non-null object\n",
        "unix_timestamp_of_request                             4040 non-null int64\n",
        "unix_timestamp_of_request_utc                         4040 non-null int64\n",
        "dtypes: bool(1), float64(2), int64(9), object(5)"
       ]
      }
     ],
     "prompt_number": 30
    },
    {
     "cell_type": "code",
     "collapsed": false,
     "input": [
      "df.query('requester_received_pizza == True').requester_account_age_in_days_at_request.hist(bins=16,range=(0,2000),alpha=0.5,label='T',normed=True)\n",
      "df.query('requester_received_pizza == False').requester_account_age_in_days_at_request.hist(bins=16,range=(0,2000),alpha=0.5,label='F',normed=True)\n",
      "plt.legend(loc='upper right')\n",
      "plt.show()"
     ],
     "language": "python",
     "metadata": {},
     "outputs": [
      {
       "metadata": {},
       "output_type": "display_data",
       "png": "[encoded data removed]",
       "text": [
        "<matplotlib.figure.Figure at 0x10aeb9a10>"
       ]
      }
     ],
     "prompt_number": 31
    },
    {
     "cell_type": "code",
     "collapsed": false,
     "input": [
      "df.query('requester_received_pizza == True').requester_number_of_posts_on_raop_at_request.hist(bins=16,range=(0,5),alpha=0.5,label='T',normed=True)\n",
      "df.query('requester_received_pizza == False').requester_number_of_posts_on_raop_at_request.hist(bins=16,range=(0,5),alpha=0.5,label='F',normed=True)\n",
      "plt.legend(loc='upper right')\n",
      "plt.show()"
     ],
     "language": "python",
     "metadata": {},
     "outputs": [
      {
       "metadata": {},
       "output_type": "display_data",
       "png": "[encoded data removed]",
       "text": [
        "<matplotlib.figure.Figure at 0x10566dd10>"
       ]
      }
     ],
     "prompt_number": 32
    },
    {
     "cell_type": "code",
     "collapsed": false,
     "input": [
      "df.query('requester_received_pizza == True').requester_number_of_comments_at_request .hist(bins=16,range=(0,1000),alpha=0.5,label='T',normed=True)\n",
      "df.query('requester_received_pizza == False').requester_number_of_comments_at_request .hist(bins=16,range=(0,1000),alpha=0.5,label='F',normed=True)\n",
      "plt.legend(loc='upper right')\n",
      "plt.show()"
     ],
     "language": "python",
     "metadata": {},
     "outputs": [
      {
       "metadata": {},
       "output_type": "display_data",
       "png": "[encoded data removed]",
       "text": [
        "<matplotlib.figure.Figure at 0x10a91b890>"
       ]
      }
     ],
     "prompt_number": 33
    },
    {
     "cell_type": "code",
     "collapsed": false,
     "input": [
      "#string1=df.request_text.loc[6]"
     ],
     "language": "python",
     "metadata": {},
     "outputs": [],
     "prompt_number": 34
    },
    {
     "cell_type": "code",
     "collapsed": false,
     "input": [
      "string2=df.request_text_edit_aware.loc[6]"
     ],
     "language": "python",
     "metadata": {},
     "outputs": [],
     "prompt_number": 35
    },
    {
     "cell_type": "code",
     "collapsed": false,
     "input": [],
     "language": "python",
     "metadata": {},
     "outputs": [],
     "prompt_number": 35
    },
    {
     "cell_type": "code",
     "collapsed": false,
     "input": [
      "#string1==string2"
     ],
     "language": "python",
     "metadata": {},
     "outputs": [],
     "prompt_number": 36
    },
    {
     "cell_type": "code",
     "collapsed": false,
     "input": [
      "#df.loc[84,'request_text']"
     ],
     "language": "python",
     "metadata": {},
     "outputs": [],
     "prompt_number": 37
    },
    {
     "cell_type": "code",
     "collapsed": false,
     "input": [
      "df.loc[84,'request_text_edit_aware']"
     ],
     "language": "python",
     "metadata": {},
     "outputs": [
      {
       "metadata": {},
       "output_type": "pyout",
       "prompt_number": 38,
       "text": [
        "u\"I'm a college grad living in NYC. Interning to keep my feet in the business, freelancing and dog walking when I'm not interning. The money I made this month is just enough to keep a roof over my head and my heat kept on.  I have no food, having eaten down what's left of my pantry over the course of the month. I've had nothing to eat but condiments for the last two days. I woke up this morning with a splitting headache and cramps in my feet. Anything you could give is appreciated! If this doesn't work, I'm going to try begging for food (not money) on the train.  I really don't want it to come to that...\\n\\n*\""
       ]
      }
     ],
     "prompt_number": 38
    },
    {
     "cell_type": "code",
     "collapsed": false,
     "input": [
      "#df.query('request_text != request_text_edit_aware')"
     ],
     "language": "python",
     "metadata": {},
     "outputs": [],
     "prompt_number": 39
    },
    {
     "cell_type": "code",
     "collapsed": false,
     "input": [
      "#type(df.request_text!=df.request_text_edit_aware)"
     ],
     "language": "python",
     "metadata": {},
     "outputs": [],
     "prompt_number": 40
    },
    {
     "cell_type": "code",
     "collapsed": false,
     "input": [
      "#df['post_was_edited'] = df.request_text!=df.request_text_edit_aware"
     ],
     "language": "python",
     "metadata": {},
     "outputs": [],
     "prompt_number": 41
    },
    {
     "cell_type": "code",
     "collapsed": false,
     "input": [
      "#df.post_was_edited;"
     ],
     "language": "python",
     "metadata": {},
     "outputs": [],
     "prompt_number": 42
    },
    {
     "cell_type": "code",
     "collapsed": false,
     "input": [],
     "language": "python",
     "metadata": {},
     "outputs": [],
     "prompt_number": 42
    },
    {
     "cell_type": "code",
     "collapsed": false,
     "input": [
      "pizzadf=df.query('requester_received_pizza == True')\n",
      "nopizzadf=df.query('requester_received_pizza == False')"
     ],
     "language": "python",
     "metadata": {},
     "outputs": [],
     "prompt_number": 43
    },
    {
     "cell_type": "code",
     "collapsed": false,
     "input": [
      "pizzadf.describe()"
     ],
     "language": "python",
     "metadata": {},
     "outputs": [
      {
       "html": [
        "<div style=\"max-height:1000px;max-width:1500px;overflow:auto;\">\n",
        "<table border=\"1\" class=\"dataframe\">\n",
        "  <thead>\n",
        "    <tr style=\"text-align: right;\">\n",
        "      <th></th>\n",
        "      <th>requester_account_age_in_days_at_request</th>\n",
        "      <th>requester_days_since_first_post_on_raop_at_request</th>\n",
        "      <th>requester_number_of_comments_at_request</th>\n",
        "      <th>requester_number_of_comments_in_raop_at_request</th>\n",
        "      <th>requester_number_of_posts_at_request</th>\n",
        "      <th>requester_number_of_posts_on_raop_at_request</th>\n",
        "      <th>requester_number_of_subreddits_at_request</th>\n",
        "      <th>requester_received_pizza</th>\n",
        "      <th>requester_upvotes_minus_downvotes_at_request</th>\n",
        "      <th>requester_upvotes_plus_downvotes_at_request</th>\n",
        "      <th>unix_timestamp_of_request</th>\n",
        "      <th>unix_timestamp_of_request_utc</th>\n",
        "    </tr>\n",
        "  </thead>\n",
        "  <tbody>\n",
        "    <tr>\n",
        "      <th>count</th>\n",
        "      <td>  994.000000</td>\n",
        "      <td> 994.000000</td>\n",
        "      <td> 994.000000</td>\n",
        "      <td> 994.000000</td>\n",
        "      <td> 994.000000</td>\n",
        "      <td> 994.000000</td>\n",
        "      <td> 994.000000</td>\n",
        "      <td>  994</td>\n",
        "      <td>    994.000000</td>\n",
        "      <td>     994.000000</td>\n",
        "      <td> 9.940000e+02</td>\n",
        "      <td> 9.940000e+02</td>\n",
        "    </tr>\n",
        "    <tr>\n",
        "      <th>mean</th>\n",
        "      <td>  276.766844</td>\n",
        "      <td>  28.563757</td>\n",
        "      <td> 126.528169</td>\n",
        "      <td>   1.429577</td>\n",
        "      <td>  23.437626</td>\n",
        "      <td>   0.141851</td>\n",
        "      <td>  19.509054</td>\n",
        "      <td>    1</td>\n",
        "      <td>   1372.060362</td>\n",
        "      <td>    4923.700201</td>\n",
        "      <td> 1.338609e+09</td>\n",
        "      <td> 1.338606e+09</td>\n",
        "    </tr>\n",
        "    <tr>\n",
        "      <th>std</th>\n",
        "      <td>  312.791210</td>\n",
        "      <td>  96.767955</td>\n",
        "      <td> 202.328504</td>\n",
        "      <td>   5.914937</td>\n",
        "      <td>  52.502996</td>\n",
        "      <td>   0.526249</td>\n",
        "      <td>  21.352374</td>\n",
        "      <td>    0</td>\n",
        "      <td>   5419.691555</td>\n",
        "      <td>   42166.366870</td>\n",
        "      <td> 2.317988e+07</td>\n",
        "      <td> 2.317956e+07</td>\n",
        "    </tr>\n",
        "    <tr>\n",
        "      <th>min</th>\n",
        "      <td>    0.000000</td>\n",
        "      <td>   0.000000</td>\n",
        "      <td>   0.000000</td>\n",
        "      <td>   0.000000</td>\n",
        "      <td>   0.000000</td>\n",
        "      <td>   0.000000</td>\n",
        "      <td>   0.000000</td>\n",
        "      <td> True</td>\n",
        "      <td>    -39.000000</td>\n",
        "      <td>       0.000000</td>\n",
        "      <td> 1.306095e+09</td>\n",
        "      <td> 1.306091e+09</td>\n",
        "    </tr>\n",
        "    <tr>\n",
        "      <th>25%</th>\n",
        "      <td>   39.110437</td>\n",
        "      <td>   0.000000</td>\n",
        "      <td>   1.000000</td>\n",
        "      <td>   0.000000</td>\n",
        "      <td>   1.000000</td>\n",
        "      <td>   0.000000</td>\n",
        "      <td>   3.000000</td>\n",
        "      <td>    1</td>\n",
        "      <td>     23.250000</td>\n",
        "      <td>      45.000000</td>\n",
        "      <td> 1.316329e+09</td>\n",
        "      <td> 1.316325e+09</td>\n",
        "    </tr>\n",
        "    <tr>\n",
        "      <th>50%</th>\n",
        "      <td>  179.528218</td>\n",
        "      <td>   0.000000</td>\n",
        "      <td>  35.000000</td>\n",
        "      <td>   0.000000</td>\n",
        "      <td>   6.000000</td>\n",
        "      <td>   0.000000</td>\n",
        "      <td>  13.000000</td>\n",
        "      <td>    1</td>\n",
        "      <td>    285.500000</td>\n",
        "      <td>     562.000000</td>\n",
        "      <td> 1.336384e+09</td>\n",
        "      <td> 1.336381e+09</td>\n",
        "    </tr>\n",
        "    <tr>\n",
        "      <th>75%</th>\n",
        "      <td>  396.927688</td>\n",
        "      <td>   0.000000</td>\n",
        "      <td> 155.000000</td>\n",
        "      <td>   0.000000</td>\n",
        "      <td>  24.000000</td>\n",
        "      <td>   0.000000</td>\n",
        "      <td>  28.000000</td>\n",
        "      <td>    1</td>\n",
        "      <td>   1382.750000</td>\n",
        "      <td>    2937.250000</td>\n",
        "      <td> 1.359247e+09</td>\n",
        "      <td> 1.359247e+09</td>\n",
        "    </tr>\n",
        "    <tr>\n",
        "      <th>max</th>\n",
        "      <td> 2124.362650</td>\n",
        "      <td> 785.457685</td>\n",
        "      <td> 990.000000</td>\n",
        "      <td>  88.000000</td>\n",
        "      <td> 627.000000</td>\n",
        "      <td>   5.000000</td>\n",
        "      <td> 128.000000</td>\n",
        "      <td> True</td>\n",
        "      <td> 155010.000000</td>\n",
        "      <td> 1286864.000000</td>\n",
        "      <td> 1.381297e+09</td>\n",
        "      <td> 1.381268e+09</td>\n",
        "    </tr>\n",
        "  </tbody>\n",
        "</table>\n",
        "</div>"
       ],
       "metadata": {},
       "output_type": "pyout",
       "prompt_number": 44,
       "text": [
        "       requester_account_age_in_days_at_request  \\\n",
        "count                                994.000000   \n",
        "mean                                 276.766844   \n",
        "std                                  312.791210   \n",
        "min                                    0.000000   \n",
        "25%                                   39.110437   \n",
        "50%                                  179.528218   \n",
        "75%                                  396.927688   \n",
        "max                                 2124.362650   \n",
        "\n",
        "       requester_days_since_first_post_on_raop_at_request  \\\n",
        "count                                         994.000000    \n",
        "mean                                           28.563757    \n",
        "std                                            96.767955    \n",
        "min                                             0.000000    \n",
        "25%                                             0.000000    \n",
        "50%                                             0.000000    \n",
        "75%                                             0.000000    \n",
        "max                                           785.457685    \n",
        "\n",
        "       requester_number_of_comments_at_request  \\\n",
        "count                               994.000000   \n",
        "mean                                126.528169   \n",
        "std                                 202.328504   \n",
        "min                                   0.000000   \n",
        "25%                                   1.000000   \n",
        "50%                                  35.000000   \n",
        "75%                                 155.000000   \n",
        "max                                 990.000000   \n",
        "\n",
        "       requester_number_of_comments_in_raop_at_request  \\\n",
        "count                                       994.000000   \n",
        "mean                                          1.429577   \n",
        "std                                           5.914937   \n",
        "min                                           0.000000   \n",
        "25%                                           0.000000   \n",
        "50%                                           0.000000   \n",
        "75%                                           0.000000   \n",
        "max                                          88.000000   \n",
        "\n",
        "       requester_number_of_posts_at_request  \\\n",
        "count                            994.000000   \n",
        "mean                              23.437626   \n",
        "std                               52.502996   \n",
        "min                                0.000000   \n",
        "25%                                1.000000   \n",
        "50%                                6.000000   \n",
        "75%                               24.000000   \n",
        "max                              627.000000   \n",
        "\n",
        "       requester_number_of_posts_on_raop_at_request  \\\n",
        "count                                    994.000000   \n",
        "mean                                       0.141851   \n",
        "std                                        0.526249   \n",
        "min                                        0.000000   \n",
        "25%                                        0.000000   \n",
        "50%                                        0.000000   \n",
        "75%                                        0.000000   \n",
        "max                                        5.000000   \n",
        "\n",
        "       requester_number_of_subreddits_at_request requester_received_pizza  \\\n",
        "count                                 994.000000                      994   \n",
        "mean                                   19.509054                        1   \n",
        "std                                    21.352374                        0   \n",
        "min                                     0.000000                     True   \n",
        "25%                                     3.000000                        1   \n",
        "50%                                    13.000000                        1   \n",
        "75%                                    28.000000                        1   \n",
        "max                                   128.000000                     True   \n",
        "\n",
        "       requester_upvotes_minus_downvotes_at_request  \\\n",
        "count                                    994.000000   \n",
        "mean                                    1372.060362   \n",
        "std                                     5419.691555   \n",
        "min                                      -39.000000   \n",
        "25%                                       23.250000   \n",
        "50%                                      285.500000   \n",
        "75%                                     1382.750000   \n",
        "max                                   155010.000000   \n",
        "\n",
        "       requester_upvotes_plus_downvotes_at_request  unix_timestamp_of_request  \\\n",
        "count                                   994.000000               9.940000e+02   \n",
        "mean                                   4923.700201               1.338609e+09   \n",
        "std                                   42166.366870               2.317988e+07   \n",
        "min                                       0.000000               1.306095e+09   \n",
        "25%                                      45.000000               1.316329e+09   \n",
        "50%                                     562.000000               1.336384e+09   \n",
        "75%                                    2937.250000               1.359247e+09   \n",
        "max                                 1286864.000000               1.381297e+09   \n",
        "\n",
        "       unix_timestamp_of_request_utc  \n",
        "count                   9.940000e+02  \n",
        "mean                    1.338606e+09  \n",
        "std                     2.317956e+07  \n",
        "min                     1.306091e+09  \n",
        "25%                     1.316325e+09  \n",
        "50%                     1.336381e+09  \n",
        "75%                     1.359247e+09  \n",
        "max                     1.381268e+09  "
       ]
      }
     ],
     "prompt_number": 44
    },
    {
     "cell_type": "code",
     "collapsed": false,
     "input": [
      "nopizzadf.describe()"
     ],
     "language": "python",
     "metadata": {},
     "outputs": [
      {
       "html": [
        "<div style=\"max-height:1000px;max-width:1500px;overflow:auto;\">\n",
        "<table border=\"1\" class=\"dataframe\">\n",
        "  <thead>\n",
        "    <tr style=\"text-align: right;\">\n",
        "      <th></th>\n",
        "      <th>requester_account_age_in_days_at_request</th>\n",
        "      <th>requester_days_since_first_post_on_raop_at_request</th>\n",
        "      <th>requester_number_of_comments_at_request</th>\n",
        "      <th>requester_number_of_comments_in_raop_at_request</th>\n",
        "      <th>requester_number_of_posts_at_request</th>\n",
        "      <th>requester_number_of_posts_on_raop_at_request</th>\n",
        "      <th>requester_number_of_subreddits_at_request</th>\n",
        "      <th>requester_received_pizza</th>\n",
        "      <th>requester_upvotes_minus_downvotes_at_request</th>\n",
        "      <th>requester_upvotes_plus_downvotes_at_request</th>\n",
        "      <th>unix_timestamp_of_request</th>\n",
        "      <th>unix_timestamp_of_request_utc</th>\n",
        "    </tr>\n",
        "  </thead>\n",
        "  <tbody>\n",
        "    <tr>\n",
        "      <th>count</th>\n",
        "      <td> 3046.000000</td>\n",
        "      <td> 3046.000000</td>\n",
        "      <td> 3046.000000</td>\n",
        "      <td> 3046.000000</td>\n",
        "      <td> 3046.000000</td>\n",
        "      <td> 3046.000000</td>\n",
        "      <td> 3046.000000</td>\n",
        "      <td>  3046</td>\n",
        "      <td>  3046.000000</td>\n",
        "      <td>   3046.000000</td>\n",
        "      <td> 3.046000e+03</td>\n",
        "      <td> 3.046000e+03</td>\n",
        "    </tr>\n",
        "    <tr>\n",
        "      <th>mean</th>\n",
        "      <td>  247.348502</td>\n",
        "      <td>   12.453199</td>\n",
        "      <td>  111.368352</td>\n",
        "      <td>    0.389035</td>\n",
        "      <td>   21.002298</td>\n",
        "      <td>    0.038083</td>\n",
        "      <td>   17.609324</td>\n",
        "      <td>     0</td>\n",
        "      <td>  1090.904465</td>\n",
        "      <td>   3358.015430</td>\n",
        "      <td> 1.344206e+09</td>\n",
        "      <td> 1.344203e+09</td>\n",
        "    </tr>\n",
        "    <tr>\n",
        "      <th>std</th>\n",
        "      <td>  299.802716</td>\n",
        "      <td>   59.190392</td>\n",
        "      <td>  190.172257</td>\n",
        "      <td>    1.944889</td>\n",
        "      <td>   50.353551</td>\n",
        "      <td>    0.218656</td>\n",
        "      <td>   21.843488</td>\n",
        "      <td>     0</td>\n",
        "      <td>  2956.582633</td>\n",
        "      <td>  17467.638203</td>\n",
        "      <td> 2.321784e+07</td>\n",
        "      <td> 2.321705e+07</td>\n",
        "    </tr>\n",
        "    <tr>\n",
        "      <th>min</th>\n",
        "      <td>    0.000000</td>\n",
        "      <td>    0.000000</td>\n",
        "      <td>    0.000000</td>\n",
        "      <td>    0.000000</td>\n",
        "      <td>    0.000000</td>\n",
        "      <td>    0.000000</td>\n",
        "      <td>    0.000000</td>\n",
        "      <td> False</td>\n",
        "      <td>  -173.000000</td>\n",
        "      <td>      0.000000</td>\n",
        "      <td> 1.297723e+09</td>\n",
        "      <td> 1.297723e+09</td>\n",
        "    </tr>\n",
        "    <tr>\n",
        "      <th>25%</th>\n",
        "      <td>    0.005729</td>\n",
        "      <td>    0.000000</td>\n",
        "      <td>    0.000000</td>\n",
        "      <td>    0.000000</td>\n",
        "      <td>    0.000000</td>\n",
        "      <td>    0.000000</td>\n",
        "      <td>    1.000000</td>\n",
        "      <td>     0</td>\n",
        "      <td>     1.000000</td>\n",
        "      <td>      4.000000</td>\n",
        "      <td> 1.322381e+09</td>\n",
        "      <td> 1.322381e+09</td>\n",
        "    </tr>\n",
        "    <tr>\n",
        "      <th>50%</th>\n",
        "      <td>  144.698495</td>\n",
        "      <td>    0.000000</td>\n",
        "      <td>   20.000000</td>\n",
        "      <td>    0.000000</td>\n",
        "      <td>    4.000000</td>\n",
        "      <td>    0.000000</td>\n",
        "      <td>   10.000000</td>\n",
        "      <td>     0</td>\n",
        "      <td>   135.500000</td>\n",
        "      <td>    270.500000</td>\n",
        "      <td> 1.344057e+09</td>\n",
        "      <td> 1.344053e+09</td>\n",
        "    </tr>\n",
        "    <tr>\n",
        "      <th>75%</th>\n",
        "      <td>  385.869005</td>\n",
        "      <td>    0.000000</td>\n",
        "      <td>  134.000000</td>\n",
        "      <td>    0.000000</td>\n",
        "      <td>   21.000000</td>\n",
        "      <td>    0.000000</td>\n",
        "      <td>   27.000000</td>\n",
        "      <td>     0</td>\n",
        "      <td>  1082.500000</td>\n",
        "      <td>   2134.250000</td>\n",
        "      <td> 1.365886e+09</td>\n",
        "      <td> 1.365882e+09</td>\n",
        "    </tr>\n",
        "    <tr>\n",
        "      <th>max</th>\n",
        "      <td> 2809.750787</td>\n",
        "      <td>  739.771007</td>\n",
        "      <td>  994.000000</td>\n",
        "      <td>   52.000000</td>\n",
        "      <td>  867.000000</td>\n",
        "      <td>    3.000000</td>\n",
        "      <td>  186.000000</td>\n",
        "      <td> False</td>\n",
        "      <td> 87911.000000</td>\n",
        "      <td> 789287.000000</td>\n",
        "      <td> 1.381552e+09</td>\n",
        "      <td> 1.381523e+09</td>\n",
        "    </tr>\n",
        "  </tbody>\n",
        "</table>\n",
        "</div>"
       ],
       "metadata": {},
       "output_type": "pyout",
       "prompt_number": 45,
       "text": [
        "       requester_account_age_in_days_at_request  \\\n",
        "count                               3046.000000   \n",
        "mean                                 247.348502   \n",
        "std                                  299.802716   \n",
        "min                                    0.000000   \n",
        "25%                                    0.005729   \n",
        "50%                                  144.698495   \n",
        "75%                                  385.869005   \n",
        "max                                 2809.750787   \n",
        "\n",
        "       requester_days_since_first_post_on_raop_at_request  \\\n",
        "count                                        3046.000000    \n",
        "mean                                           12.453199    \n",
        "std                                            59.190392    \n",
        "min                                             0.000000    \n",
        "25%                                             0.000000    \n",
        "50%                                             0.000000    \n",
        "75%                                             0.000000    \n",
        "max                                           739.771007    \n",
        "\n",
        "       requester_number_of_comments_at_request  \\\n",
        "count                              3046.000000   \n",
        "mean                                111.368352   \n",
        "std                                 190.172257   \n",
        "min                                   0.000000   \n",
        "25%                                   0.000000   \n",
        "50%                                  20.000000   \n",
        "75%                                 134.000000   \n",
        "max                                 994.000000   \n",
        "\n",
        "       requester_number_of_comments_in_raop_at_request  \\\n",
        "count                                      3046.000000   \n",
        "mean                                          0.389035   \n",
        "std                                           1.944889   \n",
        "min                                           0.000000   \n",
        "25%                                           0.000000   \n",
        "50%                                           0.000000   \n",
        "75%                                           0.000000   \n",
        "max                                          52.000000   \n",
        "\n",
        "       requester_number_of_posts_at_request  \\\n",
        "count                           3046.000000   \n",
        "mean                              21.002298   \n",
        "std                               50.353551   \n",
        "min                                0.000000   \n",
        "25%                                0.000000   \n",
        "50%                                4.000000   \n",
        "75%                               21.000000   \n",
        "max                              867.000000   \n",
        "\n",
        "       requester_number_of_posts_on_raop_at_request  \\\n",
        "count                                   3046.000000   \n",
        "mean                                       0.038083   \n",
        "std                                        0.218656   \n",
        "min                                        0.000000   \n",
        "25%                                        0.000000   \n",
        "50%                                        0.000000   \n",
        "75%                                        0.000000   \n",
        "max                                        3.000000   \n",
        "\n",
        "       requester_number_of_subreddits_at_request requester_received_pizza  \\\n",
        "count                                3046.000000                     3046   \n",
        "mean                                   17.609324                        0   \n",
        "std                                    21.843488                        0   \n",
        "min                                     0.000000                    False   \n",
        "25%                                     1.000000                        0   \n",
        "50%                                    10.000000                        0   \n",
        "75%                                    27.000000                        0   \n",
        "max                                   186.000000                    False   \n",
        "\n",
        "       requester_upvotes_minus_downvotes_at_request  \\\n",
        "count                                   3046.000000   \n",
        "mean                                    1090.904465   \n",
        "std                                     2956.582633   \n",
        "min                                     -173.000000   \n",
        "25%                                        1.000000   \n",
        "50%                                      135.500000   \n",
        "75%                                     1082.500000   \n",
        "max                                    87911.000000   \n",
        "\n",
        "       requester_upvotes_plus_downvotes_at_request  unix_timestamp_of_request  \\\n",
        "count                                  3046.000000               3.046000e+03   \n",
        "mean                                   3358.015430               1.344206e+09   \n",
        "std                                   17467.638203               2.321784e+07   \n",
        "min                                       0.000000               1.297723e+09   \n",
        "25%                                       4.000000               1.322381e+09   \n",
        "50%                                     270.500000               1.344057e+09   \n",
        "75%                                    2134.250000               1.365886e+09   \n",
        "max                                  789287.000000               1.381552e+09   \n",
        "\n",
        "       unix_timestamp_of_request_utc  \n",
        "count                   3.046000e+03  \n",
        "mean                    1.344203e+09  \n",
        "std                     2.321705e+07  \n",
        "min                     1.297723e+09  \n",
        "25%                     1.322381e+09  \n",
        "50%                     1.344053e+09  \n",
        "75%                     1.365882e+09  \n",
        "max                     1.381523e+09  "
       ]
      }
     ],
     "prompt_number": 45
    },
    {
     "cell_type": "code",
     "collapsed": false,
     "input": [
      "df.dtypes[df.dtypes.map(lambda x: x=='object')].index"
     ],
     "language": "python",
     "metadata": {},
     "outputs": [
      {
       "metadata": {},
       "output_type": "pyout",
       "prompt_number": 46,
       "text": [
        "Index([u'request_id', u'request_text_edit_aware', u'request_title', u'requester_subreddits_at_request', u'requester_username'], dtype='object')"
       ]
      }
     ],
     "prompt_number": 46
    },
    {
     "cell_type": "code",
     "collapsed": false,
     "input": [
      "numdf = df.drop([u'request_id', u'request_text_edit_aware', u'request_title', u'requester_subreddits_at_request', u'requester_username'],axis=1)\n",
      "numdfTest = testdf.drop([u'giver_username_if_known', u'request_id', u'request_text_edit_aware', u'request_title', u'requester_subreddits_at_request', u'requester_username'],axis=1)"
     ],
     "language": "python",
     "metadata": {},
     "outputs": [],
     "prompt_number": 47
    },
    {
     "cell_type": "code",
     "collapsed": false,
     "input": [
      "cols = numdf.columns.tolist()\n",
      "cols = cols[-5:] + cols[:-5]\n",
      "numdf = numdf[cols]"
     ],
     "language": "python",
     "metadata": {},
     "outputs": [],
     "prompt_number": 48
    },
    {
     "cell_type": "code",
     "collapsed": false,
     "input": [
      "cols = numdfTest.columns.tolist()\n",
      "cols = cols[-4:] + cols[:-4]\n",
      "numdfTest = numdfTest[cols]"
     ],
     "language": "python",
     "metadata": {},
     "outputs": [],
     "prompt_number": 49
    },
    {
     "cell_type": "code",
     "collapsed": false,
     "input": [
      "numdf.info()\n",
      "numdfTest.info()"
     ],
     "language": "python",
     "metadata": {},
     "outputs": [
      {
       "output_type": "stream",
       "stream": "stdout",
       "text": [
        "<class 'pandas.core.frame.DataFrame'>\n",
        "Int64Index: 4040 entries, 0 to 4039\n",
        "Data columns (total 12 columns):\n",
        "requester_received_pizza                              4040 non-null bool\n",
        "requester_upvotes_minus_downvotes_at_request          4040 non-null int64\n",
        "requester_upvotes_plus_downvotes_at_request           4040 non-null int64\n",
        "unix_timestamp_of_request                             4040 non-null int64\n",
        "unix_timestamp_of_request_utc                         4040 non-null int64\n",
        "requester_account_age_in_days_at_request              4040 non-null float64\n",
        "requester_days_since_first_post_on_raop_at_request    4040 non-null float64\n",
        "requester_number_of_comments_at_request               4040 non-null int64\n",
        "requester_number_of_comments_in_raop_at_request       4040 non-null int64\n",
        "requester_number_of_posts_at_request                  4040 non-null int64\n",
        "requester_number_of_posts_on_raop_at_request          4040 non-null int64\n",
        "requester_number_of_subreddits_at_request             4040 non-null int64\n",
        "dtypes: bool(1), float64(2), int64(9)<class 'pandas.core.frame.DataFrame'>\n",
        "Int64Index: 1631 entries, 0 to 1630\n",
        "Data columns (total 11 columns):\n",
        "requester_upvotes_minus_downvotes_at_request          1631 non-null int64\n",
        "requester_upvotes_plus_downvotes_at_request           1631 non-null int64\n",
        "unix_timestamp_of_request                             1631 non-null int64\n",
        "unix_timestamp_of_request_utc                         1631 non-null int64\n",
        "requester_account_age_in_days_at_request              1631 non-null float64\n",
        "requester_days_since_first_post_on_raop_at_request    1631 non-null float64\n",
        "requester_number_of_comments_at_request               1631 non-null int64\n",
        "requester_number_of_comments_in_raop_at_request       1631 non-null int64\n",
        "requester_number_of_posts_at_request                  1631 non-null int64\n",
        "requester_number_of_posts_on_raop_at_request          1631 non-null int64\n",
        "requester_number_of_subreddits_at_request             1631 non-null int64\n",
        "dtypes: float64(2), int64(9)"
       ]
      }
     ],
     "prompt_number": 50
    },
    {
     "cell_type": "code",
     "collapsed": false,
     "input": [
      "trainData=numdf.values\n",
      "testData=numdfTest.values"
     ],
     "language": "python",
     "metadata": {},
     "outputs": [],
     "prompt_number": 51
    },
    {
     "cell_type": "code",
     "collapsed": false,
     "input": [
      "from sklearn.ensemble import RandomForestClassifier "
     ],
     "language": "python",
     "metadata": {},
     "outputs": [],
     "prompt_number": 52
    },
    {
     "cell_type": "code",
     "collapsed": false,
     "input": [
      "forest = RandomForestClassifier(n_estimators = 10)"
     ],
     "language": "python",
     "metadata": {},
     "outputs": [],
     "prompt_number": 53
    },
    {
     "cell_type": "code",
     "collapsed": false,
     "input": [
      "X_train=trainData[0::,1::].astype(float)\n",
      "y_train=trainData[0::,0].astype(int)\n",
      "forest = forest.fit(X_train,y_train)"
     ],
     "language": "python",
     "metadata": {},
     "outputs": [],
     "prompt_number": 54
    },
    {
     "cell_type": "code",
     "collapsed": false,
     "input": [
      "output = forest.predict(testData).astype(int)"
     ],
     "language": "python",
     "metadata": {},
     "outputs": [],
     "prompt_number": 55
    },
    {
     "cell_type": "code",
     "collapsed": false,
     "input": [
      "predicted = forest.predict(trainData[0::,1::]).astype(int)\n",
      "expected = trainData[0::,0].astype(int)"
     ],
     "language": "python",
     "metadata": {},
     "outputs": [],
     "prompt_number": 56
    },
    {
     "cell_type": "code",
     "collapsed": false,
     "input": [
      "for i in range(len(X_train[0])):\n",
      "    print np.mean(X_train[:,i])"
     ],
     "language": "python",
     "metadata": {},
     "outputs": [
      {
       "output_type": "stream",
       "stream": "stdout",
       "text": [
        "1160.0799505\n",
        "3743.23589109\n",
        "1342829162.19\n",
        "1342826014.87\n",
        "254.586579437\n",
        "16.4170339659\n",
        "115.098267327\n",
        "0.64504950495\n",
        "21.6014851485\n",
        "0.0636138613861\n",
        "18.0767326733\n"
       ]
      }
     ],
     "prompt_number": 57
    },
    {
     "cell_type": "code",
     "collapsed": false,
     "input": [
      "print(sk.metrics.classification_report(expected, predicted))"
     ],
     "language": "python",
     "metadata": {},
     "outputs": [
      {
       "output_type": "stream",
       "stream": "stdout",
       "text": [
        "             precision    recall  f1-score   support\n",
        "\n",
        "          0       0.97      1.00      0.98      3046\n",
        "          1       0.99      0.90      0.94       994\n",
        "\n",
        "avg / total       0.97      0.97      0.97      4040\n",
        "\n"
       ]
      }
     ],
     "prompt_number": 58
    },
    {
     "cell_type": "code",
     "collapsed": false,
     "input": [
      "print(sk.metrics.confusion_matrix(expected, predicted))"
     ],
     "language": "python",
     "metadata": {},
     "outputs": [
      {
       "output_type": "stream",
       "stream": "stdout",
       "text": [
        "[[3037    9]\n",
        " [ 100  894]]\n"
       ]
      }
     ],
     "prompt_number": 59
    },
    {
     "cell_type": "code",
     "collapsed": false,
     "input": [
      "#pizzaSVM = sk.linear_model.SGDClassifier(loss='hinge',penalty='l2',alpha='0.0001')"
     ],
     "language": "python",
     "metadata": {},
     "outputs": [],
     "prompt_number": 60
    },
    {
     "cell_type": "code",
     "collapsed": false,
     "input": [
      "X_train.shape,y_train.shape"
     ],
     "language": "python",
     "metadata": {},
     "outputs": [
      {
       "metadata": {},
       "output_type": "pyout",
       "prompt_number": 61,
       "text": [
        "((4040, 11), (4040,))"
       ]
      }
     ],
     "prompt_number": 61
    },
    {
     "cell_type": "code",
     "collapsed": false,
     "input": [
      "from sklearn import svm\n",
      "from sklearn import datasets"
     ],
     "language": "python",
     "metadata": {},
     "outputs": [],
     "prompt_number": 63
    },
    {
     "cell_type": "code",
     "collapsed": false,
     "input": [
      "scaling = sk.preprocessing.StandardScaler()\n",
      "X_train = scaling.fit_transform(X_train)"
     ],
     "language": "python",
     "metadata": {},
     "outputs": [],
     "prompt_number": 77
    },
    {
     "cell_type": "code",
     "collapsed": false,
     "input": [
      "iris = datasets.load_iris()\n",
      "iX_train, iX_test, iy_train, iy_test = sk.cross_validation.train_test_split(iris.data, iris.target, test_size=0.4, random_state=0)\n",
      "clf = svm.SVC(kernel='linear', C=1).fit(iX_train, iy_train)"
     ],
     "language": "python",
     "metadata": {},
     "outputs": [],
     "prompt_number": 18
    },
    {
     "cell_type": "code",
     "collapsed": false,
     "input": [
      "iX_train, iX_test, iy_train, iy_test = sk.cross_validation.train_test_split(X_train, y_train, test_size=0.4, random_state=0)"
     ],
     "language": "python",
     "metadata": {},
     "outputs": [],
     "prompt_number": 78
    },
    {
     "cell_type": "code",
     "collapsed": false,
     "input": [
      "clf = svm.SVC(kernel='linear', C=1).fit(iX_train, iy_train)\n",
      "clf.score(iX_test, iy_test)"
     ],
     "language": "python",
     "metadata": {},
     "outputs": [
      {
       "metadata": {},
       "output_type": "pyout",
       "prompt_number": 80,
       "text": [
        "0.75556930693069302"
       ]
      }
     ],
     "prompt_number": 80
    },
    {
     "cell_type": "code",
     "collapsed": false,
     "input": [
      "#pizzaSVM = svm.SVC(kernel='linear', C=1).fit(X_train, y_train)"
     ],
     "language": "python",
     "metadata": {},
     "outputs": []
    },
    {
     "cell_type": "code",
     "collapsed": false,
     "input": [
      "#pizzaSVM.fit(X_train,y_train)"
     ],
     "language": "python",
     "metadata": {},
     "outputs": []
    },
    {
     "cell_type": "code",
     "collapsed": false,
     "input": [
      "#scores = sk.cross_validation.cross_val_score(pizzaSVM, X_train, y_train, cv=5, scoring='f1')"
     ],
     "language": "python",
     "metadata": {},
     "outputs": [],
     "prompt_number": 169
    },
    {
     "cell_type": "code",
     "collapsed": false,
     "input": [],
     "language": "python",
     "metadata": {},
     "outputs": [
      {
       "metadata": {},
       "output_type": "pyout",
       "prompt_number": 16,
       "text": [
        "['/opt/local/Library/Frameworks/Python.framework/Versions/2.7/lib/python2.7/site-packages/sklearn']"
       ]
      }
     ],
     "prompt_number": 16
    },
    {
     "cell_type": "code",
     "collapsed": false,
     "input": [],
     "language": "python",
     "metadata": {},
     "outputs": []
    },
    {
     "cell_type": "code",
     "collapsed": false,
     "input": [
      "ids=testdf['request_id'].values\n",
      "ids"
     ],
     "language": "python",
     "metadata": {},
     "outputs": []
    },
    {
     "cell_type": "code",
     "collapsed": false,
     "input": [
      "predictions_file = open(\"submitDS1.csv\", \"wb\")\n",
      "open_file_object = csv.writer(predictions_file)\n",
      "open_file_object.writerow([\"request_id\",\"requester_received_pizza\"])\n",
      "open_file_object.writerows(zip(ids, output))\n",
      "predictions_file.close()"
     ],
     "language": "python",
     "metadata": {},
     "outputs": []
    },
    {
     "cell_type": "code",
     "collapsed": true,
     "input": [
      "np.mean(output)"
     ],
     "language": "python",
     "metadata": {},
     "outputs": []
    },
    {
     "cell_type": "code",
     "collapsed": false,
     "input": [
      "df.requester_received_pizza.describe()"
     ],
     "language": "python",
     "metadata": {},
     "outputs": []
    },
    {
     "cell_type": "code",
     "collapsed": false,
     "input": [],
     "language": "python",
     "metadata": {},
     "outputs": []
    }
   ],
   "metadata": {}
  }
 ]
}